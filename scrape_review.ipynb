{
 "cells": [
  {
   "cell_type": "code",
   "execution_count": 1,
   "id": "7641f208-c610-42b8-94bc-37ce3c18276f",
   "metadata": {},
   "outputs": [],
   "source": [
    "import pandas as pd\n",
    "from requests import get\n",
    "from bs4 import BeautifulSoup as soupify"
   ]
  },
  {
   "cell_type": "code",
   "execution_count": 2,
   "id": "3b074047-ed29-48d5-a848-9953f493a9cc",
   "metadata": {},
   "outputs": [],
   "source": [
    "# establish a base url for our requests:\n",
    "url = 'https://codeup.com/blog/'"
   ]
  },
  {
   "cell_type": "code",
   "execution_count": 3,
   "id": "74d215fa-07a9-43c0-a9df-4e89b134f9e3",
   "metadata": {},
   "outputs": [],
   "source": [
    "# we need to specify some user agent for the codeup site\n",
    "# non-specified user agents are rejected\n",
    "header = {'User-Agent': 'hamsandwich'}"
   ]
  },
  {
   "cell_type": "code",
   "execution_count": 4,
   "id": "73f28b84-a7fb-4066-86cb-d2820a41f04f",
   "metadata": {},
   "outputs": [
    {
     "data": {
      "text/plain": [
       "<Response [200]>"
      ]
     },
     "execution_count": 4,
     "metadata": {},
     "output_type": "execute_result"
    }
   ],
   "source": [
    "# try passing get without a header, we get a 403\n",
    "get(url, headers=header)"
   ]
  },
  {
   "cell_type": "code",
   "execution_count": 5,
   "id": "0113e1ca-9a48-454e-8188-fdd5a516f53a",
   "metadata": {},
   "outputs": [],
   "source": [
    "# establish our basic soup with the base url\n",
    "soup = soupify(get(url, headers=header).content)"
   ]
  },
  {
   "cell_type": "code",
   "execution_count": 6,
   "id": "111fdcf8-0ac1-43c4-983c-e44573cc529f",
   "metadata": {},
   "outputs": [],
   "source": [
    "# soup"
   ]
  },
  {
   "cell_type": "code",
   "execution_count": 7,
   "id": "c4ced185-56a6-4ccc-b848-b32e5d1f62c3",
   "metadata": {},
   "outputs": [],
   "source": [
    "# soup.find_all('a', class_='more-link')"
   ]
  },
  {
   "cell_type": "code",
   "execution_count": 8,
   "id": "b360bf5c-83f3-4682-9921-cb3bd8d0dd99",
   "metadata": {},
   "outputs": [
    {
     "data": {
      "text/plain": [
       "'https://codeup.com/codeup-news/dei-report/'"
      ]
     },
     "execution_count": 8,
     "metadata": {},
     "output_type": "execute_result"
    }
   ],
   "source": [
    "soup.select('a.more-link')[0]['href']"
   ]
  },
  {
   "cell_type": "code",
   "execution_count": 9,
   "id": "a51111a0-81d8-4d4d-b252-88e48633d20f",
   "metadata": {},
   "outputs": [],
   "source": [
    "# let's get our list of urls iteratively:\n",
    "blog_posts = [link['href'] for link in soup.select('a.more-link')]"
   ]
  },
  {
   "cell_type": "code",
   "execution_count": 10,
   "id": "a010df84-7e34-4103-9d42-7542f5579373",
   "metadata": {},
   "outputs": [],
   "source": [
    "# start building our function:\n",
    "# first step: grab the article links:\n",
    "def get_blog_urls(base_url, header={'User-Agent': 'hamsandwich'}):\n",
    "    soup = soupify(get(url, headers=header).content)\n",
    "    return [link['href'] for link in soup.select('a.more-link')]"
   ]
  },
  {
   "cell_type": "code",
   "execution_count": 11,
   "id": "735c195a-9efb-427b-8745-437f8a8bd293",
   "metadata": {},
   "outputs": [
    {
     "data": {
      "text/plain": [
       "['https://codeup.com/codeup-news/dei-report/',\n",
       " 'https://codeup.com/codeup-news/diversity-and-inclusion-award/',\n",
       " 'https://codeup.com/featured/financing-career-transition/',\n",
       " 'https://codeup.com/tips-for-prospective-students/tips-for-women/',\n",
       " 'https://codeup.com/cloud-administration/cloud-computing-and-aws/',\n",
       " 'https://codeup.com/codeup-news/c-suite-award-stephen-noteboom/']"
      ]
     },
     "execution_count": 11,
     "metadata": {},
     "output_type": "execute_result"
    }
   ],
   "source": [
    "get_blog_urls(url)"
   ]
  },
  {
   "cell_type": "code",
   "execution_count": 12,
   "id": "b86a0af2-7a05-4bb8-940c-41313789d73d",
   "metadata": {},
   "outputs": [],
   "source": [
    "# i want to grab two things:\n",
    "# title\n",
    "# content\n",
    "# task: find where each lives"
   ]
  },
  {
   "cell_type": "code",
   "execution_count": 13,
   "id": "768f19f2-6078-4447-b0f9-49018b74903f",
   "metadata": {},
   "outputs": [],
   "source": [
    "article_soup = soupify(get(\n",
    "    'https://codeup.com/codeup-news/dei-report/',\n",
    "    headers=header\n",
    ").content)"
   ]
  },
  {
   "cell_type": "code",
   "execution_count": 14,
   "id": "1df690e1-1cd9-459f-b00f-ea994560a6ba",
   "metadata": {},
   "outputs": [
    {
     "data": {
      "text/plain": [
       "'Diversity Equity and Inclusion Report'"
      ]
     },
     "execution_count": 14,
     "metadata": {},
     "output_type": "execute_result"
    }
   ],
   "source": [
    "# if I only have one thing, use select_one\n",
    "article_soup.select_one('h1.entry-title').text"
   ]
  },
  {
   "cell_type": "code",
   "execution_count": 15,
   "id": "6ffbc62d-2e08-4387-abe1-32efe5d03ade",
   "metadata": {},
   "outputs": [
    {
     "data": {
      "text/plain": [
       "'Codeup is excited to launch our first Diversity Equity, and Inclusion (DEI) report! In over eight years as an organization, we’ve implemented policies and grown our DEI efforts. We are extremely proud of the progress we’ve made as a staff and Codeup community, and we recognize there is more to learn. This report captures some of the ways that we’ve lived our value of Cultivating Inclusive Growth, and how we will continue doing so as we look to the future.\\nWe wanted to shine a light on the demographics of our students and staff, and in particular how that compares to the tech industry as a whole. How we collect, organize, and share employee demographic data is informed by standards set by the Equal Employment Opportunity Commission (EEOC).\\nWe are proud to celebrate how we’ve grown and are motivated and committed to do more and be better. To view the report visit the link here, or download it below.'"
      ]
     },
     "execution_count": 15,
     "metadata": {},
     "output_type": "execute_result"
    }
   ],
   "source": [
    "# let's get the article content now:\n",
    "article_soup.select_one('div.entry-content').text.strip()"
   ]
  },
  {
   "cell_type": "code",
   "execution_count": 16,
   "id": "d2194177-9f69-42ad-82a8-4cc8e3b41d8b",
   "metadata": {},
   "outputs": [],
   "source": [
    "def get_blog_content(base_url):\n",
    "    blog_links = get_blog_urls(base_url)\n",
    "    all_blogs = []\n",
    "    for blog in blog_links:\n",
    "        blog_soup = soupify(\n",
    "            get(blog,\n",
    "                headers=header).content)\n",
    "        blog_content = {'title': blog_soup.select_one(\n",
    "            'h1.entry-title').text,\n",
    "        'content': blog_soup.select_one(\n",
    "            'div.entry-content').text.strip()}\n",
    "        all_blogs.append(blog_content)\n",
    "    return all_blogs"
   ]
  },
  {
   "cell_type": "code",
   "execution_count": 17,
   "id": "17bafa52-a99e-4cfa-8619-8fc38e390c0c",
   "metadata": {},
   "outputs": [
    {
     "data": {
      "text/plain": [
       "'https://codeup.com/blog/'"
      ]
     },
     "execution_count": 17,
     "metadata": {},
     "output_type": "execute_result"
    }
   ],
   "source": [
    "url"
   ]
  },
  {
   "cell_type": "code",
   "execution_count": 18,
   "id": "09723d5e-6d11-4230-86a7-97bfbb3244f8",
   "metadata": {},
   "outputs": [],
   "source": [
    "my_blogs = pd.DataFrame(get_blog_content(url))"
   ]
  },
  {
   "cell_type": "code",
   "execution_count": 19,
   "id": "d0e26e7a-e46d-4ea9-b9e4-041c782a2438",
   "metadata": {},
   "outputs": [
    {
     "data": {
      "text/html": [
       "<div>\n",
       "<style scoped>\n",
       "    .dataframe tbody tr th:only-of-type {\n",
       "        vertical-align: middle;\n",
       "    }\n",
       "\n",
       "    .dataframe tbody tr th {\n",
       "        vertical-align: top;\n",
       "    }\n",
       "\n",
       "    .dataframe thead th {\n",
       "        text-align: right;\n",
       "    }\n",
       "</style>\n",
       "<table border=\"1\" class=\"dataframe\">\n",
       "  <thead>\n",
       "    <tr style=\"text-align: right;\">\n",
       "      <th></th>\n",
       "      <th>title</th>\n",
       "      <th>content</th>\n",
       "    </tr>\n",
       "  </thead>\n",
       "  <tbody>\n",
       "    <tr>\n",
       "      <th>0</th>\n",
       "      <td>Diversity Equity and Inclusion Report</td>\n",
       "      <td>Codeup is excited to launch our first Diversit...</td>\n",
       "    </tr>\n",
       "    <tr>\n",
       "      <th>1</th>\n",
       "      <td>Codeup Honored as SABJ Diversity and Inclusion...</td>\n",
       "      <td>Codeup has been named the 2022 Diversity and I...</td>\n",
       "    </tr>\n",
       "    <tr>\n",
       "      <th>2</th>\n",
       "      <td>How Can I Finance My Career Transition?</td>\n",
       "      <td>Deciding to transition into a tech career is a...</td>\n",
       "    </tr>\n",
       "    <tr>\n",
       "      <th>3</th>\n",
       "      <td>Tips for Women Beginning a Career in Tech</td>\n",
       "      <td>Codeup strongly values diversity, and inclusio...</td>\n",
       "    </tr>\n",
       "    <tr>\n",
       "      <th>4</th>\n",
       "      <td>What is Cloud Computing and AWS?</td>\n",
       "      <td>With many companies switching to cloud service...</td>\n",
       "    </tr>\n",
       "    <tr>\n",
       "      <th>5</th>\n",
       "      <td>2022 SABJ C-Suite Award Winner: Stephen Noteboom</td>\n",
       "      <td>Codeup’s Chief Operating Officer, Stephen Note...</td>\n",
       "    </tr>\n",
       "  </tbody>\n",
       "</table>\n",
       "</div>"
      ],
      "text/plain": [
       "                                               title  \\\n",
       "0              Diversity Equity and Inclusion Report   \n",
       "1  Codeup Honored as SABJ Diversity and Inclusion...   \n",
       "2            How Can I Finance My Career Transition?   \n",
       "3          Tips for Women Beginning a Career in Tech   \n",
       "4                   What is Cloud Computing and AWS?   \n",
       "5   2022 SABJ C-Suite Award Winner: Stephen Noteboom   \n",
       "\n",
       "                                             content  \n",
       "0  Codeup is excited to launch our first Diversit...  \n",
       "1  Codeup has been named the 2022 Diversity and I...  \n",
       "2  Deciding to transition into a tech career is a...  \n",
       "3  Codeup strongly values diversity, and inclusio...  \n",
       "4  With many companies switching to cloud service...  \n",
       "5  Codeup’s Chief Operating Officer, Stephen Note...  "
      ]
     },
     "execution_count": 19,
     "metadata": {},
     "output_type": "execute_result"
    }
   ],
   "source": [
    "my_blogs"
   ]
  },
  {
   "cell_type": "markdown",
   "id": "07fe34b0-369c-4444-b640-7fc5ce0f2e91",
   "metadata": {},
   "source": [
    "Lets get the second tasking for InShorts:"
   ]
  },
  {
   "cell_type": "code",
   "execution_count": 20,
   "id": "4dc92ddb-5ce7-46d3-8997-409e9767bb4c",
   "metadata": {},
   "outputs": [],
   "source": [
    "url = 'https://inshorts.com/en/read'"
   ]
  },
  {
   "cell_type": "code",
   "execution_count": 21,
   "id": "4dde5c21-f72c-4eb6-a957-53841a61b69f",
   "metadata": {},
   "outputs": [],
   "source": [
    "soup = soupify(get(url).content)"
   ]
  },
  {
   "cell_type": "code",
   "execution_count": 22,
   "id": "79e79070-ed40-4d47-bc66-e247750bd967",
   "metadata": {},
   "outputs": [
    {
     "data": {
      "text/plain": [
       "'india'"
      ]
     },
     "execution_count": 22,
     "metadata": {},
     "output_type": "execute_result"
    }
   ],
   "source": [
    "soup.find_all('li')[1].text.lower()"
   ]
  },
  {
   "cell_type": "code",
   "execution_count": 23,
   "id": "b3cfe8da-2313-4b45-b51b-44773faa433e",
   "metadata": {},
   "outputs": [
    {
     "data": {
      "text/plain": [
       "'https://inshorts.com/en/read/india'"
      ]
     },
     "execution_count": 23,
     "metadata": {},
     "output_type": "execute_result"
    }
   ],
   "source": [
    "# try concatenation:\n",
    "url + '/' + soup.find_all('li')[1].text.lower()"
   ]
  },
  {
   "cell_type": "code",
   "execution_count": 24,
   "id": "670ecbc8-b747-4a15-b59f-e8df56aabc10",
   "metadata": {},
   "outputs": [],
   "source": [
    "def get_cats(base_url):\n",
    "    soup = soupify(get(base_url).content)\n",
    "    return [cat.text.lower() for cat in soup.find_all('li')[1:]]"
   ]
  },
  {
   "cell_type": "code",
   "execution_count": 25,
   "id": "c5ca3af8-409c-4c6b-b3db-88b796947978",
   "metadata": {},
   "outputs": [
    {
     "data": {
      "text/plain": [
       "['india',\n",
       " 'business',\n",
       " 'sports',\n",
       " 'world',\n",
       " 'politics',\n",
       " 'technology',\n",
       " 'startup',\n",
       " 'entertainment',\n",
       " 'miscellaneous',\n",
       " 'hatke',\n",
       " 'science',\n",
       " 'automobile']"
      ]
     },
     "execution_count": 25,
     "metadata": {},
     "output_type": "execute_result"
    }
   ],
   "source": [
    "get_cats(url)"
   ]
  },
  {
   "cell_type": "code",
   "execution_count": 26,
   "id": "75933703-279f-46f2-abf6-a69d96967a39",
   "metadata": {},
   "outputs": [],
   "source": [
    "# lets make a first go of everything\n",
    "# we need at this point:\n",
    "# titles on each category page\n",
    "# article bodies on each category page\n",
    "cat_url = url + '/' + 'science'"
   ]
  },
  {
   "cell_type": "code",
   "execution_count": 27,
   "id": "a79467a3-e0d3-488f-805c-9ba070123a95",
   "metadata": {},
   "outputs": [],
   "source": [
    "cat_soup = soupify(get(cat_url).content)"
   ]
  },
  {
   "cell_type": "code",
   "execution_count": 28,
   "id": "ec0583db-8db2-4df1-b3a3-09b6b2abb450",
   "metadata": {},
   "outputs": [],
   "source": [
    "# cat_soup"
   ]
  },
  {
   "cell_type": "code",
   "execution_count": null,
   "id": "b807d2e1-b75a-4794-adf2-f2059b88c45b",
   "metadata": {},
   "outputs": [],
   "source": []
  },
  {
   "cell_type": "code",
   "execution_count": 29,
   "id": "ce16f22f-27fe-4287-9659-fa8ac805c415",
   "metadata": {},
   "outputs": [],
   "source": [
    "# cat_soup.select('span')"
   ]
  },
  {
   "cell_type": "code",
   "execution_count": 30,
   "id": "33f55533-c49d-44d4-9ec0-ed66f784c05c",
   "metadata": {},
   "outputs": [
    {
     "data": {
      "text/plain": [
       "'New species of beetle named after Novak Djokovic'"
      ]
     },
     "execution_count": 30,
     "metadata": {},
     "output_type": "execute_result"
    }
   ],
   "source": [
    "cat_soup.find_all('span', itemprop='headline')[0].text"
   ]
  },
  {
   "cell_type": "code",
   "execution_count": 31,
   "id": "977d884c-215c-4d58-bf3c-195691f63beb",
   "metadata": {},
   "outputs": [],
   "source": [
    "cat_titles = [title.text for title in cat_soup.find_all('span', itemprop='headline')]"
   ]
  },
  {
   "cell_type": "code",
   "execution_count": 32,
   "id": "bbbe0dd1-28dd-40d3-8855-6fd8bc6d5fe6",
   "metadata": {},
   "outputs": [],
   "source": [
    "# cat_bodies"
   ]
  },
  {
   "cell_type": "code",
   "execution_count": 33,
   "id": "a68c0a9c-79eb-4d87-87e5-831da9fd8371",
   "metadata": {},
   "outputs": [
    {
     "data": {
      "text/plain": [
       "'Serbian scientists named a new species of beetle after ex-world number one men\\'s tennis player Novak Djokovic. The insect, which belongs to Duvalius genus of ground beetles present in Europe and was discovered several years ago in underground pit in Serbia, has been named \\'Duvalius djokovici\\'. \"We feel urged to pay Djokovic back in...way we can,\" a researcher said.'"
      ]
     },
     "execution_count": 33,
     "metadata": {},
     "output_type": "execute_result"
    }
   ],
   "source": [
    "cat_soup.find_all('div', itemprop='articleBody')[0].text"
   ]
  },
  {
   "cell_type": "code",
   "execution_count": 34,
   "id": "e7f2b379-db09-4b9f-874a-9db06f67258b",
   "metadata": {},
   "outputs": [],
   "source": [
    "cat_bodies = [body.text for body in cat_soup.find_all('div', itemprop='articleBody')]"
   ]
  },
  {
   "cell_type": "code",
   "execution_count": 35,
   "id": "8d27eeaa-2e97-44ba-af73-19b89e94d9dd",
   "metadata": {},
   "outputs": [
    {
     "data": {
      "text/plain": [
       "True"
      ]
     },
     "execution_count": 35,
     "metadata": {},
     "output_type": "execute_result"
    }
   ],
   "source": [
    "# did we grab the same number of bodies as titles?\n",
    "len(cat_bodies) == len(cat_titles)"
   ]
  },
  {
   "cell_type": "code",
   "execution_count": 36,
   "id": "635aae00-249b-4424-a7cd-f0b92d3081d4",
   "metadata": {},
   "outputs": [],
   "source": [
    "# for title, body in zip(cat_titles, cat_bodies):\n",
    "#     print(title)\n",
    "#     print(body)\n",
    "#     print('------')"
   ]
  },
  {
   "cell_type": "code",
   "execution_count": 37,
   "id": "1b83099a-4db0-4b95-9a4a-04b7efe2a05d",
   "metadata": {},
   "outputs": [],
   "source": [
    "def get_all_shorts(base_url):\n",
    "    cats = get_cats(base_url)\n",
    "    all_articles = []\n",
    "    for cat in cats:\n",
    "        cat_url = base_url + '/' + cat\n",
    "        print(get(cat_url))\n",
    "        cat_soup = soupify(get(cat_url).content)\n",
    "        cat_titles = [\n",
    "            title.text for title in cat_soup.find_all('span', itemprop='headline')\n",
    "        ]\n",
    "        cat_bodies = [\n",
    "            body.text for body in cat_soup.find_all('div', itemprop='articleBody')]\n",
    "        cat_articles = [{'title': title,\n",
    "        'category': cat,\n",
    "        'body': body} for title, body in zip(\n",
    "        cat_titles, cat_bodies)]\n",
    "        print('cat articles length: ',len(cat_articles))\n",
    "        all_articles.extend(cat_articles)\n",
    "        print('length of all_articles: ', len(all_articles))\n",
    "    return all_articles\n",
    "        "
   ]
  },
  {
   "cell_type": "code",
   "execution_count": 38,
   "id": "447bef71-de0b-4d83-a22b-a1e5d96d8db7",
   "metadata": {},
   "outputs": [
    {
     "name": "stdout",
     "output_type": "stream",
     "text": [
      "<Response [200]>\n",
      "cat articles length:  12\n",
      "length of all_articles:  12\n",
      "<Response [200]>\n",
      "cat articles length:  25\n",
      "length of all_articles:  37\n",
      "<Response [200]>\n",
      "cat articles length:  25\n",
      "length of all_articles:  62\n",
      "<Response [200]>\n",
      "cat articles length:  25\n",
      "length of all_articles:  87\n",
      "<Response [200]>\n",
      "cat articles length:  25\n",
      "length of all_articles:  112\n",
      "<Response [200]>\n",
      "cat articles length:  25\n",
      "length of all_articles:  137\n",
      "<Response [200]>\n",
      "cat articles length:  25\n",
      "length of all_articles:  162\n",
      "<Response [200]>\n",
      "cat articles length:  25\n",
      "length of all_articles:  187\n",
      "<Response [200]>\n",
      "cat articles length:  24\n",
      "length of all_articles:  211\n",
      "<Response [200]>\n",
      "cat articles length:  25\n",
      "length of all_articles:  236\n",
      "<Response [200]>\n",
      "cat articles length:  25\n",
      "length of all_articles:  261\n",
      "<Response [200]>\n",
      "cat articles length:  24\n",
      "length of all_articles:  285\n"
     ]
    }
   ],
   "source": [
    "all_articles = get_all_shorts(url)"
   ]
  },
  {
   "cell_type": "code",
   "execution_count": 39,
   "id": "5186d978-b39e-4cee-98d0-37126ff42418",
   "metadata": {},
   "outputs": [],
   "source": [
    "# all_articles"
   ]
  },
  {
   "cell_type": "code",
   "execution_count": null,
   "id": "9f411b04-9670-473e-aada-36301739c80d",
   "metadata": {},
   "outputs": [],
   "source": []
  },
  {
   "cell_type": "code",
   "execution_count": 40,
   "id": "5ecd7fa5-0ccd-48d3-af3a-75ee7c3b5a58",
   "metadata": {},
   "outputs": [],
   "source": [
    "all_articles = pd.DataFrame(all_articles)"
   ]
  },
  {
   "cell_type": "code",
   "execution_count": 41,
   "id": "94ce51f3-0917-4a57-9382-30177a44b950",
   "metadata": {},
   "outputs": [
    {
     "data": {
      "text/plain": [
       "business         25\n",
       "sports           25\n",
       "world            25\n",
       "politics         25\n",
       "technology       25\n",
       "startup          25\n",
       "entertainment    25\n",
       "hatke            25\n",
       "science          25\n",
       "miscellaneous    24\n",
       "automobile       24\n",
       "india            12\n",
       "Name: category, dtype: int64"
      ]
     },
     "execution_count": 41,
     "metadata": {},
     "output_type": "execute_result"
    }
   ],
   "source": [
    "all_articles.category.value_counts()"
   ]
  },
  {
   "cell_type": "code",
   "execution_count": 42,
   "id": "4d8751e0-f338-4bc8-aafc-6381e8b3dd6a",
   "metadata": {},
   "outputs": [
    {
     "data": {
      "text/plain": [
       "<bound method IndexOpsMixin.value_counts of 0                      Bharti Airtel rakes in 61% profit\n",
       "1              Infosys Gifts Sikka Shares Worth Rs 8.2cr\n",
       "2           India beat NZ 3-2 to enter CWG hockey finals\n",
       "3                 India's first Billiards Premier League\n",
       "4                      Kashmir's famous Dal Lake freezes\n",
       "                             ...                        \n",
       "280    Fix for wheel issue that caused electric car r...\n",
       "281    Withdraw rule that makes 6 airbags mandatory i...\n",
       "282    Record 5.4 lakh vehicles sold during Navratri ...\n",
       "283    Mercedes-Benz sees 28% rise in sales in India ...\n",
       "284    Vehicle registrations during festivals doubled...\n",
       "Name: title, Length: 285, dtype: object>"
      ]
     },
     "execution_count": 42,
     "metadata": {},
     "output_type": "execute_result"
    }
   ],
   "source": [
    "all_articles.title.value_counts"
   ]
  },
  {
   "cell_type": "code",
   "execution_count": 43,
   "id": "ff783810-0335-4169-ac3c-a250df9051a4",
   "metadata": {},
   "outputs": [],
   "source": [
    "pd.to_pickle(my_blogs, 'codeup_blogs')"
   ]
  },
  {
   "cell_type": "code",
   "execution_count": 44,
   "id": "2a97bc75-8be2-4dfe-8b0e-6abaf17e91c1",
   "metadata": {},
   "outputs": [],
   "source": [
    "pd.to_pickle(all_articles, 'inshorts_articles')"
   ]
  },
  {
   "cell_type": "code",
   "execution_count": null,
   "id": "26b1e735-f67a-489e-a6d2-0550819987c6",
   "metadata": {},
   "outputs": [],
   "source": []
  }
 ],
 "metadata": {
  "kernelspec": {
   "display_name": "Python 3 (ipykernel)",
   "language": "python",
   "name": "python3"
  },
  "language_info": {
   "codemirror_mode": {
    "name": "ipython",
    "version": 3
   },
   "file_extension": ".py",
   "mimetype": "text/x-python",
   "name": "python",
   "nbconvert_exporter": "python",
   "pygments_lexer": "ipython3",
   "version": "3.9.12"
  }
 },
 "nbformat": 4,
 "nbformat_minor": 5
}
