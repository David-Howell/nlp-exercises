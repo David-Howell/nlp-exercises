{
 "cells": [
  {
   "cell_type": "markdown",
   "id": "1f40d92f-fd2b-4ade-a7e0-4e7f5a2f562e",
   "metadata": {},
   "source": [
    "# Exercises\n",
    "By the end of this exercise, you should have a file named acquire.py that contains the specified functions. If you wish, you may break your work into separate files for each website (e.g. `acquire_codeup_blog.py` and `acquire_news_articles.py`), but the end function should be present in `acquire.py` (that is, `acquire.py` should import `get_blog_articles` from the `acquire_codeup_blog` module.)"
   ]
  },
  {
   "cell_type": "code",
   "execution_count": 5,
   "id": "ab84c46d-b146-499f-bfc1-e7a92b7caac5",
   "metadata": {},
   "outputs": [],
   "source": [
    "import numpy as np\n",
    "import pandas as pd\n",
    "from bs4 import BeautifulSoup\n",
    "from requests import get\n",
    "import re"
   ]
  },
  {
   "cell_type": "markdown",
   "id": "9006a97c-f0e4-4a6d-a6a5-72fe5d9a85a6",
   "metadata": {},
   "source": [
    "## 1. Codeup Blog Articles\n",
    "\n",
    "Visit Codeup's Blog and record the urls for at least `5` distinct blog posts. For each post, you should scrape at least the post's `title` and `content`.\n",
    "\n",
    "Encapsulate your work in a function named `get_blog_articles` that will return a list of dictionaries, with each dictionary representing one article. The shape of each dictionary should look like this:\n",
    "\n",
    "\n",
    ">{<br>\n",
    "    **'title': 'the title of the article',<br>\n",
    "    'content': 'the full text content of the article'**<br>\n",
    "}<br>\n",
    "\n",
    "Plus any additional properties you think might be helpful."
   ]
  },
  {
   "cell_type": "code",
   "execution_count": 3,
   "id": "78d81015-9681-4865-b00d-252829884bd3",
   "metadata": {},
   "outputs": [],
   "source": [
    "url = 'https://codeup.com/blog/'"
   ]
  },
  {
   "cell_type": "code",
   "execution_count": 6,
   "id": "744076f8-d6c5-42f4-a16e-a0d7079ffe82",
   "metadata": {},
   "outputs": [],
   "source": [
    "headers = {'User-Agent': 'Codeup Data Science'}"
   ]
  },
  {
   "cell_type": "code",
   "execution_count": 7,
   "id": "18a57eef-1370-4d5b-b237-a260966a5b9f",
   "metadata": {},
   "outputs": [],
   "source": [
    "soup = BeautifulSoup(get(url, headers=headers).content)"
   ]
  },
  {
   "cell_type": "code",
   "execution_count": 12,
   "id": "d628ba97-b987-462d-b72c-22fb4c8dc1f1",
   "metadata": {},
   "outputs": [
    {
     "data": {
      "text/plain": [
       "['Diversity Equity and Inclusion Report',\n",
       " 'Codeup Honored as SABJ Diversity and Inclusion Award Winner',\n",
       " 'How Can I Finance My Career Transition?',\n",
       " 'Tips for Women Beginning a Career in Tech',\n",
       " 'What is Cloud Computing and AWS?',\n",
       " '2022 SABJ C-Suite Award Winner: Stephen Noteboom',\n",
       " 'Git Codeupdates']"
      ]
     },
     "execution_count": 12,
     "metadata": {},
     "output_type": "execute_result"
    }
   ],
   "source": [
    "[each.text.strip() for each in soup.find_all('h2')]"
   ]
  },
  {
   "cell_type": "code",
   "execution_count": 152,
   "id": "0ace5300-42de-4ee2-b68f-56428751e77e",
   "metadata": {},
   "outputs": [
    {
     "data": {
      "text/plain": [
       "['Diversity Equity and Inclusion Report',\n",
       " 'Codeup Honored as SABJ Diversity and Inclusion Award Winner',\n",
       " 'How Can I Finance My Career Transition?',\n",
       " 'Tips for Women Beginning a Career in Tech',\n",
       " 'What is Cloud Computing and AWS?',\n",
       " '2022 SABJ C-Suite Award Winner: Stephen Noteboom']"
      ]
     },
     "execution_count": 152,
     "metadata": {},
     "output_type": "execute_result"
    }
   ],
   "source": [
    "[each.text.strip() for each in soup.find_all('h2', limit=6)]"
   ]
  },
  {
   "cell_type": "code",
   "execution_count": 75,
   "id": "9ce658cb-d309-4bd0-ac5b-3e2777f893df",
   "metadata": {},
   "outputs": [
    {
     "data": {
      "text/plain": [
       "<h2 class=\"entry-title\"><a href=\"https://codeup.com/codeup-news/dei-report/\">Diversity Equity and Inclusion Report</a></h2>"
      ]
     },
     "execution_count": 75,
     "metadata": {},
     "output_type": "execute_result"
    }
   ],
   "source": [
    "soup.find_all('h2')[0]"
   ]
  },
  {
   "cell_type": "code",
   "execution_count": 151,
   "id": "e9b091e5-de39-4645-9a5a-8c3a98a2c178",
   "metadata": {},
   "outputs": [
    {
     "data": {
      "text/plain": [
       "'Diversity Equity and Inclusion Report'"
      ]
     },
     "execution_count": 151,
     "metadata": {},
     "output_type": "execute_result"
    }
   ],
   "source": [
    "soup.find_all('h2')[0].text"
   ]
  },
  {
   "cell_type": "code",
   "execution_count": 88,
   "id": "23af38e1-6288-463c-9a50-c560e1dec9c3",
   "metadata": {},
   "outputs": [
    {
     "data": {
      "text/plain": [
       "'https://codeup.com/codeup-news/dei-report/'"
      ]
     },
     "execution_count": 88,
     "metadata": {},
     "output_type": "execute_result"
    }
   ],
   "source": [
    "soup.find_all('h2')[0].a['href']"
   ]
  },
  {
   "cell_type": "code",
   "execution_count": 118,
   "id": "42c3bf42-27d5-40be-8418-7eb205ba0bbe",
   "metadata": {},
   "outputs": [],
   "source": [
    "a = soup.select('h2')#, href=True)\n",
    "c = [b.a for b in a]"
   ]
  },
  {
   "cell_type": "code",
   "execution_count": 128,
   "id": "d20f6939-eddb-4fd4-abb3-537e595d0a48",
   "metadata": {},
   "outputs": [],
   "source": [
    "blog_page = BeautifulSoup(get(c[0]['href'], headers=headers).content)"
   ]
  },
  {
   "cell_type": "code",
   "execution_count": 154,
   "id": "feae03ca-7800-4e9e-8810-791e59b5133c",
   "metadata": {},
   "outputs": [
    {
     "data": {
      "text/plain": [
       "'Oct 7, 2022 | Codeup News'"
      ]
     },
     "execution_count": 154,
     "metadata": {},
     "output_type": "execute_result"
    }
   ],
   "source": [
    "blog_page.select('p')[0].text"
   ]
  },
  {
   "cell_type": "code",
   "execution_count": 157,
   "id": "485f3520-9845-4d9c-85b1-60c8a95ab686",
   "metadata": {},
   "outputs": [
    {
     "name": "stdout",
     "output_type": "stream",
     "text": [
      "Oct 7, 2022\n",
      "Codeup News\n"
     ]
    }
   ],
   "source": [
    "regexp = r'(.{11})\\s\\|\\s(.*)'\n",
    "\n",
    "string = blog_page.select('p')[0].text\n",
    "\n",
    "print(re.sub(regexp, r'\\1', string))\n",
    "print(re.sub(regexp, r'\\2', string))"
   ]
  },
  {
   "cell_type": "code",
   "execution_count": 144,
   "id": "3967ef49-6bc9-43c7-941b-04dacb3f5c95",
   "metadata": {},
   "outputs": [
    {
     "data": {
      "text/plain": [
       "'Codeup is excited to launch our first Diversity Equity, and Inclusion (DEI) report! In over eight years as an organization, we’ve implemented policies and grown our DEI efforts. We are extremely proud of the progress we’ve made as a staff and Codeup community, and we recognize there is more to learn. This report captures some of the ways that we’ve lived our value of Cultivating Inclusive Growth, and how we will continue doing so as we look to the future.'"
      ]
     },
     "execution_count": 144,
     "metadata": {},
     "output_type": "execute_result"
    }
   ],
   "source": [
    "blog_page.select('p')[1].text"
   ]
  },
  {
   "cell_type": "code",
   "execution_count": 145,
   "id": "697fb15e-befd-40c0-b7d3-ee8c7917849f",
   "metadata": {},
   "outputs": [
    {
     "data": {
      "text/plain": [
       "'We wanted to shine a light on the demographics of our students and staff, and in particular how that compares to the tech industry as a whole. How we collect, organize, and share employee demographic data is informed by standards set by the Equal Employment Opportunity Commission (EEOC).'"
      ]
     },
     "execution_count": 145,
     "metadata": {},
     "output_type": "execute_result"
    }
   ],
   "source": [
    "blog_page.select('p')[2].text"
   ]
  },
  {
   "cell_type": "code",
   "execution_count": 142,
   "id": "80dbd576-7b57-4299-bb70-89d59a6e3637",
   "metadata": {},
   "outputs": [
    {
     "data": {
      "text/plain": [
       "'We are proud to celebrate how we’ve grown and are motivated and committed to do more and be better. To view the report visit the link here, or download it below.'"
      ]
     },
     "execution_count": 142,
     "metadata": {},
     "output_type": "execute_result"
    }
   ],
   "source": [
    "blog_page.select('p')[3].text"
   ]
  },
  {
   "cell_type": "code",
   "execution_count": 150,
   "id": "d298866c-ed6f-4c4c-a11b-ac8c73e39532",
   "metadata": {},
   "outputs": [
    {
     "name": "stdout",
     "output_type": "stream",
     "text": [
      "Sep 29, 2022 | Cloud Administration, Data Science, Featured, Financing, Full Stack Web Development, Tips for Prospective Students\n",
      "Deciding to transition into a tech career is a big step and a more significant commitment. Often after deciding to commit to a journey of this nature, the main obstacle is finding a way to finance your training.\n",
      "At Codeup, we recognize that many of our students are career transitioners, and attending one of our programs can sometimes require sacrifice. Luckily, we have several ways to help you finance your career transition, ultimately leading to that new career you’ve decided to pursue.\n",
      "We offer three different accelerated coding bootcamps at Codeup including Full-Stack Web Development, Cloud Administration, and Data Science. These are all instructor-led and designed to quickly equip you with the skills and knowledge to secure an entry-level position in-field.\n"
     ]
    }
   ],
   "source": [
    "blog_page1 = BeautifulSoup(get(c[2]['href'], headers=headers).content)\n",
    "\n",
    "print(blog_page1.select('p')[0].text)\n",
    "\n",
    "print(blog_page1.select('p')[1].text)\n",
    "\n",
    "print(blog_page1.select('p')[2].text)\n",
    "\n",
    "print(blog_page1.select('p')[3].text)"
   ]
  },
  {
   "cell_type": "code",
   "execution_count": 121,
   "id": "8ca93e5a-d01f-4fcc-bccc-deaef4dc4280",
   "metadata": {},
   "outputs": [
    {
     "name": "stdout",
     "output_type": "stream",
     "text": [
      "https://codeup.com/codeup-news/dei-report/\n",
      "https://codeup.com/codeup-news/diversity-and-inclusion-award/\n",
      "https://codeup.com/featured/financing-career-transition/\n",
      "https://codeup.com/tips-for-prospective-students/tips-for-women/\n",
      "https://codeup.com/cloud-administration/cloud-computing-and-aws/\n"
     ]
    }
   ],
   "source": [
    "for i in range(5):\n",
    "    blog_url = c[i]['href']\n",
    "    get(blog_url).content"
   ]
  },
  {
   "cell_type": "code",
   "execution_count": 117,
   "id": "41fc6726-366c-4cd9-89f6-0bc5e634f0e0",
   "metadata": {},
   "outputs": [
    {
     "data": {
      "text/plain": [
       "[<h2 class=\"entry-title\"><a href=\"https://codeup.com/codeup-news/dei-report/\">Diversity Equity and Inclusion Report</a></h2>,\n",
       " <h2 class=\"entry-title\"><a href=\"https://codeup.com/codeup-news/diversity-and-inclusion-award/\">Codeup Honored as SABJ Diversity and Inclusion Award Winner</a></h2>,\n",
       " <h2 class=\"entry-title\"><a href=\"https://codeup.com/featured/financing-career-transition/\">How Can I Finance My Career Transition?</a></h2>,\n",
       " <h2 class=\"entry-title\"><a href=\"https://codeup.com/tips-for-prospective-students/tips-for-women/\">Tips for Women Beginning a Career in Tech</a></h2>,\n",
       " <h2 class=\"entry-title\"><a href=\"https://codeup.com/cloud-administration/cloud-computing-and-aws/\">What is Cloud Computing and AWS?</a></h2>,\n",
       " <h2 class=\"entry-title\"><a href=\"https://codeup.com/codeup-news/c-suite-award-stephen-noteboom/\">2022 SABJ C-Suite Award Winner: Stephen Noteboom</a></h2>,\n",
       " <h2 style=\"text-align: center;\">Git Codeupdates</h2>]"
      ]
     },
     "execution_count": 117,
     "metadata": {},
     "output_type": "execute_result"
    }
   ],
   "source": [
    "soup.select('h2', href=True)"
   ]
  },
  {
   "cell_type": "code",
   "execution_count": 92,
   "id": "7bfdb079-7960-4073-b87c-f26b88a9a1d5",
   "metadata": {},
   "outputs": [
    {
     "name": "stdout",
     "output_type": "stream",
     "text": [
      "https://codeup.com/codeup-news/dei-report/\n",
      "https://codeup.com/codeup-news/diversity-and-inclusion-award/\n",
      "https://codeup.com/featured/financing-career-transition/\n",
      "https://codeup.com/tips-for-prospective-students/tips-for-women/\n",
      "https://codeup.com/cloud-administration/cloud-computing-and-aws/\n",
      "https://codeup.com/codeup-news/c-suite-award-stephen-noteboom/\n"
     ]
    },
    {
     "ename": "TypeError",
     "evalue": "'NoneType' object is not subscriptable",
     "output_type": "error",
     "traceback": [
      "\u001b[0;31m---------------------------------------------------------------------------\u001b[0m",
      "\u001b[0;31mTypeError\u001b[0m                                 Traceback (most recent call last)",
      "Input \u001b[0;32mIn [92]\u001b[0m, in \u001b[0;36m<cell line: 1>\u001b[0;34m()\u001b[0m\n\u001b[1;32m      1\u001b[0m \u001b[38;5;28;01mfor\u001b[39;00m link \u001b[38;5;129;01min\u001b[39;00m soup\u001b[38;5;241m.\u001b[39mselect(\u001b[38;5;124m'\u001b[39m\u001b[38;5;124mh2\u001b[39m\u001b[38;5;124m'\u001b[39m, href\u001b[38;5;241m=\u001b[39m\u001b[38;5;28;01mTrue\u001b[39;00m):\n\u001b[0;32m----> 2\u001b[0m     blog_url \u001b[38;5;241m=\u001b[39m \u001b[43mlink\u001b[49m\u001b[38;5;241;43m.\u001b[39;49m\u001b[43ma\u001b[49m\u001b[43m[\u001b[49m\u001b[38;5;124;43m'\u001b[39;49m\u001b[38;5;124;43mhref\u001b[39;49m\u001b[38;5;124;43m'\u001b[39;49m\u001b[43m]\u001b[49m\n\u001b[1;32m      3\u001b[0m     \u001b[38;5;28mprint\u001b[39m(blog_url)\n",
      "\u001b[0;31mTypeError\u001b[0m: 'NoneType' object is not subscriptable"
     ]
    }
   ],
   "source": [
    "for link in soup.select('h2', href=True):\n",
    "    blog_url = link.a['href']\n",
    "    print(blog_url)"
   ]
  },
  {
   "cell_type": "code",
   "execution_count": 82,
   "id": "8bd8260b-8ef8-4bf5-94a3-4b51916f78b0",
   "metadata": {},
   "outputs": [
    {
     "data": {
      "text/plain": [
       "[<a href=\"https://codeup.com/\">Home</a>,\n",
       " <a href=\"https://codeup.com/program/cloud-adminsitration/\">Cloud Administration</a>,\n",
       " <a href=\"https://codeup.com/program/full-stack-web-development/\">Full Stack Web Development</a>,\n",
       " <a href=\"https://codeup.com/program/data-science/\">Data Science</a>,\n",
       " <a href=\"/events/\">Workshops</a>,\n",
       " <a href=\"/san-antonio-events/\">San Antonio</a>,\n",
       " <a href=\"/dallas-events/\">Dallas</a>,\n",
       " <a href=\"https://codeup.com/financial-aid/\">Financial Aid</a>,\n",
       " <a href=\"https://codeup.com/veterans/\">Military</a>,\n",
       " <a href=\"https://codeup.com/hire-tech-talent/\">Hire Tech Talent</a>,\n",
       " <a href=\"https://alumni.codeup.com/\">Alumni</a>,\n",
       " <a href=\"https://codeup.com/resources/\">Resources</a>,\n",
       " <a href=\"/my-story/\">Student Reviews</a>,\n",
       " <a aria-current=\"page\" href=\"https://codeup.com/blog/\">Blog</a>,\n",
       " <a href=\"https://codeup.com/frequently-asked-questions/\">Common Questions</a>,\n",
       " <a href=\"https://codeup.com/podcast/\">Hire Tech Podcast</a>,\n",
       " <a href=\"https://codeup.com/apply-now/\">Apply Now</a>,\n",
       " <a href=\"https://codeup.com/\">\n",
       " <img alt=\"Codeup\" class=\"main-logo normal-logo\" id=\"dm-logo\" src=\"https://199lj33nqk3p88xz03dvn481-wpengine.netdna-ssl.com/wp-content/uploads/2021/08/CodeupFullColorLogo.png\" title=\"\"/>\n",
       " </a>,\n",
       " <a href=\"/about-codeup/\">About</a>,\n",
       " <a href=\"/category/behind-the-billboards/\">Behind The Billboards</a>,\n",
       " <a href=\"/careers/\">Careers</a>,\n",
       " <a href=\"/index.php/\"><img alt=\"Codeup Best Coding Bootcamp\" class=\"wp-image-28\" height=\"86\" loading=\"lazy\" src=\"https://199lj33nqk3p88xz03dvn481-wpengine.netdna-ssl.com/wp-content/uploads/2021/06/codeup_logo.png\" width=\"226\"/></a>,\n",
       " <a href=\"https://codeup.com/programs/\" title=\"Coding Programs\">Programs</a>,\n",
       " <a href=\"https://codeup.com/program/cloud-administration/\">Cloud Administration</a>,\n",
       " <a href=\"https://codeup.com/program/full-stack-web-development/\" title=\"Full Stack Web Development Bootcamp\">Web Development</a>,\n",
       " <a href=\"https://codeup.com/program/data-science/\" title=\"Data Science Bootcamp in Texas\">Data Science</a>,\n",
       " <a href=\"/financial-aid/\">Financing</a>,\n",
       " <a href=\"/events/\">Events</a>,\n",
       " <a href=\"https://codeup.com/san-antonio-events/\">San Antonio</a>,\n",
       " <a href=\"https://codeup.com/dallas-events/\">Dallas</a>,\n",
       " <a href=\"https://codeup.com/veterans/\">Military</a>,\n",
       " <a>Campuses</a>,\n",
       " <a href=\"https://codeup.com/san-antonio/\">San Antonio</a>,\n",
       " <a href=\"https://codeup.com/dallas/\">Dallas</a>,\n",
       " <a href=\"https://codeup.com/hire-tech-talent/\" title=\"Hire Diversified Tech Talent\">Hire</a>,\n",
       " <a href=\"https://codeup.com/hire-tech-talent/\">Employers</a>,\n",
       " <a href=\"https://alumni.codeup.com/\">Alumni Portal</a>,\n",
       " <a href=\"https://codeup.com/resources/\">Resources</a>,\n",
       " <a href=\"/my-story/\">Student Reviews</a>,\n",
       " <a aria-current=\"page\" href=\"https://codeup.com/blog/\">Blog</a>,\n",
       " <a href=\"https://codeup.com/frequently-asked-questions/\">Common Questions</a>,\n",
       " <a href=\"https://codeup.com/podcast/\">Hire Tech Podcast</a>,\n",
       " <a class=\"et_pb_button et_pb_button_0_tb_header et_pb_bg_layout_light\" href=\"/apply-now/\">Apply Now</a>,\n",
       " <a class=\"entry-featured-image-url\" href=\"https://codeup.com/codeup-news/dei-report/\"><img alt=\"Diversity Equity and Inclusion Report\" class=\"\" height=\"250\" loading=\"lazy\" sizes=\"(max-width:479px) 479px, 100vw \" src=\"https://199lj33nqk3p88xz03dvn481-wpengine.netdna-ssl.com/wp-content/uploads/2022/10/Featured-Images-400x250.jpg\" srcset=\"https://199lj33nqk3p88xz03dvn481-wpengine.netdna-ssl.com/wp-content/uploads/2022/10/Featured-Images.jpg 479w, https://199lj33nqk3p88xz03dvn481-wpengine.netdna-ssl.com/wp-content/uploads/2022/10/Featured-Images-400x250.jpg 480w \" width=\"400\"/></a>,\n",
       " <a href=\"https://codeup.com/codeup-news/dei-report/\">Diversity Equity and Inclusion Report</a>,\n",
       " <a class=\"more-link\" href=\"https://codeup.com/codeup-news/dei-report/\">read more</a>,\n",
       " <a class=\"entry-featured-image-url\" href=\"https://codeup.com/codeup-news/diversity-and-inclusion-award/\"><img alt=\"Codeup Honored as SABJ Diversity and Inclusion Award Winner\" class=\"\" height=\"250\" loading=\"lazy\" sizes=\"(max-width:479px) 479px, 100vw \" src=\"https://199lj33nqk3p88xz03dvn481-wpengine.netdna-ssl.com/wp-content/uploads/2022/10/Panel-Zoom-Backgrounds-400x250.jpg\" srcset=\"https://199lj33nqk3p88xz03dvn481-wpengine.netdna-ssl.com/wp-content/uploads/2022/10/Panel-Zoom-Backgrounds.jpg 479w, https://199lj33nqk3p88xz03dvn481-wpengine.netdna-ssl.com/wp-content/uploads/2022/10/Panel-Zoom-Backgrounds-400x250.jpg 480w \" width=\"400\"/></a>,\n",
       " <a href=\"https://codeup.com/codeup-news/diversity-and-inclusion-award/\">Codeup Honored as SABJ Diversity and Inclusion Award Winner</a>,\n",
       " <a class=\"more-link\" href=\"https://codeup.com/codeup-news/diversity-and-inclusion-award/\">read more</a>,\n",
       " <a class=\"entry-featured-image-url\" href=\"https://codeup.com/featured/financing-career-transition/\"><img alt=\"How Can I Finance My Career Transition?\" class=\"\" height=\"250\" loading=\"lazy\" sizes=\"(max-width:479px) 479px, 100vw \" src=\"https://199lj33nqk3p88xz03dvn481-wpengine.netdna-ssl.com/wp-content/uploads/2022/09/Copy-of-Blog-BannerFeatured-Image-4-400x250.png\" srcset=\"https://199lj33nqk3p88xz03dvn481-wpengine.netdna-ssl.com/wp-content/uploads/2022/09/Copy-of-Blog-BannerFeatured-Image-4.png 479w, https://199lj33nqk3p88xz03dvn481-wpengine.netdna-ssl.com/wp-content/uploads/2022/09/Copy-of-Blog-BannerFeatured-Image-4-400x250.png 480w \" width=\"400\"/></a>,\n",
       " <a href=\"https://codeup.com/featured/financing-career-transition/\">How Can I Finance My Career Transition?</a>,\n",
       " <a class=\"more-link\" href=\"https://codeup.com/featured/financing-career-transition/\">read more</a>,\n",
       " <a class=\"entry-featured-image-url\" href=\"https://codeup.com/tips-for-prospective-students/tips-for-women/\"><img alt=\"Tips for Women Beginning a Career in Tech\" class=\"\" height=\"250\" loading=\"lazy\" sizes=\"(max-width:479px) 479px, 100vw \" src=\"https://199lj33nqk3p88xz03dvn481-wpengine.netdna-ssl.com/wp-content/uploads/2022/09/Copy-of-Blog-BannerFeatured-Image-3-400x250.png\" srcset=\"https://199lj33nqk3p88xz03dvn481-wpengine.netdna-ssl.com/wp-content/uploads/2022/09/Copy-of-Blog-BannerFeatured-Image-3.png 479w, https://199lj33nqk3p88xz03dvn481-wpengine.netdna-ssl.com/wp-content/uploads/2022/09/Copy-of-Blog-BannerFeatured-Image-3-400x250.png 480w \" width=\"400\"/></a>,\n",
       " <a href=\"https://codeup.com/tips-for-prospective-students/tips-for-women/\">Tips for Women Beginning a Career in Tech</a>,\n",
       " <a class=\"more-link\" href=\"https://codeup.com/tips-for-prospective-students/tips-for-women/\">read more</a>,\n",
       " <a class=\"entry-featured-image-url\" href=\"https://codeup.com/cloud-administration/cloud-computing-and-aws/\"><img alt=\"What is Cloud Computing and AWS?\" class=\"\" height=\"250\" loading=\"lazy\" sizes=\"(max-width:479px) 479px, 100vw \" src=\"https://199lj33nqk3p88xz03dvn481-wpengine.netdna-ssl.com/wp-content/uploads/2022/09/Copy-of-Blog-BannerFeatured-Image-1-400x250.png\" srcset=\"https://199lj33nqk3p88xz03dvn481-wpengine.netdna-ssl.com/wp-content/uploads/2022/09/Copy-of-Blog-BannerFeatured-Image-1.png 479w, https://199lj33nqk3p88xz03dvn481-wpengine.netdna-ssl.com/wp-content/uploads/2022/09/Copy-of-Blog-BannerFeatured-Image-1-400x250.png 480w \" width=\"400\"/></a>,\n",
       " <a href=\"https://codeup.com/cloud-administration/cloud-computing-and-aws/\">What is Cloud Computing and AWS?</a>,\n",
       " <a class=\"more-link\" href=\"https://codeup.com/cloud-administration/cloud-computing-and-aws/\">read more</a>,\n",
       " <a class=\"entry-featured-image-url\" href=\"https://codeup.com/codeup-news/c-suite-award-stephen-noteboom/\"><img alt=\"2022 SABJ C-Suite Award Winner: Stephen Noteboom\" class=\"\" height=\"250\" loading=\"lazy\" sizes=\"(max-width:479px) 479px, 100vw \" src=\"https://199lj33nqk3p88xz03dvn481-wpengine.netdna-ssl.com/wp-content/uploads/2022/09/Copy-of-Blog-BannerFeatured-Image-2-400x250.png\" srcset=\"https://199lj33nqk3p88xz03dvn481-wpengine.netdna-ssl.com/wp-content/uploads/2022/09/Copy-of-Blog-BannerFeatured-Image-2.png 479w, https://199lj33nqk3p88xz03dvn481-wpengine.netdna-ssl.com/wp-content/uploads/2022/09/Copy-of-Blog-BannerFeatured-Image-2-400x250.png 480w \" width=\"400\"/></a>,\n",
       " <a href=\"https://codeup.com/codeup-news/c-suite-award-stephen-noteboom/\">2022 SABJ C-Suite Award Winner: Stephen Noteboom</a>,\n",
       " <a class=\"more-link\" href=\"https://codeup.com/codeup-news/c-suite-award-stephen-noteboom/\">read more</a>,\n",
       " <a href=\"https://codeup.com/blog/page/2/?et_blog\">« Older Entries</a>,\n",
       " <a href=\"tel:12108027289\" title=\"call Codeup\">(210) 802–7289</a>,\n",
       " <a class=\"icon et_pb_with_border\" href=\"https://www.facebook.com/GoCodeup/\" target=\"_blank\" title=\"Follow on Facebook\"><span aria-hidden=\"true\" class=\"et_pb_social_media_follow_network_name\">Follow</span></a>,\n",
       " <a class=\"icon et_pb_with_border\" href=\"https://twitter.com/gocodeup\" target=\"_blank\" title=\"Follow on Twitter\"><span aria-hidden=\"true\" class=\"et_pb_social_media_follow_network_name\">Follow</span></a>,\n",
       " <a class=\"icon et_pb_with_border\" href=\"https://www.instagram.com/gocodeup/?hl=en\" target=\"_blank\" title=\"Follow on Instagram\"><span aria-hidden=\"true\" class=\"et_pb_social_media_follow_network_name\">Follow</span></a>,\n",
       " <a class=\"icon et_pb_with_border\" href=\"https://www.linkedin.com/school/3799914\" target=\"_blank\" title=\"Follow on LinkedIn\"><span aria-hidden=\"true\" class=\"et_pb_social_media_follow_network_name\">Follow</span></a>,\n",
       " <a class=\"icon et_pb_with_border\" href=\"/podcast/\" target=\"_blank\" title=\"Follow on RSS\"><span aria-hidden=\"true\" class=\"et_pb_social_media_follow_network_name\">Follow</span></a>,\n",
       " <a href=\"/dallas\">Dallas</a>,\n",
       " <a href=\"/san-antonio\">San Antonio</a>,\n",
       " <a href=\"/index.php/\"><span class=\"et_pb_image_wrap\"><img alt=\"quack quack\" class=\"wp-image-15815\" height=\"256\" loading=\"lazy\" sizes=\"(max-width: 336px) 100vw, 336px\" src=\"https://199lj33nqk3p88xz03dvn481-wpengine.netdna-ssl.com/wp-content/uploads/2018/08/codey-1.png\" srcset=\"https://199lj33nqk3p88xz03dvn481-wpengine.netdna-ssl.com/wp-content/uploads/2018/08/codey-1.png 336w, https://199lj33nqk3p88xz03dvn481-wpengine.netdna-ssl.com/wp-content/uploads/2018/08/codey-1-300x229.png 300w\" title=\"Codey\" width=\"336\"/></span></a>,\n",
       " <a href=\"/why-codeup/\" title=\"About Codeup\">Why Codeup?</a>,\n",
       " <a href=\"/financial-aid/\" title=\"how to pay for bootcamp\">Financial Aid Options</a>,\n",
       " <a href=\"/my-story/\" title=\"Codeup Reviews\">Student Reviews</a>,\n",
       " <a href=\"/hire-tech-talent/\">Employers</a>,\n",
       " <a href=\"/refund/\" title=\"Codeup Refund Policy\">Refund Policy</a>,\n",
       " <a href=\"/frequently-asked-questions/\" title=\"frequently asked questions\">FAQs</a>,\n",
       " <a href=\"/careers/\" title=\"Jobs at Codeup\">Careers</a>,\n",
       " <a href=\"/pr/\" title=\"press assets for Codeup\">Media Kit</a>,\n",
       " <a href=\"/program/full-stack-web-development/\" title=\"coding bootcamp in Texas\">Full Stack Web Development</a>,\n",
       " <a href=\"/program/data-science/\" title=\"data science bootcamp in Texas\">Data Science</a>,\n",
       " <a href=\"/cloud-administration/\" title=\"learn Cloud Administration in Texas\">Cloud Administration</a>,\n",
       " <a href=\"/free/\" title=\"learn to code for free\">Free Networking Course</a>,\n",
       " <a class=\"et_pb_button et_pb_button_1_tb_footer et_pb_bg_layout_light\" href=\"/apply-now/\">Apply Now</a>,\n",
       " <a href=\"/privacy/\">Privacy Policy</a>,\n",
       " <a href=\"/student-complaint-policy/\" title=\"complaint policy\">Complaint Policy</a>,\n",
       " <a href=\"/codeup-news/inclusion-at-codeup-during-pride-month-and-always/\" title=\"DEI at Codeup\">Inclusion</a>,\n",
       " <a href=\"/accessibility/\">Accessibility</a>,\n",
       " <a href=\"/sitemap_index.xml\">Sitemap</a>,\n",
       " <a class=\"wt-cli-ccpa-opt-out\" style=\"color:#333333\">No worries, we do not sell your personal information.</a>,\n",
       " <a class=\"medium cli-plugin-button cli-plugin-main-button cli_settings_button\" role=\"button\" style=\"margin:0px 10px 0px 5px\">Cookie Settings</a>,\n",
       " <a class=\"medium cli-plugin-button cli-plugin-main-button cookie_action_close_header cli_action_button wt-cli-accept-btn\" data-cli_action=\"accept\" id=\"cookie_action_close_header\" role=\"button\" style=\"display:inline-block\">Accept</a>,\n",
       " <a aria-label=\"Show more\" class=\"cli-privacy-readmore\" data-readless-text=\"Show less\" data-readmore-text=\"Show more\" role=\"button\"></a>,\n",
       " <a class=\"cli-nav-link cli-settings-mobile\" data-target=\"necessary\" data-toggle=\"cli-toggle-tab\" role=\"button\" tabindex=\"0\">\n",
       " \t\t\t\t\t\t\t\tNecessary\t\t\t\t\t\t\t</a>,\n",
       " <a class=\"cli-nav-link cli-settings-mobile\" data-target=\"functional\" data-toggle=\"cli-toggle-tab\" role=\"button\" tabindex=\"0\">\n",
       " \t\t\t\t\t\t\t\tFunctional\t\t\t\t\t\t\t</a>,\n",
       " <a class=\"cli-nav-link cli-settings-mobile\" data-target=\"performance\" data-toggle=\"cli-toggle-tab\" role=\"button\" tabindex=\"0\">\n",
       " \t\t\t\t\t\t\t\tPerformance\t\t\t\t\t\t\t</a>,\n",
       " <a class=\"cli-nav-link cli-settings-mobile\" data-target=\"analytics\" data-toggle=\"cli-toggle-tab\" role=\"button\" tabindex=\"0\">\n",
       " \t\t\t\t\t\t\t\tAnalytics\t\t\t\t\t\t\t</a>,\n",
       " <a class=\"cli-nav-link cli-settings-mobile\" data-target=\"advertisement\" data-toggle=\"cli-toggle-tab\" role=\"button\" tabindex=\"0\">\n",
       " \t\t\t\t\t\t\t\tAdvertisement\t\t\t\t\t\t\t</a>,\n",
       " <a class=\"cli-nav-link cli-settings-mobile\" data-target=\"others\" data-toggle=\"cli-toggle-tab\" role=\"button\" tabindex=\"0\">\n",
       " \t\t\t\t\t\t\t\tOthers\t\t\t\t\t\t\t</a>,\n",
       " <a class=\"wt-cli-privacy-btn cli_setting_save_button wt-cli-privacy-accept-btn cli-btn\" data-cli-action=\"accept\" id=\"wt-cli-privacy-save-btn\" role=\"button\" tabindex=\"0\">SAVE &amp; ACCEPT</a>]"
      ]
     },
     "execution_count": 82,
     "metadata": {},
     "output_type": "execute_result"
    }
   ],
   "source": [
    "soup.select('a', href=True)"
   ]
  },
  {
   "cell_type": "code",
   "execution_count": 81,
   "id": "aeb41a4a-1583-47eb-b4e9-012f2a769ada",
   "metadata": {},
   "outputs": [
    {
     "name": "stdout",
     "output_type": "stream",
     "text": [
      "https://codeup.com/\n",
      "https://codeup.com/program/cloud-adminsitration/\n",
      "https://codeup.com/program/full-stack-web-development/\n",
      "https://codeup.com/program/data-science/\n",
      "/events/\n",
      "/san-antonio-events/\n",
      "/dallas-events/\n",
      "https://codeup.com/financial-aid/\n",
      "https://codeup.com/veterans/\n",
      "https://codeup.com/hire-tech-talent/\n",
      "https://alumni.codeup.com/\n",
      "https://codeup.com/resources/\n",
      "/my-story/\n",
      "https://codeup.com/blog/\n",
      "https://codeup.com/frequently-asked-questions/\n",
      "https://codeup.com/podcast/\n",
      "https://codeup.com/apply-now/\n",
      "https://codeup.com/\n",
      "/about-codeup/\n",
      "/category/behind-the-billboards/\n",
      "/careers/\n",
      "/index.php/\n",
      "https://codeup.com/programs/\n",
      "https://codeup.com/program/cloud-administration/\n",
      "https://codeup.com/program/full-stack-web-development/\n",
      "https://codeup.com/program/data-science/\n",
      "/financial-aid/\n",
      "/events/\n",
      "https://codeup.com/san-antonio-events/\n",
      "https://codeup.com/dallas-events/\n",
      "https://codeup.com/veterans/\n"
     ]
    },
    {
     "ename": "KeyError",
     "evalue": "'href'",
     "output_type": "error",
     "traceback": [
      "\u001b[0;31m---------------------------------------------------------------------------\u001b[0m",
      "\u001b[0;31mKeyError\u001b[0m                                  Traceback (most recent call last)",
      "Input \u001b[0;32mIn [81]\u001b[0m, in \u001b[0;36m<cell line: 1>\u001b[0;34m()\u001b[0m\n\u001b[1;32m      1\u001b[0m \u001b[38;5;28;01mfor\u001b[39;00m link \u001b[38;5;129;01min\u001b[39;00m soup\u001b[38;5;241m.\u001b[39mselect(\u001b[38;5;124m'\u001b[39m\u001b[38;5;124ma\u001b[39m\u001b[38;5;124m'\u001b[39m, href\u001b[38;5;241m=\u001b[39m\u001b[38;5;28;01mTrue\u001b[39;00m):\n\u001b[0;32m----> 2\u001b[0m     \u001b[38;5;28mprint\u001b[39m(\u001b[43mlink\u001b[49m\u001b[43m[\u001b[49m\u001b[38;5;124;43m'\u001b[39;49m\u001b[38;5;124;43mhref\u001b[39;49m\u001b[38;5;124;43m'\u001b[39;49m\u001b[43m]\u001b[49m)\n",
      "File \u001b[0;32m/opt/homebrew/anaconda3/lib/python3.9/site-packages/bs4/element.py:1519\u001b[0m, in \u001b[0;36mTag.__getitem__\u001b[0;34m(self, key)\u001b[0m\n\u001b[1;32m   1516\u001b[0m \u001b[38;5;28;01mdef\u001b[39;00m \u001b[38;5;21m__getitem__\u001b[39m(\u001b[38;5;28mself\u001b[39m, key):\n\u001b[1;32m   1517\u001b[0m     \u001b[38;5;124;03m\"\"\"tag[key] returns the value of the 'key' attribute for the Tag,\u001b[39;00m\n\u001b[1;32m   1518\u001b[0m \u001b[38;5;124;03m    and throws an exception if it's not there.\"\"\"\u001b[39;00m\n\u001b[0;32m-> 1519\u001b[0m     \u001b[38;5;28;01mreturn\u001b[39;00m \u001b[38;5;28;43mself\u001b[39;49m\u001b[38;5;241;43m.\u001b[39;49m\u001b[43mattrs\u001b[49m\u001b[43m[\u001b[49m\u001b[43mkey\u001b[49m\u001b[43m]\u001b[49m\n",
      "\u001b[0;31mKeyError\u001b[0m: 'href'"
     ]
    }
   ],
   "source": [
    "for link in soup.select('a', href=True):\n",
    "    print(link['href'])"
   ]
  },
  {
   "cell_type": "code",
   "execution_count": 44,
   "id": "5fa2ef66-cfe5-4dea-a8de-18918e8c5fd5",
   "metadata": {},
   "outputs": [
    {
     "name": "stdout",
     "output_type": "stream",
     "text": [
      "Found the URL: https://codeup.com/\n",
      "Found the URL: https://codeup.com/program/cloud-adminsitration/\n",
      "Found the URL: https://codeup.com/program/full-stack-web-development/\n",
      "Found the URL: https://codeup.com/program/data-science/\n",
      "Found the URL: /events/\n",
      "Found the URL: /san-antonio-events/\n",
      "Found the URL: /dallas-events/\n",
      "Found the URL: https://codeup.com/financial-aid/\n",
      "Found the URL: https://codeup.com/veterans/\n",
      "Found the URL: https://codeup.com/hire-tech-talent/\n",
      "Found the URL: https://alumni.codeup.com/\n",
      "Found the URL: https://codeup.com/resources/\n",
      "Found the URL: /my-story/\n",
      "Found the URL: https://codeup.com/blog/\n",
      "Found the URL: https://codeup.com/frequently-asked-questions/\n",
      "Found the URL: https://codeup.com/podcast/\n",
      "Found the URL: https://codeup.com/apply-now/\n",
      "Found the URL: https://codeup.com/\n",
      "Found the URL: /about-codeup/\n",
      "Found the URL: /category/behind-the-billboards/\n",
      "Found the URL: /careers/\n",
      "Found the URL: /index.php/\n",
      "Found the URL: https://codeup.com/programs/\n",
      "Found the URL: https://codeup.com/program/cloud-administration/\n",
      "Found the URL: https://codeup.com/program/full-stack-web-development/\n",
      "Found the URL: https://codeup.com/program/data-science/\n",
      "Found the URL: /financial-aid/\n",
      "Found the URL: /events/\n",
      "Found the URL: https://codeup.com/san-antonio-events/\n",
      "Found the URL: https://codeup.com/dallas-events/\n",
      "Found the URL: https://codeup.com/veterans/\n",
      "Found the URL: https://codeup.com/san-antonio/\n",
      "Found the URL: https://codeup.com/dallas/\n",
      "Found the URL: https://codeup.com/hire-tech-talent/\n",
      "Found the URL: https://codeup.com/hire-tech-talent/\n",
      "Found the URL: https://alumni.codeup.com/\n",
      "Found the URL: https://codeup.com/resources/\n",
      "Found the URL: /my-story/\n",
      "Found the URL: https://codeup.com/blog/\n",
      "Found the URL: https://codeup.com/frequently-asked-questions/\n",
      "Found the URL: https://codeup.com/podcast/\n",
      "Found the URL: /apply-now/\n",
      "Found the URL: https://codeup.com/codeup-news/dei-report/\n",
      "Found the URL: https://codeup.com/codeup-news/dei-report/\n",
      "Found the URL: https://codeup.com/codeup-news/dei-report/\n",
      "Found the URL: https://codeup.com/codeup-news/diversity-and-inclusion-award/\n",
      "Found the URL: https://codeup.com/codeup-news/diversity-and-inclusion-award/\n",
      "Found the URL: https://codeup.com/codeup-news/diversity-and-inclusion-award/\n",
      "Found the URL: https://codeup.com/featured/financing-career-transition/\n",
      "Found the URL: https://codeup.com/featured/financing-career-transition/\n",
      "Found the URL: https://codeup.com/featured/financing-career-transition/\n",
      "Found the URL: https://codeup.com/tips-for-prospective-students/tips-for-women/\n",
      "Found the URL: https://codeup.com/tips-for-prospective-students/tips-for-women/\n",
      "Found the URL: https://codeup.com/tips-for-prospective-students/tips-for-women/\n",
      "Found the URL: https://codeup.com/cloud-administration/cloud-computing-and-aws/\n",
      "Found the URL: https://codeup.com/cloud-administration/cloud-computing-and-aws/\n",
      "Found the URL: https://codeup.com/cloud-administration/cloud-computing-and-aws/\n",
      "Found the URL: https://codeup.com/codeup-news/c-suite-award-stephen-noteboom/\n",
      "Found the URL: https://codeup.com/codeup-news/c-suite-award-stephen-noteboom/\n",
      "Found the URL: https://codeup.com/codeup-news/c-suite-award-stephen-noteboom/\n",
      "Found the URL: https://codeup.com/blog/page/2/?et_blog\n",
      "Found the URL: tel:12108027289\n",
      "Found the URL: https://www.facebook.com/GoCodeup/\n",
      "Found the URL: https://twitter.com/gocodeup\n",
      "Found the URL: https://www.instagram.com/gocodeup/?hl=en\n",
      "Found the URL: https://www.linkedin.com/school/3799914\n",
      "Found the URL: /podcast/\n",
      "Found the URL: /dallas\n",
      "Found the URL: /san-antonio\n",
      "Found the URL: /index.php/\n",
      "Found the URL: /why-codeup/\n",
      "Found the URL: /financial-aid/\n",
      "Found the URL: /my-story/\n",
      "Found the URL: /hire-tech-talent/\n",
      "Found the URL: /refund/\n",
      "Found the URL: /frequently-asked-questions/\n",
      "Found the URL: /careers/\n",
      "Found the URL: /pr/\n",
      "Found the URL: /program/full-stack-web-development/\n",
      "Found the URL: /program/data-science/\n",
      "Found the URL: /cloud-administration/\n",
      "Found the URL: /free/\n",
      "Found the URL: /apply-now/\n",
      "Found the URL: /privacy/\n",
      "Found the URL: /student-complaint-policy/\n",
      "Found the URL: /codeup-news/inclusion-at-codeup-during-pride-month-and-always/\n",
      "Found the URL: /accessibility/\n",
      "Found the URL: /sitemap_index.xml\n"
     ]
    }
   ],
   "source": [
    "for a in soup.find_all('a', href=True):\n",
    "    print(\"Found the URL:\", a['href'])"
   ]
  },
  {
   "cell_type": "markdown",
   "id": "ad336d4f-dcd3-4bb4-89c6-c4d344464f98",
   "metadata": {},
   "source": [
    "### **Bonus:** Scrape the text of all the articles linked on [codeup's blog page](https://codeup.com/blog/)."
   ]
  },
  {
   "cell_type": "code",
   "execution_count": 1,
   "id": "0a952cca-3d3c-4469-b3f1-fcfd92c128c9",
   "metadata": {},
   "outputs": [],
   "source": [
    "from aquire import get_blog_articles"
   ]
  },
  {
   "cell_type": "code",
   "execution_count": 2,
   "id": "3cb00fab-bbf0-4b1f-83b3-92b7e51fe37d",
   "metadata": {},
   "outputs": [
    {
     "data": {
      "text/plain": [
       "[{'title': 'Diversity Equity and Inclusion Report',\n",
       "  'url': 'https://codeup.com/codeup-news/dei-report/',\n",
       "  'date': 'Oct 7, 2022',\n",
       "  'tags': 'Codeup News',\n",
       "  'content': ' Codeup is excited to launch our first Diversity Equity, and Inclusion (DEI) report! In over eight years as an organization, we’ve implemented policies and grown our DEI efforts. We are extremely proud of the progress we’ve made as a staff and Codeup community, and we recognize there is more to learn. This report captures some of the ways that we’ve lived our value of Cultivating Inclusive Growth, and how we will continue doing so as we look to the future. We wanted to shine a light on the demographics of our students and staff, and in particular how that compares to the tech industry as a whole. How we collect, organize, and share employee demographic data is informed by standards set by the Equal Employment Opportunity Commission (EEOC). We are proud to celebrate how we’ve grown and are motivated and committed to do more and be better. To view the report visit the link here, or download it below.'},\n",
       " {'title': 'Codeup Honored as SABJ Diversity and Inclusion Award Winner',\n",
       "  'url': 'https://codeup.com/codeup-news/diversity-and-inclusion-award/',\n",
       "  'date': 'Oct 7, 2022',\n",
       "  'tags': 'Codeup News',\n",
       "  'content': ' Codeup has been named the 2022 Diversity and Inclusion award winner from the San Antonio Business Journal! We are thrilled to be among those that take pride in ensuring that diversity, equity, and inclusion (DEI) are priorities in our work environments. To learn more about our efforts, please check out our DEI Report for 2022!'},\n",
       " {'title': 'How Can I Finance My Career Transition?',\n",
       "  'url': 'https://codeup.com/featured/financing-career-transition/',\n",
       "  'date': 'Sep 29, 2022',\n",
       "  'tags': 'SCloud Administration, Data Science, Featured, Financing, Full Stack Web Development, Tips for Prospective Students',\n",
       "  'content': ' Deciding to transition into a tech career is a big step and a more significant commitment. Often after deciding to commit to a journey of this nature, the main obstacle is finding a way to finance your training. At Codeup, we recognize that many of our students are career transitioners, and attending one of our programs can sometimes require sacrifice. Luckily, we have several ways to help you finance your career transition, ultimately leading to that new career you’ve decided to pursue. We offer three different accelerated coding bootcamps at Codeup including Full-Stack Web Development, Cloud Administration, and Data Science. These are all instructor-led and designed to quickly equip you with the skills and knowledge to secure an entry-level position in-field.'},\n",
       " {'title': 'Tips for Women Beginning a Career in Tech',\n",
       "  'url': 'https://codeup.com/tips-for-prospective-students/tips-for-women/',\n",
       "  'date': 'Sep 23, 2022',\n",
       "  'tags': 'STips for Prospective Students',\n",
       "  'content': ' Codeup strongly values diversity, and inclusion. In honor of American Business Women’s Day, we’d like to share eight tips and pieces of advice from Codeup’s women in tech for women looking to begin their careers in tech! Codeup works hard to close the gender inequality gap, and to diversify the tech world by producing a unique blend of tech talent. We also offer a Women in Tech scholarship open to anyone who identifies as a woman. Our goal is to make a career in tech accessible to all. Join us on our journey of empowering women in tech today! Apply or request more information on our programs to jumpstart your career in tech.'},\n",
       " {'title': 'What is Cloud Computing and AWS?',\n",
       "  'url': 'https://codeup.com/cloud-administration/cloud-computing-and-aws/',\n",
       "  'date': 'Sep 13, 2022',\n",
       "  'tags': 'SCloud Administration, Tips for Prospective Students',\n",
       "  'content': ' With many companies switching to cloud services and implementing cloud infrastructure in their practices, many of us may be wondering…what is cloud computing, and what is AWS? Hopefully, this beginner-friendly guide will answer these questions and give you a foundational understanding of AWS and how cloud infrastructure differs from traditional IT. Cloud computing is data hosted via the internet by an independent party. This independent party extends its infrastructure to customers with a pay-as-you-go pricing model.'},\n",
       " {'title': '2022 SABJ C-Suite Award Winner: Stephen Noteboom',\n",
       "  'url': 'https://codeup.com/codeup-news/c-suite-award-stephen-noteboom/',\n",
       "  'date': 'Sep 9, 2022',\n",
       "  'tags': 'Codeup News',\n",
       "  'content': ' Codeup’s Chief Operating Officer, Stephen Noteboom has won the 2022 San Antonio Business Journal’s C-Suite Award! This award recognizes Stephen as a top C-Suite leader in San Antonio, TX, and we couldn’t be more proud. Stephen has been with Codeup for a year and a half, and has been nothing short of a great COO. We are so excited to share in such a fantastic accomplishment, and we will continue to strive for excellence going forward.'}]"
      ]
     },
     "execution_count": 2,
     "metadata": {},
     "output_type": "execute_result"
    }
   ],
   "source": [
    "blog_dict = get_blog_articles()\n",
    "blog_dict"
   ]
  },
  {
   "cell_type": "markdown",
   "id": "d90c5a28-afc4-46f6-a7ec-2c5058cf2776",
   "metadata": {},
   "source": [
    "## 2. News Articles\n",
    "\n",
    "We will now be scraping text data from [inshorts](https://inshorts.com/), a website that provides a brief overview of many different topics.\n",
    "\n",
    "Write a function that scrapes the news articles for the following topics:"
   ]
  },
  {
   "cell_type": "code",
   "execution_count": 4,
   "id": "6796515a-eea7-434e-986e-fca7c41ebebb",
   "metadata": {},
   "outputs": [],
   "source": [
    "url = 'https://inshorts.com/en/read'"
   ]
  },
  {
   "cell_type": "code",
   "execution_count": 6,
   "id": "a3e75c6b-1ddd-45f6-8fa9-1f82348c2cd3",
   "metadata": {},
   "outputs": [],
   "source": [
    "soup = BeautifulSoup(get(url).content)"
   ]
  },
  {
   "cell_type": "code",
   "execution_count": 7,
   "id": "08becca8-7d35-4906-bee2-150cbf2593f7",
   "metadata": {},
   "outputs": [
    {
     "data": {
      "text/plain": [
       "'india'"
      ]
     },
     "execution_count": 7,
     "metadata": {},
     "output_type": "execute_result"
    }
   ],
   "source": [
    "soup.find_all('li')[1].text.lower()"
   ]
  },
  {
   "cell_type": "code",
   "execution_count": 8,
   "id": "f97b8c60-009d-4a89-8ab3-32fc95820621",
   "metadata": {},
   "outputs": [
    {
     "data": {
      "text/plain": [
       "'https://inshorts.com/en/read/india'"
      ]
     },
     "execution_count": 8,
     "metadata": {},
     "output_type": "execute_result"
    }
   ],
   "source": [
    "url + '/' + soup.find_all('li')[1].text.lower()"
   ]
  },
  {
   "cell_type": "code",
   "execution_count": null,
   "id": "87e9636c-e6a8-4854-ad78-b997b589015b",
   "metadata": {},
   "outputs": [],
   "source": [
    "def get_cats(base_url):\n",
    "    soup = BeautifulSoup(get(base_url).content)\n",
    "    return [cat.text.lower() for cat in soup"
   ]
  },
  {
   "cell_type": "code",
   "execution_count": null,
   "id": "27e9d285-edb7-44bd-bac6-ca11567e0801",
   "metadata": {},
   "outputs": [],
   "source": []
  },
  {
   "cell_type": "code",
   "execution_count": null,
   "id": "218c8cf6-f41c-4d97-bfae-4354ad784c6d",
   "metadata": {},
   "outputs": [],
   "source": []
  },
  {
   "cell_type": "markdown",
   "id": "65d8170e-1c97-4c20-813a-c236f986bc86",
   "metadata": {},
   "source": [
    "### - Business"
   ]
  },
  {
   "cell_type": "code",
   "execution_count": null,
   "id": "f6c714ed-e6db-4ef3-8ead-1396b1093953",
   "metadata": {},
   "outputs": [],
   "source": []
  },
  {
   "cell_type": "markdown",
   "id": "6f64672a-a231-46b7-a9ba-05a86a401705",
   "metadata": {},
   "source": [
    "### - Sports"
   ]
  },
  {
   "cell_type": "code",
   "execution_count": null,
   "id": "7328670c-660f-44eb-ae29-c5da727959c9",
   "metadata": {},
   "outputs": [],
   "source": []
  },
  {
   "cell_type": "markdown",
   "id": "8fd30c8b-53ed-4d1e-ac5a-5f829d21b45d",
   "metadata": {},
   "source": [
    "### - Technology"
   ]
  },
  {
   "cell_type": "code",
   "execution_count": null,
   "id": "5f2def3e-56fb-4331-a264-f98b5140c24f",
   "metadata": {},
   "outputs": [],
   "source": []
  },
  {
   "cell_type": "markdown",
   "id": "88589ea2-6bd4-4dc9-aa8f-09c24e6cce56",
   "metadata": {},
   "source": [
    "### - Entertainment"
   ]
  },
  {
   "cell_type": "code",
   "execution_count": null,
   "id": "44961075-1893-452e-b6c6-6ac51392c48c",
   "metadata": {},
   "outputs": [],
   "source": []
  },
  {
   "cell_type": "markdown",
   "id": "3eb20d8e-53a0-4d16-8daa-1ef4918b4054",
   "metadata": {},
   "source": [
    "The end product of this should be a function named `get_news_articles` that returns a list of dictionaries, where each dictionary has this shape:\n",
    "\n",
    "\n",
    ">{\n",
    "    'title': 'The article title',\n",
    "    'content': 'The article content',\n",
    "    'category': 'business' # for example\n",
    "}"
   ]
  },
  {
   "cell_type": "code",
   "execution_count": null,
   "id": "11d303b2-42cf-4eea-95b4-396255189636",
   "metadata": {},
   "outputs": [],
   "source": []
  },
  {
   "cell_type": "markdown",
   "id": "ce1d13fa-d5b4-4720-91b7-ffd28266440a",
   "metadata": {},
   "source": [
    "## Hints:\n",
    "\n",
    "1. Start by inspecting the website in your browser. Figure out which elements will be useful.\n",
    "2. Start by creating a function that handles a single article and produces a dictionary like the one above.\n",
    "3. Next create a function that will find all the articles on a single page and call the function you created in the last step for every article on the page.\n",
    "4. Now create a function that will use the previous two functions to scrape the articles from all the pages that you need, and do any additional processing that needs to be done."
   ]
  },
  {
   "cell_type": "code",
   "execution_count": null,
   "id": "5ab05587-94a0-41e0-b58d-7eed433d413b",
   "metadata": {},
   "outputs": [],
   "source": []
  },
  {
   "cell_type": "markdown",
   "id": "8414d184-70c9-4615-83dd-85be27cd58e5",
   "metadata": {},
   "source": [
    "## 3. Bonus: cache the data\n",
    "\n",
    "Write your code such that the acquired data is saved locally in some form or fashion. Your functions that retrieve the data should prefer to read the local data instead of having to make all the requests everytime the function is called. Include a boolean flag in the functions to allow the data to be acquired \"fresh\" from the actual sources (re-writing your local cache)."
   ]
  },
  {
   "cell_type": "code",
   "execution_count": null,
   "id": "ff7cc0b0-7f1f-42d1-963f-85d66fb5abc2",
   "metadata": {},
   "outputs": [],
   "source": []
  }
 ],
 "metadata": {
  "kernelspec": {
   "display_name": "Python 3 (ipykernel)",
   "language": "python",
   "name": "python3"
  },
  "language_info": {
   "codemirror_mode": {
    "name": "ipython",
    "version": 3
   },
   "file_extension": ".py",
   "mimetype": "text/x-python",
   "name": "python",
   "nbconvert_exporter": "python",
   "pygments_lexer": "ipython3",
   "version": "3.9.12"
  }
 },
 "nbformat": 4,
 "nbformat_minor": 5
}
