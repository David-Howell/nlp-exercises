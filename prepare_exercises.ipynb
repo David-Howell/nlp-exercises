{
 "cells": [
  {
   "cell_type": "markdown",
   "id": "024e3a34-18fe-4ca6-8402-2c460e1c0c5a",
   "metadata": {},
   "source": [
    "# Exercises\n",
    "The end result of this exercise should be a file named `prepare.py` that defines the requested functions.\n",
    "\n",
    "In this exercise we will be defining some functions to prepare textual data. These functions should apply equally well to both the codeup blog articles and the news articles that were previously acquired."
   ]
  },
  {
   "cell_type": "code",
   "execution_count": 1,
   "id": "52b71f5c-71d9-48d6-9b10-f7d9b620e089",
   "metadata": {},
   "outputs": [],
   "source": [
    "import pandas as pd\n",
    "import numpy as np\n",
    "import unicodedata\n",
    "import re\n",
    "import nltk\n",
    "from nltk.corpus import stopwords"
   ]
  },
  {
   "cell_type": "markdown",
   "id": "1e0a3d4d-7f00-40be-bb3b-d368a72189cb",
   "metadata": {},
   "source": [
    "### 1. Define a function named `basic_clean`. It should take in a string and apply some basic text cleaning to it:"
   ]
  },
  {
   "cell_type": "code",
   "execution_count": 2,
   "id": "f6880a4b-708f-404b-a927-0a88159c6b9a",
   "metadata": {},
   "outputs": [],
   "source": [
    "def basic_clean(string):\n",
    "    clean = string.lower()\n",
    "    clean = unicodedata.normalize('NFKD', clean)\\\n",
    "    .encode('ascii', 'ignore')\\\n",
    "    .decode('utf-8')\n",
    "    clean = re.sub(r'[^a-z0-9\\'\\s]', '', clean)\n",
    "    \n",
    "    return clean"
   ]
  },
  {
   "cell_type": "code",
   "execution_count": 3,
   "id": "69d9a753-bbc8-437b-8ee4-83257774e254",
   "metadata": {},
   "outputs": [],
   "source": [
    "test_string = 'This is a testing string. There\\'s a ; numBER \"of\" THings in > here that should be % Removed'"
   ]
  },
  {
   "cell_type": "code",
   "execution_count": 4,
   "id": "d4c03a19-cf20-4a94-99ad-af393d974226",
   "metadata": {},
   "outputs": [
    {
     "data": {
      "text/plain": [
       "\"this is a testing string there's a  number of things in  here that should be  removed\""
      ]
     },
     "execution_count": 4,
     "metadata": {},
     "output_type": "execute_result"
    }
   ],
   "source": [
    "clean_string = basic_clean(test_string)\n",
    "clean_string"
   ]
  },
  {
   "cell_type": "markdown",
   "id": "34212208-42cd-4523-b58e-3f48e241740f",
   "metadata": {
    "tags": []
   },
   "source": [
    "#### - Lowercase everything\n",
    "\n",
    "#### - Normalize unicode characters\n",
    "\n",
    "#### - Replace anything that is not a letter, number, whitespace or a single quote."
   ]
  },
  {
   "cell_type": "markdown",
   "id": "ba0cab8d-a1b8-4a5f-b776-9488484972c5",
   "metadata": {},
   "source": [
    "### 2. Define a function named `tokenize`. It should take in a string and tokenize all the words in the string."
   ]
  },
  {
   "cell_type": "code",
   "execution_count": 5,
   "id": "45f364cb-3052-445b-b9a9-814c0ce3d3f6",
   "metadata": {},
   "outputs": [],
   "source": [
    "def tokenize(string):\n",
    "    toke = nltk.tokenize.ToktokTokenizer()\n",
    "    toked = toke.tokenize(string, return_str=True)\n",
    "    return toked"
   ]
  },
  {
   "cell_type": "code",
   "execution_count": 6,
   "id": "23c299eb-491f-46c7-8477-b7fac24cc67c",
   "metadata": {},
   "outputs": [
    {
     "data": {
      "text/plain": [
       "\"this is a testing string there ' s a number of things in here that should be removed\""
      ]
     },
     "execution_count": 6,
     "metadata": {},
     "output_type": "execute_result"
    }
   ],
   "source": [
    "token_string = tokenize(clean_string)\n",
    "token_string"
   ]
  },
  {
   "cell_type": "markdown",
   "id": "822fc996-c85e-4965-9f18-26eb62a76cdf",
   "metadata": {},
   "source": [
    "### 3. Define a function named `stem`. It should accept some text and return the text after applying stemming to all the words."
   ]
  },
  {
   "cell_type": "code",
   "execution_count": 7,
   "id": "9ad22a8c-5691-4e56-9ead-8f84a36959a3",
   "metadata": {},
   "outputs": [],
   "source": [
    "def stem(string):\n",
    "    ps = nltk.porter.PorterStemmer()\n",
    "    stemmed = [ps.stem(word) for word in string.split()]\n",
    "    stemmed = ' '.join(stemmed)\n",
    "    return stemmed"
   ]
  },
  {
   "cell_type": "code",
   "execution_count": 8,
   "id": "d7c4bdec-55ae-4781-a6c2-0a8420c588f2",
   "metadata": {},
   "outputs": [
    {
     "data": {
      "text/plain": [
       "\"thi is a test string there ' s a number of thing in here that should be remov\""
      ]
     },
     "execution_count": 8,
     "metadata": {},
     "output_type": "execute_result"
    }
   ],
   "source": [
    "stemmed_string = stem(token_string)\n",
    "stemmed_string"
   ]
  },
  {
   "cell_type": "markdown",
   "id": "f76c72b2-bce6-4c08-883c-fde689152640",
   "metadata": {},
   "source": [
    "### 4. Define a function named `lemmatize`. It should accept some text and return the text after applying lemmatization to each word."
   ]
  },
  {
   "cell_type": "code",
   "execution_count": 9,
   "id": "d390cd08-1dc8-40b7-9115-b137d6b203f4",
   "metadata": {},
   "outputs": [],
   "source": [
    "def lemmatize(string):\n",
    "    #create the lemmatizer\n",
    "    wnl = nltk.stem.WordNetLemmatizer()\n",
    "    \n",
    "    lemman = [wnl.lemmatize(word) for word in string.split()]\n",
    "    \n",
    "    output_lemman = ' '.join(lemman)\n",
    "    \n",
    "    return output_lemman"
   ]
  },
  {
   "cell_type": "code",
   "execution_count": 10,
   "id": "50833537-eba7-4146-b900-5a579cb03bbc",
   "metadata": {},
   "outputs": [
    {
     "data": {
      "text/plain": [
       "\"this is a testing string there ' s a number of thing in here that should be removed\""
      ]
     },
     "execution_count": 10,
     "metadata": {},
     "output_type": "execute_result"
    }
   ],
   "source": [
    "lemmed_string = lemmatize(token_string)\n",
    "lemmed_string"
   ]
  },
  {
   "cell_type": "markdown",
   "id": "816d41b9-7969-46ec-836c-3575dc834484",
   "metadata": {},
   "source": [
    "### 5. Define a function named `remove_stopwords`. It should accept some text and return the text after removing all the stopwords.\n",
    "\n",
    "This function should define two optional parameters, `extra_words` and `exclude_words`. These parameters should define any additional stop words to include, and any words that we *don't* want to remove."
   ]
  },
  {
   "cell_type": "code",
   "execution_count": 11,
   "id": "d0f4eb75-d034-4f82-bc20-387c02873e79",
   "metadata": {},
   "outputs": [],
   "source": [
    "def remove_stopwords(string):\n",
    "    stopper = stopwords.words('english')\n",
    "    stopper.append(\"'\")\n",
    "    my_words = string.split()\n",
    "    dont_stop = [word for word in my_words if word not in stopper]\n",
    "    unstopped = ' '.join(dont_stop)\n",
    "    return unstopped"
   ]
  },
  {
   "cell_type": "code",
   "execution_count": 12,
   "id": "03877559-02a3-44a7-b680-b54215bc1726",
   "metadata": {},
   "outputs": [
    {
     "data": {
      "text/plain": [
       "'testing string number thing removed'"
      ]
     },
     "execution_count": 12,
     "metadata": {},
     "output_type": "execute_result"
    }
   ],
   "source": [
    "does_this_work = remove_stopwords(lemmed_string)\n",
    "does_this_work"
   ]
  },
  {
   "cell_type": "code",
   "execution_count": 13,
   "id": "dd255d10-b12e-4c8b-85a6-ceb6526fbaa3",
   "metadata": {},
   "outputs": [
    {
     "data": {
      "text/plain": [
       "'thi test string number thing remov'"
      ]
     },
     "execution_count": 13,
     "metadata": {},
     "output_type": "execute_result"
    }
   ],
   "source": [
    "what_about_this = remove_stopwords(stemmed_string)\n",
    "what_about_this"
   ]
  },
  {
   "cell_type": "markdown",
   "id": "0c07abcb-6f87-44a8-8585-8cfcfa4315b3",
   "metadata": {},
   "source": [
    "### 6. Use your data from the acquire to produce a dataframe of the news articles. Name the dataframe `news_df`."
   ]
  },
  {
   "cell_type": "code",
   "execution_count": 14,
   "id": "9220c1d7-4ad5-458a-8ad9-3990f98e0704",
   "metadata": {},
   "outputs": [],
   "source": [
    "import aquire"
   ]
  },
  {
   "cell_type": "code",
   "execution_count": 15,
   "id": "c297ef1d-6fcd-483d-91f9-0740b3c39973",
   "metadata": {},
   "outputs": [],
   "source": [
    "news_df = pd.DataFrame(aquire.get_all_shorts())"
   ]
  },
  {
   "cell_type": "code",
   "execution_count": 16,
   "id": "f233d083-32cd-4fb0-b69f-ac554dcf2d6d",
   "metadata": {},
   "outputs": [
    {
     "data": {
      "text/html": [
       "<div>\n",
       "<style scoped>\n",
       "    .dataframe tbody tr th:only-of-type {\n",
       "        vertical-align: middle;\n",
       "    }\n",
       "\n",
       "    .dataframe tbody tr th {\n",
       "        vertical-align: top;\n",
       "    }\n",
       "\n",
       "    .dataframe thead th {\n",
       "        text-align: right;\n",
       "    }\n",
       "</style>\n",
       "<table border=\"1\" class=\"dataframe\">\n",
       "  <thead>\n",
       "    <tr style=\"text-align: right;\">\n",
       "      <th></th>\n",
       "      <th>title</th>\n",
       "      <th>category</th>\n",
       "      <th>body</th>\n",
       "    </tr>\n",
       "  </thead>\n",
       "  <tbody>\n",
       "    <tr>\n",
       "      <th>0</th>\n",
       "      <td>Bharti Airtel rakes in 61% profit</td>\n",
       "      <td>india</td>\n",
       "      <td>Bharti Airtel, India's top telecommunications ...</td>\n",
       "    </tr>\n",
       "    <tr>\n",
       "      <th>1</th>\n",
       "      <td>Infosys Gifts Sikka Shares Worth Rs 8.2cr</td>\n",
       "      <td>india</td>\n",
       "      <td>In a regulatory filing to the BSE on Friday, I...</td>\n",
       "    </tr>\n",
       "  </tbody>\n",
       "</table>\n",
       "</div>"
      ],
      "text/plain": [
       "                                       title category  \\\n",
       "0          Bharti Airtel rakes in 61% profit    india   \n",
       "1  Infosys Gifts Sikka Shares Worth Rs 8.2cr    india   \n",
       "\n",
       "                                                body  \n",
       "0  Bharti Airtel, India's top telecommunications ...  \n",
       "1  In a regulatory filing to the BSE on Friday, I...  "
      ]
     },
     "execution_count": 16,
     "metadata": {},
     "output_type": "execute_result"
    }
   ],
   "source": [
    "news_df.head(2)"
   ]
  },
  {
   "cell_type": "markdown",
   "id": "3d90b2a8-8bb2-45a9-bfdd-6b70f8e76c6f",
   "metadata": {},
   "source": [
    "### 7. Make another dataframe for the Codeup blog posts. Name the dataframe codeup_df."
   ]
  },
  {
   "cell_type": "code",
   "execution_count": 17,
   "id": "d50f5d63-4a9b-41af-8adc-e3674289ecc0",
   "metadata": {},
   "outputs": [],
   "source": [
    "codeup_df = pd.DataFrame(aquire.get_blog_articles())"
   ]
  },
  {
   "cell_type": "code",
   "execution_count": 18,
   "id": "bdc2d243-e828-4130-8571-524d69798aa2",
   "metadata": {},
   "outputs": [
    {
     "data": {
      "text/html": [
       "<div>\n",
       "<style scoped>\n",
       "    .dataframe tbody tr th:only-of-type {\n",
       "        vertical-align: middle;\n",
       "    }\n",
       "\n",
       "    .dataframe tbody tr th {\n",
       "        vertical-align: top;\n",
       "    }\n",
       "\n",
       "    .dataframe thead th {\n",
       "        text-align: right;\n",
       "    }\n",
       "</style>\n",
       "<table border=\"1\" class=\"dataframe\">\n",
       "  <thead>\n",
       "    <tr style=\"text-align: right;\">\n",
       "      <th></th>\n",
       "      <th>title</th>\n",
       "      <th>content</th>\n",
       "    </tr>\n",
       "  </thead>\n",
       "  <tbody>\n",
       "    <tr>\n",
       "      <th>0</th>\n",
       "      <td>Diversity Equity and Inclusion Report</td>\n",
       "      <td>Codeup is excited to launch our first Diversit...</td>\n",
       "    </tr>\n",
       "    <tr>\n",
       "      <th>1</th>\n",
       "      <td>Codeup Honored as SABJ Diversity and Inclusion...</td>\n",
       "      <td>Codeup has been named the 2022 Diversity and I...</td>\n",
       "    </tr>\n",
       "  </tbody>\n",
       "</table>\n",
       "</div>"
      ],
      "text/plain": [
       "                                               title  \\\n",
       "0              Diversity Equity and Inclusion Report   \n",
       "1  Codeup Honored as SABJ Diversity and Inclusion...   \n",
       "\n",
       "                                             content  \n",
       "0  Codeup is excited to launch our first Diversit...  \n",
       "1  Codeup has been named the 2022 Diversity and I...  "
      ]
     },
     "execution_count": 18,
     "metadata": {},
     "output_type": "execute_result"
    }
   ],
   "source": [
    "codeup_df.head(2)"
   ]
  },
  {
   "cell_type": "markdown",
   "id": "302b7d60-dd2d-4432-82c7-44947775bf42",
   "metadata": {},
   "source": [
    "### 8. For each dataframe, produce the following columns:"
   ]
  },
  {
   "cell_type": "markdown",
   "id": "98dc293f-f02b-48aa-86c4-e07b4a18b48a",
   "metadata": {},
   "source": [
    "#### - `title` to hold the title"
   ]
  },
  {
   "cell_type": "markdown",
   "id": "57eed082-5198-41a9-a057-b9e906bc6bf1",
   "metadata": {},
   "source": [
    "Already there..."
   ]
  },
  {
   "cell_type": "markdown",
   "id": "982f5dc0-e035-4eac-aaf1-73511be02614",
   "metadata": {},
   "source": [
    "#### - `original` to hold the original article/post content"
   ]
  },
  {
   "cell_type": "code",
   "execution_count": 19,
   "id": "e4c8eaad-b6eb-4067-8fb4-0f19ded282e8",
   "metadata": {},
   "outputs": [],
   "source": [
    "def make_original(dataframe):\n",
    "    for i in dataframe:\n",
    "        if i == 'body':\n",
    "            dataframe['original'] = dataframe['body'].copy()\n",
    "        if i == 'content':\n",
    "            dataframe['original'] = dataframe['content'].copy()\n",
    "    return dataframe"
   ]
  },
  {
   "cell_type": "code",
   "execution_count": 20,
   "id": "93a18cf9-4bfb-48d9-b8a5-23acd6f652e5",
   "metadata": {},
   "outputs": [],
   "source": [
    "codeup_df = make_original(codeup_df)"
   ]
  },
  {
   "cell_type": "code",
   "execution_count": 21,
   "id": "acd24a51-b134-414b-abd2-0bf107955ba7",
   "metadata": {},
   "outputs": [],
   "source": [
    "news_df = make_original(news_df)"
   ]
  },
  {
   "cell_type": "markdown",
   "id": "ccc64b38-365b-434e-a141-ed8fcc0550b2",
   "metadata": {},
   "source": [
    "#### - `clean` to hold the normalized and tokenized original with the stopwords removed."
   ]
  },
  {
   "cell_type": "code",
   "execution_count": 22,
   "id": "f828241c-6778-4391-ae17-b15c8b97e0b0",
   "metadata": {},
   "outputs": [
    {
     "data": {
      "text/plain": [
       "0    codeup excited launch first diversity equity i...\n",
       "1    codeup named 2022 diversity inclusion award wi...\n",
       "2    deciding transition tech career big step signi...\n",
       "3    codeup strongly values diversity inclusion hon...\n",
       "4    many companies switching cloud services implem...\n",
       "5    codeups chief operating officer stephen notebo...\n",
       "Name: content, dtype: object"
      ]
     },
     "execution_count": 22,
     "metadata": {},
     "output_type": "execute_result"
    }
   ],
   "source": [
    "codeup_df['content'].apply(basic_clean).apply(tokenize).apply(remove_stopwords)"
   ]
  },
  {
   "cell_type": "code",
   "execution_count": 23,
   "id": "7de1b2c2-f795-461b-89bc-bc1e72f53c91",
   "metadata": {},
   "outputs": [],
   "source": [
    "def make_clean(dataframe):\n",
    "    dataframe['clean'] = dataframe['original'].apply(basic_clean).apply(tokenize).apply(remove_stopwords)\n",
    "    return dataframe"
   ]
  },
  {
   "cell_type": "code",
   "execution_count": 24,
   "id": "2cdda53d-2a6c-4254-831d-808f6333a33e",
   "metadata": {},
   "outputs": [
    {
     "data": {
      "text/html": [
       "<div>\n",
       "<style scoped>\n",
       "    .dataframe tbody tr th:only-of-type {\n",
       "        vertical-align: middle;\n",
       "    }\n",
       "\n",
       "    .dataframe tbody tr th {\n",
       "        vertical-align: top;\n",
       "    }\n",
       "\n",
       "    .dataframe thead th {\n",
       "        text-align: right;\n",
       "    }\n",
       "</style>\n",
       "<table border=\"1\" class=\"dataframe\">\n",
       "  <thead>\n",
       "    <tr style=\"text-align: right;\">\n",
       "      <th></th>\n",
       "      <th>title</th>\n",
       "      <th>content</th>\n",
       "      <th>original</th>\n",
       "      <th>clean</th>\n",
       "    </tr>\n",
       "  </thead>\n",
       "  <tbody>\n",
       "    <tr>\n",
       "      <th>0</th>\n",
       "      <td>Diversity Equity and Inclusion Report</td>\n",
       "      <td>Codeup is excited to launch our first Diversit...</td>\n",
       "      <td>Codeup is excited to launch our first Diversit...</td>\n",
       "      <td>codeup excited launch first diversity equity i...</td>\n",
       "    </tr>\n",
       "  </tbody>\n",
       "</table>\n",
       "</div>"
      ],
      "text/plain": [
       "                                   title  \\\n",
       "0  Diversity Equity and Inclusion Report   \n",
       "\n",
       "                                             content  \\\n",
       "0  Codeup is excited to launch our first Diversit...   \n",
       "\n",
       "                                            original  \\\n",
       "0  Codeup is excited to launch our first Diversit...   \n",
       "\n",
       "                                               clean  \n",
       "0  codeup excited launch first diversity equity i...  "
      ]
     },
     "execution_count": 24,
     "metadata": {},
     "output_type": "execute_result"
    }
   ],
   "source": [
    "codeup_df = make_clean(codeup_df)\n",
    "codeup_df.head(1)"
   ]
  },
  {
   "cell_type": "code",
   "execution_count": 25,
   "id": "76ce1c9f-bfe7-4a1c-b3ed-ea494ce526d1",
   "metadata": {},
   "outputs": [
    {
     "data": {
      "text/html": [
       "<div>\n",
       "<style scoped>\n",
       "    .dataframe tbody tr th:only-of-type {\n",
       "        vertical-align: middle;\n",
       "    }\n",
       "\n",
       "    .dataframe tbody tr th {\n",
       "        vertical-align: top;\n",
       "    }\n",
       "\n",
       "    .dataframe thead th {\n",
       "        text-align: right;\n",
       "    }\n",
       "</style>\n",
       "<table border=\"1\" class=\"dataframe\">\n",
       "  <thead>\n",
       "    <tr style=\"text-align: right;\">\n",
       "      <th></th>\n",
       "      <th>title</th>\n",
       "      <th>category</th>\n",
       "      <th>body</th>\n",
       "      <th>original</th>\n",
       "      <th>clean</th>\n",
       "    </tr>\n",
       "  </thead>\n",
       "  <tbody>\n",
       "    <tr>\n",
       "      <th>0</th>\n",
       "      <td>Bharti Airtel rakes in 61% profit</td>\n",
       "      <td>india</td>\n",
       "      <td>Bharti Airtel, India's top telecommunications ...</td>\n",
       "      <td>Bharti Airtel, India's top telecommunications ...</td>\n",
       "      <td>bharti airtel india top telecommunications com...</td>\n",
       "    </tr>\n",
       "  </tbody>\n",
       "</table>\n",
       "</div>"
      ],
      "text/plain": [
       "                               title category  \\\n",
       "0  Bharti Airtel rakes in 61% profit    india   \n",
       "\n",
       "                                                body  \\\n",
       "0  Bharti Airtel, India's top telecommunications ...   \n",
       "\n",
       "                                            original  \\\n",
       "0  Bharti Airtel, India's top telecommunications ...   \n",
       "\n",
       "                                               clean  \n",
       "0  bharti airtel india top telecommunications com...  "
      ]
     },
     "execution_count": 25,
     "metadata": {},
     "output_type": "execute_result"
    }
   ],
   "source": [
    "news_df = make_clean(news_df)\n",
    "news_df.head(1)"
   ]
  },
  {
   "cell_type": "markdown",
   "id": "ce17eaf7-abba-4ae5-a006-f7e8dcf922a1",
   "metadata": {},
   "source": [
    "#### - `stemmed` to hold the stemmed version of the cleaned data."
   ]
  },
  {
   "cell_type": "code",
   "execution_count": 26,
   "id": "39743ef7-605d-478e-b12f-70db3f608c21",
   "metadata": {},
   "outputs": [],
   "source": [
    "def make_stemmed(dataframe):\n",
    "    dataframe['stemmed'] = dataframe['clean'].apply(stem)\n",
    "    return dataframe"
   ]
  },
  {
   "cell_type": "code",
   "execution_count": 27,
   "id": "a031d708-c561-437f-af02-e240e7c8d2df",
   "metadata": {},
   "outputs": [
    {
     "data": {
      "text/html": [
       "<div>\n",
       "<style scoped>\n",
       "    .dataframe tbody tr th:only-of-type {\n",
       "        vertical-align: middle;\n",
       "    }\n",
       "\n",
       "    .dataframe tbody tr th {\n",
       "        vertical-align: top;\n",
       "    }\n",
       "\n",
       "    .dataframe thead th {\n",
       "        text-align: right;\n",
       "    }\n",
       "</style>\n",
       "<table border=\"1\" class=\"dataframe\">\n",
       "  <thead>\n",
       "    <tr style=\"text-align: right;\">\n",
       "      <th></th>\n",
       "      <th>title</th>\n",
       "      <th>category</th>\n",
       "      <th>body</th>\n",
       "      <th>original</th>\n",
       "      <th>clean</th>\n",
       "      <th>stemmed</th>\n",
       "    </tr>\n",
       "  </thead>\n",
       "  <tbody>\n",
       "    <tr>\n",
       "      <th>0</th>\n",
       "      <td>Bharti Airtel rakes in 61% profit</td>\n",
       "      <td>india</td>\n",
       "      <td>Bharti Airtel, India's top telecommunications ...</td>\n",
       "      <td>Bharti Airtel, India's top telecommunications ...</td>\n",
       "      <td>bharti airtel india top telecommunications com...</td>\n",
       "      <td>bharti airtel india top telecommun compani rep...</td>\n",
       "    </tr>\n",
       "  </tbody>\n",
       "</table>\n",
       "</div>"
      ],
      "text/plain": [
       "                               title category  \\\n",
       "0  Bharti Airtel rakes in 61% profit    india   \n",
       "\n",
       "                                                body  \\\n",
       "0  Bharti Airtel, India's top telecommunications ...   \n",
       "\n",
       "                                            original  \\\n",
       "0  Bharti Airtel, India's top telecommunications ...   \n",
       "\n",
       "                                               clean  \\\n",
       "0  bharti airtel india top telecommunications com...   \n",
       "\n",
       "                                             stemmed  \n",
       "0  bharti airtel india top telecommun compani rep...  "
      ]
     },
     "execution_count": 27,
     "metadata": {},
     "output_type": "execute_result"
    }
   ],
   "source": [
    "news_df = make_stemmed(news_df)\n",
    "news_df.head(1)"
   ]
  },
  {
   "cell_type": "code",
   "execution_count": 28,
   "id": "90085f86-74f4-47bc-b1f0-f1594691f070",
   "metadata": {},
   "outputs": [
    {
     "data": {
      "text/html": [
       "<div>\n",
       "<style scoped>\n",
       "    .dataframe tbody tr th:only-of-type {\n",
       "        vertical-align: middle;\n",
       "    }\n",
       "\n",
       "    .dataframe tbody tr th {\n",
       "        vertical-align: top;\n",
       "    }\n",
       "\n",
       "    .dataframe thead th {\n",
       "        text-align: right;\n",
       "    }\n",
       "</style>\n",
       "<table border=\"1\" class=\"dataframe\">\n",
       "  <thead>\n",
       "    <tr style=\"text-align: right;\">\n",
       "      <th></th>\n",
       "      <th>title</th>\n",
       "      <th>content</th>\n",
       "      <th>original</th>\n",
       "      <th>clean</th>\n",
       "      <th>stemmed</th>\n",
       "    </tr>\n",
       "  </thead>\n",
       "  <tbody>\n",
       "    <tr>\n",
       "      <th>0</th>\n",
       "      <td>Diversity Equity and Inclusion Report</td>\n",
       "      <td>Codeup is excited to launch our first Diversit...</td>\n",
       "      <td>Codeup is excited to launch our first Diversit...</td>\n",
       "      <td>codeup excited launch first diversity equity i...</td>\n",
       "      <td>codeup excit launch first divers equiti inclus...</td>\n",
       "    </tr>\n",
       "  </tbody>\n",
       "</table>\n",
       "</div>"
      ],
      "text/plain": [
       "                                   title  \\\n",
       "0  Diversity Equity and Inclusion Report   \n",
       "\n",
       "                                             content  \\\n",
       "0  Codeup is excited to launch our first Diversit...   \n",
       "\n",
       "                                            original  \\\n",
       "0  Codeup is excited to launch our first Diversit...   \n",
       "\n",
       "                                               clean  \\\n",
       "0  codeup excited launch first diversity equity i...   \n",
       "\n",
       "                                             stemmed  \n",
       "0  codeup excit launch first divers equiti inclus...  "
      ]
     },
     "execution_count": 28,
     "metadata": {},
     "output_type": "execute_result"
    }
   ],
   "source": [
    "codeup_df = make_stemmed(codeup_df)\n",
    "codeup_df.head(1)"
   ]
  },
  {
   "cell_type": "markdown",
   "id": "84e3350a-88ae-48d6-b2a4-af78dad5e8f2",
   "metadata": {},
   "source": [
    "#### - `lemmatized` to hold the lemmatized version of the cleaned data."
   ]
  },
  {
   "cell_type": "code",
   "execution_count": 29,
   "id": "5f7f38f7-f518-426a-8dcb-f6aaa4352b50",
   "metadata": {},
   "outputs": [],
   "source": [
    "def make_lemmatized(dataframe):\n",
    "    dataframe['lemmatized'] = dataframe['clean'].apply(lemmatize)\n",
    "    return dataframe"
   ]
  },
  {
   "cell_type": "code",
   "execution_count": 30,
   "id": "6cdd5dc4-4914-4370-8d14-3f918658756c",
   "metadata": {},
   "outputs": [
    {
     "data": {
      "text/html": [
       "<div>\n",
       "<style scoped>\n",
       "    .dataframe tbody tr th:only-of-type {\n",
       "        vertical-align: middle;\n",
       "    }\n",
       "\n",
       "    .dataframe tbody tr th {\n",
       "        vertical-align: top;\n",
       "    }\n",
       "\n",
       "    .dataframe thead th {\n",
       "        text-align: right;\n",
       "    }\n",
       "</style>\n",
       "<table border=\"1\" class=\"dataframe\">\n",
       "  <thead>\n",
       "    <tr style=\"text-align: right;\">\n",
       "      <th></th>\n",
       "      <th>title</th>\n",
       "      <th>category</th>\n",
       "      <th>body</th>\n",
       "      <th>original</th>\n",
       "      <th>clean</th>\n",
       "      <th>stemmed</th>\n",
       "      <th>lemmatized</th>\n",
       "    </tr>\n",
       "  </thead>\n",
       "  <tbody>\n",
       "    <tr>\n",
       "      <th>0</th>\n",
       "      <td>Bharti Airtel rakes in 61% profit</td>\n",
       "      <td>india</td>\n",
       "      <td>Bharti Airtel, India's top telecommunications ...</td>\n",
       "      <td>Bharti Airtel, India's top telecommunications ...</td>\n",
       "      <td>bharti airtel india top telecommunications com...</td>\n",
       "      <td>bharti airtel india top telecommun compani rep...</td>\n",
       "      <td>bharti airtel india top telecommunication comp...</td>\n",
       "    </tr>\n",
       "  </tbody>\n",
       "</table>\n",
       "</div>"
      ],
      "text/plain": [
       "                               title category  \\\n",
       "0  Bharti Airtel rakes in 61% profit    india   \n",
       "\n",
       "                                                body  \\\n",
       "0  Bharti Airtel, India's top telecommunications ...   \n",
       "\n",
       "                                            original  \\\n",
       "0  Bharti Airtel, India's top telecommunications ...   \n",
       "\n",
       "                                               clean  \\\n",
       "0  bharti airtel india top telecommunications com...   \n",
       "\n",
       "                                             stemmed  \\\n",
       "0  bharti airtel india top telecommun compani rep...   \n",
       "\n",
       "                                          lemmatized  \n",
       "0  bharti airtel india top telecommunication comp...  "
      ]
     },
     "execution_count": 30,
     "metadata": {},
     "output_type": "execute_result"
    }
   ],
   "source": [
    "news_df = make_lemmatized(news_df)\n",
    "news_df.head(1)"
   ]
  },
  {
   "cell_type": "code",
   "execution_count": 31,
   "id": "d994b712-2839-4f8e-bc81-5789fd70492f",
   "metadata": {},
   "outputs": [
    {
     "data": {
      "text/html": [
       "<div>\n",
       "<style scoped>\n",
       "    .dataframe tbody tr th:only-of-type {\n",
       "        vertical-align: middle;\n",
       "    }\n",
       "\n",
       "    .dataframe tbody tr th {\n",
       "        vertical-align: top;\n",
       "    }\n",
       "\n",
       "    .dataframe thead th {\n",
       "        text-align: right;\n",
       "    }\n",
       "</style>\n",
       "<table border=\"1\" class=\"dataframe\">\n",
       "  <thead>\n",
       "    <tr style=\"text-align: right;\">\n",
       "      <th></th>\n",
       "      <th>title</th>\n",
       "      <th>content</th>\n",
       "      <th>original</th>\n",
       "      <th>clean</th>\n",
       "      <th>stemmed</th>\n",
       "      <th>lemmatized</th>\n",
       "    </tr>\n",
       "  </thead>\n",
       "  <tbody>\n",
       "    <tr>\n",
       "      <th>0</th>\n",
       "      <td>Diversity Equity and Inclusion Report</td>\n",
       "      <td>Codeup is excited to launch our first Diversit...</td>\n",
       "      <td>Codeup is excited to launch our first Diversit...</td>\n",
       "      <td>codeup excited launch first diversity equity i...</td>\n",
       "      <td>codeup excit launch first divers equiti inclus...</td>\n",
       "      <td>codeup excited launch first diversity equity i...</td>\n",
       "    </tr>\n",
       "  </tbody>\n",
       "</table>\n",
       "</div>"
      ],
      "text/plain": [
       "                                   title  \\\n",
       "0  Diversity Equity and Inclusion Report   \n",
       "\n",
       "                                             content  \\\n",
       "0  Codeup is excited to launch our first Diversit...   \n",
       "\n",
       "                                            original  \\\n",
       "0  Codeup is excited to launch our first Diversit...   \n",
       "\n",
       "                                               clean  \\\n",
       "0  codeup excited launch first diversity equity i...   \n",
       "\n",
       "                                             stemmed  \\\n",
       "0  codeup excit launch first divers equiti inclus...   \n",
       "\n",
       "                                          lemmatized  \n",
       "0  codeup excited launch first diversity equity i...  "
      ]
     },
     "execution_count": 31,
     "metadata": {},
     "output_type": "execute_result"
    }
   ],
   "source": [
    "codeup_df = make_lemmatized(codeup_df)\n",
    "codeup_df.head(1)"
   ]
  },
  {
   "cell_type": "code",
   "execution_count": 32,
   "id": "4a94628f-4143-433b-bd55-0a5700b1d9af",
   "metadata": {},
   "outputs": [
    {
     "data": {
      "text/plain": [
       "['title', 'content', 'original', 'clean', 'stemmed', 'lemmatized']"
      ]
     },
     "execution_count": 32,
     "metadata": {},
     "output_type": "execute_result"
    }
   ],
   "source": [
    "codeup_df.columns.to_list()"
   ]
  },
  {
   "cell_type": "markdown",
   "id": "9280dbc1-af13-44aa-a29a-1b2ebe1a5420",
   "metadata": {
    "tags": []
   },
   "source": [
    "### 9. Ask yourself:\n",
    "\n",
    "- **If your corpus is 493KB, would you prefer to use stemmed or lemmatized text?**\n",
    "\n",
    "- **If your corpus is 25MB, would you prefer to use stemmed or lemmatized text?**\n",
    "\n",
    "- **If your corpus is 200TB of text and you're charged by the megabyte for your hosted computational resources, would you prefer to use stemmed or lemmatized text?**"
   ]
  },
  {
   "cell_type": "code",
   "execution_count": 33,
   "id": "c801e0e5-e9b4-4e2c-a9dd-087ed232923d",
   "metadata": {},
   "outputs": [],
   "source": [
    "from prepare import make_nlp_df"
   ]
  },
  {
   "cell_type": "code",
   "execution_count": 34,
   "id": "1b9adaf5-04fe-492d-883f-3e281aa6d21c",
   "metadata": {},
   "outputs": [],
   "source": [
    "one, two = make_nlp_df()"
   ]
  },
  {
   "cell_type": "code",
   "execution_count": 35,
   "id": "7fb59a71-9d9d-4354-b9e2-2384316d091c",
   "metadata": {},
   "outputs": [
    {
     "data": {
      "text/html": [
       "<div>\n",
       "<style scoped>\n",
       "    .dataframe tbody tr th:only-of-type {\n",
       "        vertical-align: middle;\n",
       "    }\n",
       "\n",
       "    .dataframe tbody tr th {\n",
       "        vertical-align: top;\n",
       "    }\n",
       "\n",
       "    .dataframe thead th {\n",
       "        text-align: right;\n",
       "    }\n",
       "</style>\n",
       "<table border=\"1\" class=\"dataframe\">\n",
       "  <thead>\n",
       "    <tr style=\"text-align: right;\">\n",
       "      <th></th>\n",
       "      <th>title</th>\n",
       "      <th>original</th>\n",
       "      <th>clean</th>\n",
       "      <th>stemmed</th>\n",
       "      <th>lemmatized</th>\n",
       "    </tr>\n",
       "  </thead>\n",
       "  <tbody>\n",
       "    <tr>\n",
       "      <th>0</th>\n",
       "      <td>Diversity Equity and Inclusion Report</td>\n",
       "      <td>Codeup is excited to launch our first Diversit...</td>\n",
       "      <td>codeup excited launch first diversity equity i...</td>\n",
       "      <td>codeup excit launch first divers equiti inclus...</td>\n",
       "      <td>codeup excited launch first diversity equity i...</td>\n",
       "    </tr>\n",
       "    <tr>\n",
       "      <th>1</th>\n",
       "      <td>Codeup Honored as SABJ Diversity and Inclusion...</td>\n",
       "      <td>Codeup has been named the 2022 Diversity and I...</td>\n",
       "      <td>codeup named 2022 diversity inclusion award wi...</td>\n",
       "      <td>codeup name 2022 divers inclus award winner sa...</td>\n",
       "      <td>codeup named 2022 diversity inclusion award wi...</td>\n",
       "    </tr>\n",
       "    <tr>\n",
       "      <th>2</th>\n",
       "      <td>How Can I Finance My Career Transition?</td>\n",
       "      <td>Deciding to transition into a tech career is a...</td>\n",
       "      <td>deciding transition tech career big step signi...</td>\n",
       "      <td>decid transit tech career big step signific co...</td>\n",
       "      <td>deciding transition tech career big step signi...</td>\n",
       "    </tr>\n",
       "    <tr>\n",
       "      <th>3</th>\n",
       "      <td>Tips for Women Beginning a Career in Tech</td>\n",
       "      <td>Codeup strongly values diversity, and inclusio...</td>\n",
       "      <td>codeup strongly values diversity inclusion hon...</td>\n",
       "      <td>codeup strongli valu divers inclus honor ameri...</td>\n",
       "      <td>codeup strongly value diversity inclusion hono...</td>\n",
       "    </tr>\n",
       "    <tr>\n",
       "      <th>4</th>\n",
       "      <td>What is Cloud Computing and AWS?</td>\n",
       "      <td>With many companies switching to cloud service...</td>\n",
       "      <td>many companies switching cloud services implem...</td>\n",
       "      <td>mani compani switch cloud servic implement clo...</td>\n",
       "      <td>many company switching cloud service implement...</td>\n",
       "    </tr>\n",
       "  </tbody>\n",
       "</table>\n",
       "</div>"
      ],
      "text/plain": [
       "                                               title  \\\n",
       "0              Diversity Equity and Inclusion Report   \n",
       "1  Codeup Honored as SABJ Diversity and Inclusion...   \n",
       "2            How Can I Finance My Career Transition?   \n",
       "3          Tips for Women Beginning a Career in Tech   \n",
       "4                   What is Cloud Computing and AWS?   \n",
       "\n",
       "                                            original  \\\n",
       "0  Codeup is excited to launch our first Diversit...   \n",
       "1  Codeup has been named the 2022 Diversity and I...   \n",
       "2  Deciding to transition into a tech career is a...   \n",
       "3  Codeup strongly values diversity, and inclusio...   \n",
       "4  With many companies switching to cloud service...   \n",
       "\n",
       "                                               clean  \\\n",
       "0  codeup excited launch first diversity equity i...   \n",
       "1  codeup named 2022 diversity inclusion award wi...   \n",
       "2  deciding transition tech career big step signi...   \n",
       "3  codeup strongly values diversity inclusion hon...   \n",
       "4  many companies switching cloud services implem...   \n",
       "\n",
       "                                             stemmed  \\\n",
       "0  codeup excit launch first divers equiti inclus...   \n",
       "1  codeup name 2022 divers inclus award winner sa...   \n",
       "2  decid transit tech career big step signific co...   \n",
       "3  codeup strongli valu divers inclus honor ameri...   \n",
       "4  mani compani switch cloud servic implement clo...   \n",
       "\n",
       "                                          lemmatized  \n",
       "0  codeup excited launch first diversity equity i...  \n",
       "1  codeup named 2022 diversity inclusion award wi...  \n",
       "2  deciding transition tech career big step signi...  \n",
       "3  codeup strongly value diversity inclusion hono...  \n",
       "4  many company switching cloud service implement...  "
      ]
     },
     "execution_count": 35,
     "metadata": {},
     "output_type": "execute_result"
    }
   ],
   "source": [
    "one.head()"
   ]
  },
  {
   "cell_type": "code",
   "execution_count": 36,
   "id": "ca4ab465-9a88-46f9-8c31-ec982fb1936f",
   "metadata": {},
   "outputs": [
    {
     "data": {
      "text/html": [
       "<div>\n",
       "<style scoped>\n",
       "    .dataframe tbody tr th:only-of-type {\n",
       "        vertical-align: middle;\n",
       "    }\n",
       "\n",
       "    .dataframe tbody tr th {\n",
       "        vertical-align: top;\n",
       "    }\n",
       "\n",
       "    .dataframe thead th {\n",
       "        text-align: right;\n",
       "    }\n",
       "</style>\n",
       "<table border=\"1\" class=\"dataframe\">\n",
       "  <thead>\n",
       "    <tr style=\"text-align: right;\">\n",
       "      <th></th>\n",
       "      <th>title</th>\n",
       "      <th>category</th>\n",
       "      <th>original</th>\n",
       "      <th>clean</th>\n",
       "      <th>stemmed</th>\n",
       "      <th>lemmatized</th>\n",
       "    </tr>\n",
       "  </thead>\n",
       "  <tbody>\n",
       "    <tr>\n",
       "      <th>0</th>\n",
       "      <td>Bharti Airtel rakes in 61% profit</td>\n",
       "      <td>india</td>\n",
       "      <td>Bharti Airtel, India's top telecommunications ...</td>\n",
       "      <td>bharti airtel india top telecommunications com...</td>\n",
       "      <td>bharti airtel india top telecommun compani rep...</td>\n",
       "      <td>bharti airtel india top telecommunication comp...</td>\n",
       "    </tr>\n",
       "    <tr>\n",
       "      <th>1</th>\n",
       "      <td>Infosys Gifts Sikka Shares Worth Rs 8.2cr</td>\n",
       "      <td>india</td>\n",
       "      <td>In a regulatory filing to the BSE on Friday, I...</td>\n",
       "      <td>regulatory filing bse friday infosys ltd decid...</td>\n",
       "      <td>regulatori file bse friday infosi ltd decid gi...</td>\n",
       "      <td>regulatory filing bse friday infosys ltd decid...</td>\n",
       "    </tr>\n",
       "    <tr>\n",
       "      <th>2</th>\n",
       "      <td>India beat NZ 3-2 to enter CWG hockey finals</td>\n",
       "      <td>india</td>\n",
       "      <td>In the CWG men's hockey semi-final against New...</td>\n",
       "      <td>cwg men hockey semifinal new zealand saturday ...</td>\n",
       "      <td>cwg men hockey semifin new zealand saturday in...</td>\n",
       "      <td>cwg men hockey semifinal new zealand saturday ...</td>\n",
       "    </tr>\n",
       "    <tr>\n",
       "      <th>3</th>\n",
       "      <td>India's first Billiards Premier League</td>\n",
       "      <td>india</td>\n",
       "      <td>The Billiards and Snooker Association of Mahar...</td>\n",
       "      <td>billiards snooker association maharashtrabsam ...</td>\n",
       "      <td>billiard snooker associ maharashtrabsam decid ...</td>\n",
       "      <td>billiards snooker association maharashtrabsam ...</td>\n",
       "    </tr>\n",
       "    <tr>\n",
       "      <th>4</th>\n",
       "      <td>Kashmir's famous Dal Lake freezes</td>\n",
       "      <td>india</td>\n",
       "      <td>After the recent snowfall in upper reaches of ...</td>\n",
       "      <td>recent snowfall upper reaches kashmir himalaya...</td>\n",
       "      <td>recent snowfal upper reach kashmir himalayan p...</td>\n",
       "      <td>recent snowfall upper reach kashmir himalayan ...</td>\n",
       "    </tr>\n",
       "  </tbody>\n",
       "</table>\n",
       "</div>"
      ],
      "text/plain": [
       "                                          title category  \\\n",
       "0             Bharti Airtel rakes in 61% profit    india   \n",
       "1     Infosys Gifts Sikka Shares Worth Rs 8.2cr    india   \n",
       "2  India beat NZ 3-2 to enter CWG hockey finals    india   \n",
       "3        India's first Billiards Premier League    india   \n",
       "4             Kashmir's famous Dal Lake freezes    india   \n",
       "\n",
       "                                            original  \\\n",
       "0  Bharti Airtel, India's top telecommunications ...   \n",
       "1  In a regulatory filing to the BSE on Friday, I...   \n",
       "2  In the CWG men's hockey semi-final against New...   \n",
       "3  The Billiards and Snooker Association of Mahar...   \n",
       "4  After the recent snowfall in upper reaches of ...   \n",
       "\n",
       "                                               clean  \\\n",
       "0  bharti airtel india top telecommunications com...   \n",
       "1  regulatory filing bse friday infosys ltd decid...   \n",
       "2  cwg men hockey semifinal new zealand saturday ...   \n",
       "3  billiards snooker association maharashtrabsam ...   \n",
       "4  recent snowfall upper reaches kashmir himalaya...   \n",
       "\n",
       "                                             stemmed  \\\n",
       "0  bharti airtel india top telecommun compani rep...   \n",
       "1  regulatori file bse friday infosi ltd decid gi...   \n",
       "2  cwg men hockey semifin new zealand saturday in...   \n",
       "3  billiard snooker associ maharashtrabsam decid ...   \n",
       "4  recent snowfal upper reach kashmir himalayan p...   \n",
       "\n",
       "                                          lemmatized  \n",
       "0  bharti airtel india top telecommunication comp...  \n",
       "1  regulatory filing bse friday infosys ltd decid...  \n",
       "2  cwg men hockey semifinal new zealand saturday ...  \n",
       "3  billiards snooker association maharashtrabsam ...  \n",
       "4  recent snowfall upper reach kashmir himalayan ...  "
      ]
     },
     "execution_count": 36,
     "metadata": {},
     "output_type": "execute_result"
    }
   ],
   "source": [
    "two.head()"
   ]
  },
  {
   "cell_type": "code",
   "execution_count": null,
   "id": "f235463d-6c31-45db-8f3c-7f370780e98e",
   "metadata": {},
   "outputs": [],
   "source": []
  }
 ],
 "metadata": {
  "kernelspec": {
   "display_name": "Python 3 (ipykernel)",
   "language": "python",
   "name": "python3"
  },
  "language_info": {
   "codemirror_mode": {
    "name": "ipython",
    "version": 3
   },
   "file_extension": ".py",
   "mimetype": "text/x-python",
   "name": "python",
   "nbconvert_exporter": "python",
   "pygments_lexer": "ipython3",
   "version": "3.9.12"
  }
 },
 "nbformat": 4,
 "nbformat_minor": 5
}
