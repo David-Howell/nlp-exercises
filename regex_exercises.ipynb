{
 "cells": [
  {
   "cell_type": "markdown",
   "id": "c292fe7c-7e96-4fbb-8c9a-202374af54c8",
   "metadata": {},
   "source": [
    "<a id=\"TOP\"></a>\n",
    "<div class=\"alert alert-box alert-info\">\n",
    "</div>\n",
    "\n",
    "***\n",
    "# Exercises\n",
    "Using the repo setup directions, setup a new local and remote repository named `natural-language-processing-exercises`. The local version of your repo should live inside of `~/codeup-data-science`. This repo should be named `natural-language-processing-exercises`\n",
    "\n",
    "Save this work in your natural-language-processing-exercises repo. Then add, commit, and push your changes.\n",
    "\n",
    "Unless a specific file extension is specified, you may do your work either in a python script (.py) or a jupyter notebook (.ipynb).\n",
    "\n",
    "Do your work for this exercise in a file named `regex_exercises`.\n",
    "\n",
    "[__|--1--__](#E1)\n",
    "[__|--2--__](#E2)\n",
    "[__|--3--__](#E3)\n",
    "[__|--4--__](#E4)\n",
    "[__|--5--__](#E5)\n",
    "[__|--Bonus--|__](#BONUS)"
   ]
  },
  {
   "cell_type": "code",
   "execution_count": 1,
   "id": "64053ebf-ddbd-4709-8528-cf53710a635d",
   "metadata": {},
   "outputs": [],
   "source": [
    "import numpy as np\n",
    "import pandas as pd\n",
    "import re"
   ]
  },
  {
   "cell_type": "markdown",
   "id": "450e84bf-6726-4144-afbd-5c3ac132905e",
   "metadata": {
    "jp-MarkdownHeadingCollapsed": true,
    "tags": []
   },
   "source": [
    "<a id=\"E1\"></a>\n",
    "<div class=\"alert alert-box alert-info\">\n",
    "</div>\n",
    "\n",
    "***\n",
    "### 1. **Write a function named `is_vowel`. It should accept a string as input and use a regular expression to determine if the passed string is a vowel. While not explicity mentioned in the lesson, you can treat the result of `re.search` as a boolean value that indicates whether or not the regular expression matches the given string.**\n",
    "\n",
    "[__|--Top--|__](#TOP)"
   ]
  },
  {
   "cell_type": "code",
   "execution_count": 49,
   "id": "e6f51332-6b91-4f65-a594-ab8b97a35398",
   "metadata": {},
   "outputs": [],
   "source": [
    "def is_vowel(string):\n",
    "    '''\n",
    "    \n",
    "    '''\n",
    "    regexp = r'^[aeiou]$'\n",
    "    \n",
    "    output = re.search(regexp, string, re.IGNORECASE)\n",
    "    \n",
    "    if output:\n",
    "        return output.group()\n",
    "    \n",
    "    else: return 'Nope, Try again'"
   ]
  },
  {
   "cell_type": "code",
   "execution_count": 50,
   "id": "d1859dfb-d8cd-424c-97ce-4bf9e0152bc0",
   "metadata": {},
   "outputs": [
    {
     "data": {
      "text/plain": [
       "'a'"
      ]
     },
     "execution_count": 50,
     "metadata": {},
     "output_type": "execute_result"
    }
   ],
   "source": [
    "is_vowel('a')"
   ]
  },
  {
   "cell_type": "code",
   "execution_count": 51,
   "id": "e7010fa4-59d3-4fa8-bb4b-1c4c643703f4",
   "metadata": {},
   "outputs": [
    {
     "data": {
      "text/plain": [
       "'Nope, Try again'"
      ]
     },
     "execution_count": 51,
     "metadata": {},
     "output_type": "execute_result"
    }
   ],
   "source": [
    "is_vowel('n')"
   ]
  },
  {
   "cell_type": "code",
   "execution_count": 52,
   "id": "134999d6-bc8b-4701-8e37-a013992d4065",
   "metadata": {},
   "outputs": [
    {
     "data": {
      "text/plain": [
       "'Nope, Try again'"
      ]
     },
     "execution_count": 52,
     "metadata": {},
     "output_type": "execute_result"
    }
   ],
   "source": [
    "is_vowel('naa')"
   ]
  },
  {
   "cell_type": "code",
   "execution_count": 53,
   "id": "5d15eae8-a9f2-4712-b4c2-3ff81021f31d",
   "metadata": {},
   "outputs": [
    {
     "data": {
      "text/plain": [
       "'Nope, Try again'"
      ]
     },
     "execution_count": 53,
     "metadata": {},
     "output_type": "execute_result"
    }
   ],
   "source": [
    "is_vowel('abcda')"
   ]
  },
  {
   "cell_type": "code",
   "execution_count": 54,
   "id": "a3325273-7c55-4c0f-a0c7-63b3db171a84",
   "metadata": {},
   "outputs": [
    {
     "data": {
      "text/plain": [
       "'Nope, Try again'"
      ]
     },
     "execution_count": 54,
     "metadata": {},
     "output_type": "execute_result"
    }
   ],
   "source": [
    "is_vowel('aa')"
   ]
  },
  {
   "cell_type": "code",
   "execution_count": 55,
   "id": "64295705-d79c-4b7d-9b5f-b7d81b5ad140",
   "metadata": {},
   "outputs": [
    {
     "data": {
      "text/plain": [
       "'e'"
      ]
     },
     "execution_count": 55,
     "metadata": {},
     "output_type": "execute_result"
    }
   ],
   "source": [
    "is_vowel('e')"
   ]
  },
  {
   "cell_type": "markdown",
   "id": "b0c53909-d35b-4256-97da-261bcb22a1e2",
   "metadata": {},
   "source": [
    "<a id=\"E2\"></a>\n",
    "<div class=\"alert alert-box alert-info\">\n",
    "</div>\n",
    "\n",
    "***\n",
    "### 2. **Write a function named `is_valid_username` that accepts a string as input. A valid username starts with a lowercase letter, and only consists of lowercase letters, numbers, or the _ character. It should also be no longer than 32 characters. The function should return either `True` or `False` depending on whether the passed string is a valid username.**\n",
    "\n",
    "\n",
    "> is_valid_username('aaaaaaaaaaaaaaaaaaaaaaaaaaaaaaaaa')\n",
    "False<br>\n",
    "> is_valid_username('codeup')\n",
    "True<br>\n",
    "> is_valid_username('Codeup')\n",
    "False<br>\n",
    "> is_valid_username('codeup123')\n",
    "True<br>\n",
    "> is_valid_username('1codeup')\n",
    "False<br>\n",
    "\n",
    "[__|--Top--|__](#TOP)"
   ]
  },
  {
   "cell_type": "code",
   "execution_count": 89,
   "id": "255a693f-d4c2-4831-b56a-25990d606bdc",
   "metadata": {},
   "outputs": [],
   "source": [
    "def is_valid_username(string):\n",
    "    '''\n",
    "    \n",
    "    '''\n",
    "    regexp = r'^[a-z][a-z0-9\\_]{,31}$'\n",
    "    \n",
    "    output = re.search(regexp, string)\n",
    "    \n",
    "    if output: return True #, output.group() # adding the output.group() will also return the username\n",
    "\n",
    "    else: return False"
   ]
  },
  {
   "cell_type": "code",
   "execution_count": 90,
   "id": "5bdefa7b-351c-403d-ae13-709819497dc0",
   "metadata": {},
   "outputs": [
    {
     "data": {
      "text/plain": [
       "False"
      ]
     },
     "execution_count": 90,
     "metadata": {},
     "output_type": "execute_result"
    }
   ],
   "source": [
    "is_valid_username('aaaaaaaaaaaaaaaaaaaaaaaaaaaaaaaaa')"
   ]
  },
  {
   "cell_type": "code",
   "execution_count": 91,
   "id": "9dbeb4bb-cb68-4cd2-8828-6b449a698e4f",
   "metadata": {},
   "outputs": [
    {
     "data": {
      "text/plain": [
       "True"
      ]
     },
     "execution_count": 91,
     "metadata": {},
     "output_type": "execute_result"
    }
   ],
   "source": [
    "is_valid_username('codeup')"
   ]
  },
  {
   "cell_type": "code",
   "execution_count": 92,
   "id": "08e72e22-bc6e-4864-b8e8-378455994806",
   "metadata": {},
   "outputs": [
    {
     "data": {
      "text/plain": [
       "False"
      ]
     },
     "execution_count": 92,
     "metadata": {},
     "output_type": "execute_result"
    }
   ],
   "source": [
    "is_valid_username('Codeup')"
   ]
  },
  {
   "cell_type": "code",
   "execution_count": 93,
   "id": "c063d49a-41ce-431f-b33d-29cb144edffc",
   "metadata": {},
   "outputs": [
    {
     "data": {
      "text/plain": [
       "True"
      ]
     },
     "execution_count": 93,
     "metadata": {},
     "output_type": "execute_result"
    }
   ],
   "source": [
    "is_valid_username('codeup123')"
   ]
  },
  {
   "cell_type": "code",
   "execution_count": 94,
   "id": "99c4f8f2-8123-4dfd-88d8-289de46e181f",
   "metadata": {},
   "outputs": [
    {
     "data": {
      "text/plain": [
       "False"
      ]
     },
     "execution_count": 94,
     "metadata": {},
     "output_type": "execute_result"
    }
   ],
   "source": [
    "is_valid_username('1codeup')"
   ]
  },
  {
   "cell_type": "code",
   "execution_count": 88,
   "id": "9a91b915-dce2-453a-a875-adbf1d584122",
   "metadata": {},
   "outputs": [
    {
     "data": {
      "text/plain": [
       "(True, 'code_up')"
      ]
     },
     "execution_count": 88,
     "metadata": {},
     "output_type": "execute_result"
    }
   ],
   "source": [
    "is_valid_username('code_up')"
   ]
  },
  {
   "cell_type": "markdown",
   "id": "222dbae8-4bf1-44d1-a9b8-8f2eb8acc95b",
   "metadata": {},
   "source": [
    "<a id=\"E3\"></a>\n",
    "<div class=\"alert alert-box alert-info\">\n",
    "</div>\n",
    "\n",
    "***\n",
    "### 3. Write a regular expression to capture phone numbers. It should match all of the following:\n",
    "\n",
    "\n",
    ">(210) 867 5309<br>\n",
    ">+1 210.867.5309<br>\n",
    ">867-5309<br>\n",
    ">210-867-5309<br>\n",
    "\n",
    "[__|--Top--|__](#TOP)"
   ]
  },
  {
   "cell_type": "code",
   "execution_count": 98,
   "id": "60b70459-011a-4646-8675-282b7642f274",
   "metadata": {},
   "outputs": [],
   "source": [
    "def phone_numbers(string):\n",
    "    '''\n",
    "    \n",
    "    '''\n",
    "    regexp = r'\\+?(?:[ ()-]*\\d){10,11}|(?:[ ()-]*\\d){7}|\\+1 \\d{3}\\.\\d{3}\\.\\d{4}'\n",
    "    \n",
    "    output = re.findall(regexp, string)\n",
    "    \n",
    "    return output"
   ]
  },
  {
   "cell_type": "code",
   "execution_count": 99,
   "id": "1c13d151-a895-4932-b02e-7eee2935f2c3",
   "metadata": {},
   "outputs": [
    {
     "data": {
      "text/plain": [
       "['(210) 867 5309']"
      ]
     },
     "execution_count": 99,
     "metadata": {},
     "output_type": "execute_result"
    }
   ],
   "source": [
    "phone_numbers('(210) 867 5309')"
   ]
  },
  {
   "cell_type": "code",
   "execution_count": 100,
   "id": "d9477eed-ab34-46c7-8308-256fae5bdbbd",
   "metadata": {},
   "outputs": [
    {
     "data": {
      "text/plain": [
       "['+1 210.867.5309']"
      ]
     },
     "execution_count": 100,
     "metadata": {},
     "output_type": "execute_result"
    }
   ],
   "source": [
    "phone_numbers('+1 210.867.5309')"
   ]
  },
  {
   "cell_type": "code",
   "execution_count": 101,
   "id": "0ce1da97-37e2-4e60-8fa7-2798ae4636b1",
   "metadata": {},
   "outputs": [
    {
     "data": {
      "text/plain": [
       "['867-5309']"
      ]
     },
     "execution_count": 101,
     "metadata": {},
     "output_type": "execute_result"
    }
   ],
   "source": [
    "phone_numbers('867-5309')"
   ]
  },
  {
   "cell_type": "code",
   "execution_count": 102,
   "id": "d78bec9a-de5f-4493-b063-d01fc029f3f7",
   "metadata": {},
   "outputs": [
    {
     "data": {
      "text/plain": [
       "['210-867-5309']"
      ]
     },
     "execution_count": 102,
     "metadata": {},
     "output_type": "execute_result"
    }
   ],
   "source": [
    "phone_numbers('210-867-5309')"
   ]
  },
  {
   "cell_type": "markdown",
   "id": "7287f14c-22cc-479a-a17c-81e7869e872b",
   "metadata": {},
   "source": [
    "<a id=\"E4\"></a>\n",
    "<div class=\"alert alert-box alert-info\">\n",
    "</div>\n",
    "\n",
    "***\n",
    "### 4. Use regular expressions to convert the dates below to the standardized year-month-day format.\n",
    "\n",
    "\n",
    ">02/04/19<br>\n",
    ">02/05/19<br>\n",
    ">02/06/19<br>\n",
    ">02/07/19<br>\n",
    ">02/08/19<br>\n",
    ">02/09/19<br>\n",
    ">02/10/19<br>\n",
    "\n",
    "[__|--Top--|__](#TOP)"
   ]
  },
  {
   "cell_type": "code",
   "execution_count": 109,
   "id": "8fc34b1a-b7b5-4c70-8b3c-6d41e0e71c65",
   "metadata": {},
   "outputs": [],
   "source": [
    "def standardize_date(string):\n",
    "    '''\n",
    "    Uses RegEx to take in a string with date formated \"mm/dd/yy\" and outputs \"20yy-mm-dd\"\n",
    "    Note: Only works on twenty-first century dates\n",
    "    '''\n",
    "    regexp = re.compile(r'''\n",
    "        (?P<month>\\d{2})\\/\n",
    "        (?P<day>\\d{2})\\/\n",
    "        (?P<year>\\d{2})\n",
    "        ''', re.VERBOSE)\n",
    "    \n",
    "    output = re.search(regexp, string).groupdict()\n",
    "      \n",
    "    return f\"20{output['year']}-{output['month']}-{output['day']}\""
   ]
  },
  {
   "cell_type": "code",
   "execution_count": 110,
   "id": "7d6ab2c8-41e4-4957-9aed-0bc5459886c8",
   "metadata": {},
   "outputs": [
    {
     "data": {
      "text/plain": [
       "'2019-02-04'"
      ]
     },
     "execution_count": 110,
     "metadata": {},
     "output_type": "execute_result"
    }
   ],
   "source": [
    "standardize_date('02/04/19')"
   ]
  },
  {
   "cell_type": "code",
   "execution_count": 111,
   "id": "12f5fc78-4fef-4bf7-a981-5abafd97d015",
   "metadata": {},
   "outputs": [
    {
     "data": {
      "text/plain": [
       "'2019-02-05'"
      ]
     },
     "execution_count": 111,
     "metadata": {},
     "output_type": "execute_result"
    }
   ],
   "source": [
    "standardize_date('02/05/19')"
   ]
  },
  {
   "cell_type": "code",
   "execution_count": 112,
   "id": "ab3df9bd-8020-4195-9f4a-a33fe2662ee9",
   "metadata": {},
   "outputs": [
    {
     "data": {
      "text/plain": [
       "'2019-02-06'"
      ]
     },
     "execution_count": 112,
     "metadata": {},
     "output_type": "execute_result"
    }
   ],
   "source": [
    "standardize_date('02/06/19')"
   ]
  },
  {
   "cell_type": "code",
   "execution_count": 113,
   "id": "696c45ba-316f-4519-9329-7de08a7670cf",
   "metadata": {},
   "outputs": [
    {
     "data": {
      "text/plain": [
       "'2019-02-07'"
      ]
     },
     "execution_count": 113,
     "metadata": {},
     "output_type": "execute_result"
    }
   ],
   "source": [
    "standardize_date('02/07/19')"
   ]
  },
  {
   "cell_type": "code",
   "execution_count": 114,
   "id": "9a477760-8652-4483-8b34-687aad5d8eec",
   "metadata": {},
   "outputs": [
    {
     "data": {
      "text/plain": [
       "'2019-02-08'"
      ]
     },
     "execution_count": 114,
     "metadata": {},
     "output_type": "execute_result"
    }
   ],
   "source": [
    "standardize_date('02/08/19')"
   ]
  },
  {
   "cell_type": "code",
   "execution_count": 115,
   "id": "a7f0327b-e506-4a25-bfb5-e6dd5c864b8e",
   "metadata": {},
   "outputs": [
    {
     "data": {
      "text/plain": [
       "'2019-02-09'"
      ]
     },
     "execution_count": 115,
     "metadata": {},
     "output_type": "execute_result"
    }
   ],
   "source": [
    "standardize_date('02/09/19')"
   ]
  },
  {
   "cell_type": "code",
   "execution_count": 116,
   "id": "ead42a0d-fb76-47e9-88da-70b61b63f1a2",
   "metadata": {},
   "outputs": [
    {
     "data": {
      "text/plain": [
       "'2019-02-10'"
      ]
     },
     "execution_count": 116,
     "metadata": {},
     "output_type": "execute_result"
    }
   ],
   "source": [
    "standardize_date('02/10/19')"
   ]
  },
  {
   "cell_type": "code",
   "execution_count": 108,
   "id": "83995a4e-84ea-463d-a001-915e7e1fc58e",
   "metadata": {},
   "outputs": [
    {
     "name": "stdout",
     "output_type": "stream",
     "text": [
      "1991-01-07\n"
     ]
    }
   ],
   "source": [
    "regexp = re.compile(r'''\n",
    "        (?P<month>\\d{2})\\/\n",
    "        (?P<day>\\d{2})\\/\n",
    "        (?P<year>\\d{2})\n",
    "        ''', re.VERBOSE)\n",
    "string = '01/07/91'\n",
    "\n",
    "date_dict = re.search(regexp, string).groupdict()\n",
    "\n",
    "print(f'19{date_dict[\"year\"]}-{date_dict[\"month\"]}-{date_dict[\"day\"]}')"
   ]
  },
  {
   "cell_type": "markdown",
   "id": "d4b74cd0-7041-4fb5-9cb5-df89ecd5fdcf",
   "metadata": {},
   "source": [
    "<a id=\"E5\"></a>\n",
    "<div class=\"alert alert-box alert-info\">\n",
    "</div>\n",
    "\n",
    "***\n",
    "### 5. Write a regex to extract the various parts of these logfile lines:\n",
    "\n",
    "\n",
    ">GET /api/v1/sales?page=86 [16/Apr/2019:193452+0000] HTTP/1.1 {200} 510348 \"python-requests/2.21.0\" 97.105.19.58<br>\n",
    "POST /users_accounts/file-upload [16/Apr/2019:193452+0000] HTTP/1.1 {201} 42 \"User-Agent: Mozilla/5.0 (X11; Fedora; Fedora; Linux x86_64) AppleWebKit/537.36 (KHTML, like Gecko) Chrome/73.0.3683.86 Safari/537.36\" 97.105.19.58<br>\n",
    "GET /api/v1/items?page=3 [16/Apr/2019:193453+0000] HTTP/1.1 {429} 3561 \"python-requests/2.21.0\" 97.105.19.58<br>\n",
    "\n",
    "[__|--Top--|__](#TOP)"
   ]
  },
  {
   "cell_type": "code",
   "execution_count": 195,
   "id": "4292a778-cd2e-4a34-ae51-b614ad2784d6",
   "metadata": {},
   "outputs": [],
   "source": [
    "# The only difference that made this break like hell... :No . after <agent> SMH\n",
    "\n",
    "# def logfiles(string):\n",
    "#     regexp = re.compile(r'''\n",
    "#     (?P<method>\\w{3,4})\\s\n",
    "#     (?P<page>.+)\\s\\[\n",
    "#     (?P<date>.+)\\+0000\\]\\sHTTP/1.1\\s\\{\n",
    "#     (?P<return_code>\\d{3})\\}\\s\n",
    "#     (?P<bytes>\\d{2,6})\\s\\\"\n",
    "#     (?P<agent>*?)\\\"\\s\n",
    "#     (?P<ip>\\d+\\.\\d+\\.\\d+\\.\\d+)''', re.VERBOSE)\n",
    "    \n",
    "#     lines = pd.Series(string.strip().split('\\n'))\n",
    "\n",
    "#     output = lines.str.extract(regexp)\n",
    "    \n",
    "#     return output"
   ]
  },
  {
   "cell_type": "code",
   "execution_count": 192,
   "id": "fbda9789-007a-4203-96b1-515a60058dd3",
   "metadata": {},
   "outputs": [],
   "source": [
    "def logfiles(string):\n",
    "    regexp = re.compile(r'''\n",
    "    (?P<method>\\w{3,4})\\s\n",
    "    (?P<page>.+)\\s\\[\n",
    "    (?P<date>.+)\\+0000\\]\\sHTTP/1.1\\s\\{\n",
    "    (?P<return_code>\\d{3})\\}\\s\n",
    "    (?P<bytes>\\d{2,6})\\s\\\"\n",
    "    (?P<agent>.*?)\\\"\\s\n",
    "    (?P<ip>\\d+\\.\\d+\\.\\d+\\.\\d+)\n",
    "   ''', re.VERBOSE)\n",
    "    \n",
    "    lines = pd.Series(string.strip().split('\\n'))\n",
    "\n",
    "    output = lines.str.extract(regexp)\n",
    "    \n",
    "    return output"
   ]
  },
  {
   "cell_type": "code",
   "execution_count": 193,
   "id": "849344b9-857f-432c-868f-5e74b49df8a8",
   "metadata": {},
   "outputs": [],
   "source": [
    "log_file_lines = '''\n",
    "GET /api/v1/sales?page=86 [16/Apr/2019:193452+0000] HTTP/1.1 {200} 510348 \"python-requests/2.21.0\" 97.105.19.58\n",
    "POST /users_accounts/file-upload [16/Apr/2019:193452+0000] HTTP/1.1 {201} 42 \"User-Agent: Mozilla/5.0 (X11; Fedora; Fedora; Linux x86_64) AppleWebKit/537.36 (KHTML, like Gecko) Chrome/73.0.3683.86 Safari/537.36\" 97.105.19.58\n",
    "GET /api/v1/items?page=3 [16/Apr/2019:193453+0000] HTTP/1.1 {429} 3561 \"python-requests/2.21.0\" 97.105.19.58\n",
    "'''"
   ]
  },
  {
   "cell_type": "code",
   "execution_count": 194,
   "id": "7c594151-f647-4c0c-ac4e-aa0dc08a225f",
   "metadata": {},
   "outputs": [
    {
     "data": {
      "text/html": [
       "<div>\n",
       "<style scoped>\n",
       "    .dataframe tbody tr th:only-of-type {\n",
       "        vertical-align: middle;\n",
       "    }\n",
       "\n",
       "    .dataframe tbody tr th {\n",
       "        vertical-align: top;\n",
       "    }\n",
       "\n",
       "    .dataframe thead th {\n",
       "        text-align: right;\n",
       "    }\n",
       "</style>\n",
       "<table border=\"1\" class=\"dataframe\">\n",
       "  <thead>\n",
       "    <tr style=\"text-align: right;\">\n",
       "      <th></th>\n",
       "      <th>method</th>\n",
       "      <th>page</th>\n",
       "      <th>date</th>\n",
       "      <th>return_code</th>\n",
       "      <th>bytes</th>\n",
       "      <th>agent</th>\n",
       "      <th>ip</th>\n",
       "    </tr>\n",
       "  </thead>\n",
       "  <tbody>\n",
       "    <tr>\n",
       "      <th>0</th>\n",
       "      <td>GET</td>\n",
       "      <td>/api/v1/sales?page=86</td>\n",
       "      <td>16/Apr/2019:193452</td>\n",
       "      <td>200</td>\n",
       "      <td>510348</td>\n",
       "      <td>python-requests/2.21.0</td>\n",
       "      <td>97.105.19.58</td>\n",
       "    </tr>\n",
       "    <tr>\n",
       "      <th>1</th>\n",
       "      <td>POST</td>\n",
       "      <td>/users_accounts/file-upload</td>\n",
       "      <td>16/Apr/2019:193452</td>\n",
       "      <td>201</td>\n",
       "      <td>42</td>\n",
       "      <td>User-Agent: Mozilla/5.0 (X11; Fedora; Fedora; ...</td>\n",
       "      <td>97.105.19.58</td>\n",
       "    </tr>\n",
       "    <tr>\n",
       "      <th>2</th>\n",
       "      <td>GET</td>\n",
       "      <td>/api/v1/items?page=3</td>\n",
       "      <td>16/Apr/2019:193453</td>\n",
       "      <td>429</td>\n",
       "      <td>3561</td>\n",
       "      <td>python-requests/2.21.0</td>\n",
       "      <td>97.105.19.58</td>\n",
       "    </tr>\n",
       "  </tbody>\n",
       "</table>\n",
       "</div>"
      ],
      "text/plain": [
       "  method                         page                date return_code   bytes  \\\n",
       "0    GET        /api/v1/sales?page=86  16/Apr/2019:193452         200  510348   \n",
       "1   POST  /users_accounts/file-upload  16/Apr/2019:193452         201      42   \n",
       "2    GET         /api/v1/items?page=3  16/Apr/2019:193453         429    3561   \n",
       "\n",
       "                                               agent            ip  \n",
       "0                             python-requests/2.21.0  97.105.19.58  \n",
       "1  User-Agent: Mozilla/5.0 (X11; Fedora; Fedora; ...  97.105.19.58  \n",
       "2                             python-requests/2.21.0  97.105.19.58  "
      ]
     },
     "execution_count": 194,
     "metadata": {},
     "output_type": "execute_result"
    }
   ],
   "source": [
    "logfiles(log_file_lines)"
   ]
  },
  {
   "cell_type": "markdown",
   "id": "2a69bdb0-8fc4-4b16-91dd-1fde3f3bfd41",
   "metadata": {},
   "source": [
    "<a id=\"BONUS\"></a>\n",
    "<div class=\"alert alert-box alert-info\">\n",
    "</div>\n",
    "\n",
    "***\n",
    "### Bonus Exercise\n",
    "\n",
    "**You can find a list of words on your mac at /usr/share/dict/words. Use this file to answer the following questions:**\n",
    "\n",
    "[__|--Top--|__](#TOP)"
   ]
  },
  {
   "cell_type": "code",
   "execution_count": 197,
   "id": "d8914035-3a5d-46a3-8e72-5d74e157d9c0",
   "metadata": {},
   "outputs": [],
   "source": [
    "# words = pd.read\n",
    "f= open(\"/usr/share/dict/words\", \"r\")\n",
    "words = f.read()"
   ]
  },
  {
   "cell_type": "code",
   "execution_count": 198,
   "id": "97870e57-26b7-4a5e-9b78-60560c3466c3",
   "metadata": {},
   "outputs": [],
   "source": [
    "words = words.split('\\n')"
   ]
  },
  {
   "cell_type": "code",
   "execution_count": 199,
   "id": "a970bd26-9035-472b-9314-9b423a56d2ae",
   "metadata": {},
   "outputs": [
    {
     "data": {
      "text/plain": [
       "235887"
      ]
     },
     "execution_count": 199,
     "metadata": {},
     "output_type": "execute_result"
    }
   ],
   "source": [
    "len(words)"
   ]
  },
  {
   "cell_type": "code",
   "execution_count": null,
   "id": "9eb594da-db80-4b8f-821a-07d3eedefcdb",
   "metadata": {},
   "outputs": [],
   "source": []
  },
  {
   "cell_type": "markdown",
   "id": "7177ae58-b9de-4b97-b59b-a9d0f0d78c53",
   "metadata": {},
   "source": [
    "### - **How many words have at least 3 vowels?**"
   ]
  },
  {
   "cell_type": "code",
   "execution_count": null,
   "id": "7d4eed78-f6af-4369-b517-eb23c6b2ae3b",
   "metadata": {},
   "outputs": [],
   "source": []
  },
  {
   "cell_type": "markdown",
   "id": "9020b718-44b4-48a5-91cc-28a0f8b0904f",
   "metadata": {},
   "source": [
    "### - **How many words have at least 3 vowels in a row?**"
   ]
  },
  {
   "cell_type": "code",
   "execution_count": null,
   "id": "9e256173-b9e6-4700-8e88-22eb66b637ae",
   "metadata": {},
   "outputs": [],
   "source": []
  },
  {
   "cell_type": "markdown",
   "id": "600bbdc0-eeab-4c97-8ede-1a7aaaf8236f",
   "metadata": {},
   "source": [
    "### - **How many words have at least 4 consonants in a row?**"
   ]
  },
  {
   "cell_type": "code",
   "execution_count": null,
   "id": "61258137-f06d-4553-be2d-077728eba36b",
   "metadata": {},
   "outputs": [],
   "source": []
  },
  {
   "cell_type": "markdown",
   "id": "ebcb5147-4d1b-4b30-8404-315ed0efcac3",
   "metadata": {},
   "source": [
    "### - **How many words start and end with the same letter?**"
   ]
  },
  {
   "cell_type": "code",
   "execution_count": null,
   "id": "891d0a53-892b-4c50-b4a9-dd838fba5500",
   "metadata": {},
   "outputs": [],
   "source": []
  },
  {
   "cell_type": "markdown",
   "id": "e1bc8931-f723-41ad-9993-8aa6daf66745",
   "metadata": {},
   "source": [
    "### - **How many words start and end with a vowel?**"
   ]
  },
  {
   "cell_type": "code",
   "execution_count": null,
   "id": "b2371014-45e5-40c0-9f3e-5c503f9f6ff8",
   "metadata": {},
   "outputs": [],
   "source": []
  },
  {
   "cell_type": "markdown",
   "id": "6a81a1e1-87d4-492a-8beb-546f0f561941",
   "metadata": {},
   "source": [
    "### - **How many words contain the same letter 3 times in a row?**"
   ]
  },
  {
   "cell_type": "code",
   "execution_count": null,
   "id": "08bea73f-289b-4646-a182-9dbbb6ffe22e",
   "metadata": {},
   "outputs": [],
   "source": []
  },
  {
   "cell_type": "markdown",
   "id": "f8c89b4b-1947-411e-adcc-8b6a2d05f7cf",
   "metadata": {},
   "source": [
    "### - **What other interesting patterns in words can you find?**"
   ]
  },
  {
   "cell_type": "code",
   "execution_count": null,
   "id": "5de4b55b-1a69-4582-9c09-fd1b7d448a26",
   "metadata": {},
   "outputs": [],
   "source": []
  }
 ],
 "metadata": {
  "kernelspec": {
   "display_name": "Python 3 (ipykernel)",
   "language": "python",
   "name": "python3"
  },
  "language_info": {
   "codemirror_mode": {
    "name": "ipython",
    "version": 3
   },
   "file_extension": ".py",
   "mimetype": "text/x-python",
   "name": "python",
   "nbconvert_exporter": "python",
   "pygments_lexer": "ipython3",
   "version": "3.9.12"
  }
 },
 "nbformat": 4,
 "nbformat_minor": 5
}
