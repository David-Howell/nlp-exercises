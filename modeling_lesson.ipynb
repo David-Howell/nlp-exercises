{
 "cells": [
  {
   "cell_type": "markdown",
   "id": "712bd79d",
   "metadata": {},
   "source": [
    "# NLP Modeling\n",
    "\n",
    "How do we quantify a document?\n",
    "\n",
    "- [Setup](#setup)\n",
    "- [Data Representation](#data-representation)\n",
    "    - [Bag of Words](#bag-of-words)\n",
    "    - [TF-IDF](#tf-idf)\n",
    "    - [Bag Of Ngrams](#bag-of-ngrams)\n",
    "- [Modeling](#modeling)\n",
    "    - [Modeling Results](#modeling-results)\n",
    "- [Next Steps](#next-steps)\n",
    "\n",
    "## Setup"
   ]
  },
  {
   "cell_type": "code",
   "execution_count": 1,
   "id": "77207323",
   "metadata": {},
   "outputs": [],
   "source": [
    "from pprint import pprint\n",
    "import pandas as pd\n",
    "import nltk\n",
    "import re\n",
    "\n",
    "def clean(text: str) -> list:\n",
    "    'A simple function to cleanup text data'\n",
    "    wnl = nltk.stem.WordNetLemmatizer()\n",
    "    stopwords = set(nltk.corpus.stopwords.words('english'))\n",
    "    text = (text.encode('ascii', 'ignore')\n",
    "             .decode('utf-8', 'ignore')\n",
    "             .lower())\n",
    "    words = re.sub(r'[^\\w\\s]', '', text).split() # tokenization\n",
    "    return [wnl.lemmatize(word) for word in words if word not in stopwords]"
   ]
  },
  {
   "cell_type": "markdown",
   "id": "05d09b64",
   "metadata": {},
   "source": [
    "## Data Representation\n",
    "\n",
    "Simple data for demonstration."
   ]
  },
  {
   "cell_type": "code",
   "execution_count": 2,
   "id": "c0b4c644",
   "metadata": {},
   "outputs": [],
   "source": [
    "data = [\n",
    "    'Python is pretty cool',\n",
    "    'Python is a nice programming language with nice syntax',\n",
    "    'I think SQL is cool too',\n",
    "]"
   ]
  },
  {
   "cell_type": "code",
   "execution_count": 4,
   "id": "c2522178-83a8-460c-9fe5-7770a903bd8f",
   "metadata": {},
   "outputs": [
    {
     "name": "stdout",
     "output_type": "stream",
     "text": [
      "['Python is pretty cool', 'Python is a nice programming language with nice syntax', 'I think SQL is cool too']\n"
     ]
    }
   ],
   "source": [
    "print(data)"
   ]
  },
  {
   "cell_type": "code",
   "execution_count": 5,
   "id": "e6137b03-aeb2-48f1-b1e1-ac635b3123c6",
   "metadata": {},
   "outputs": [
    {
     "name": "stdout",
     "output_type": "stream",
     "text": [
      "['Python is pretty cool',\n",
      " 'Python is a nice programming language with nice syntax',\n",
      " 'I think SQL is cool too']\n"
     ]
    }
   ],
   "source": [
    "pprint(data)"
   ]
  },
  {
   "cell_type": "code",
   "execution_count": null,
   "id": "ff7f51b1-b947-417e-8bb8-88e611f47a4f",
   "metadata": {},
   "outputs": [],
   "source": []
  },
  {
   "cell_type": "markdown",
   "id": "76fdb030",
   "metadata": {},
   "source": [
    "### Bag of Words"
   ]
  },
  {
   "cell_type": "code",
   "execution_count": 3,
   "id": "778facc4",
   "metadata": {},
   "outputs": [],
   "source": [
    "from sklearn.feature_extraction.text import CountVectorizer"
   ]
  },
  {
   "cell_type": "code",
   "execution_count": 6,
   "id": "aa207206-97d6-480d-ac47-6b38984b8181",
   "metadata": {},
   "outputs": [],
   "source": [
    "df = pd.read_csv('spam_clean.csv')"
   ]
  },
  {
   "cell_type": "code",
   "execution_count": 7,
   "id": "3c180146",
   "metadata": {},
   "outputs": [],
   "source": [
    "cv = CountVectorizer()"
   ]
  },
  {
   "cell_type": "code",
   "execution_count": 8,
   "id": "b3e0c1f5-e30c-45ef-b978-68f2e2f26d1e",
   "metadata": {},
   "outputs": [],
   "source": [
    "bag_o_words = cv.fit_transform(data)"
   ]
  },
  {
   "cell_type": "code",
   "execution_count": 9,
   "id": "9c2721c0-901a-4639-8081-c7a76ff48bce",
   "metadata": {},
   "outputs": [
    {
     "data": {
      "text/plain": [
       "<3x12 sparse matrix of type '<class 'numpy.int64'>'\n",
       "\twith 16 stored elements in Compressed Sparse Row format>"
      ]
     },
     "execution_count": 9,
     "metadata": {},
     "output_type": "execute_result"
    }
   ],
   "source": [
    "bag_o_words"
   ]
  },
  {
   "cell_type": "code",
   "execution_count": 11,
   "id": "1f2bfb81-fa24-4ac7-9a7b-688d6b022c83",
   "metadata": {},
   "outputs": [
    {
     "data": {
      "text/plain": [
       "matrix([[1, 1, 0, 0, 1, 0, 1, 0, 0, 0, 0, 0],\n",
       "        [0, 1, 1, 2, 0, 1, 1, 0, 1, 0, 0, 1],\n",
       "        [1, 1, 0, 0, 0, 0, 0, 1, 0, 1, 1, 0]])"
      ]
     },
     "execution_count": 11,
     "metadata": {},
     "output_type": "execute_result"
    }
   ],
   "source": [
    "bag_o_words.todense()"
   ]
  },
  {
   "cell_type": "markdown",
   "id": "d8f97319",
   "metadata": {},
   "source": [
    "Here `bag_of_words` is a **sparse matrix**. Usually you should keep it as such,\n",
    "but for demonstration we'll view the data within."
   ]
  },
  {
   "cell_type": "code",
   "execution_count": 13,
   "id": "eef31e3a-5eeb-4394-89ad-8a190f2cd6d2",
   "metadata": {},
   "outputs": [
    {
     "data": {
      "text/plain": [
       "array(['cool', 'is', 'language', 'nice', 'pretty', 'programming',\n",
       "       'python', 'sql', 'syntax', 'think', 'too', 'with'], dtype=object)"
      ]
     },
     "execution_count": 13,
     "metadata": {},
     "output_type": "execute_result"
    }
   ],
   "source": [
    "cv.get_feature_names_out()"
   ]
  },
  {
   "cell_type": "code",
   "execution_count": 16,
   "id": "21ccdb7a-45f6-49e4-82b2-55d880b9b7d1",
   "metadata": {},
   "outputs": [
    {
     "data": {
      "text/plain": [
       "{'python': 6,\n",
       " 'is': 1,\n",
       " 'pretty': 4,\n",
       " 'cool': 0,\n",
       " 'nice': 3,\n",
       " 'programming': 5,\n",
       " 'language': 2,\n",
       " 'with': 11,\n",
       " 'syntax': 8,\n",
       " 'think': 9,\n",
       " 'sql': 7,\n",
       " 'too': 10}"
      ]
     },
     "execution_count": 16,
     "metadata": {},
     "output_type": "execute_result"
    }
   ],
   "source": [
    "cv.vocabulary_"
   ]
  },
  {
   "cell_type": "code",
   "execution_count": null,
   "id": "73e39b5b-1ff2-46a1-9119-8ff4cb8321f9",
   "metadata": {},
   "outputs": [],
   "source": []
  },
  {
   "cell_type": "code",
   "execution_count": 20,
   "id": "290cc53c",
   "metadata": {},
   "outputs": [],
   "source": [
    "# Taking a look at the bag of words transformation for education and diagnostics.\n",
    "# In practice this is not necesssary and the resulting data might be to big to be reasonably helpful.\n",
    "bow = pd.DataFrame(bag_o_words.todense())\n",
    "bow.columns = cv.get_feature_names_out()"
   ]
  },
  {
   "cell_type": "code",
   "execution_count": 22,
   "id": "6f8425d9-61a0-4e2f-9b60-03668ae00266",
   "metadata": {},
   "outputs": [
    {
     "data": {
      "text/html": [
       "<div>\n",
       "<style scoped>\n",
       "    .dataframe tbody tr th:only-of-type {\n",
       "        vertical-align: middle;\n",
       "    }\n",
       "\n",
       "    .dataframe tbody tr th {\n",
       "        vertical-align: top;\n",
       "    }\n",
       "\n",
       "    .dataframe thead th {\n",
       "        text-align: right;\n",
       "    }\n",
       "</style>\n",
       "<table border=\"1\" class=\"dataframe\">\n",
       "  <thead>\n",
       "    <tr style=\"text-align: right;\">\n",
       "      <th></th>\n",
       "      <th>0</th>\n",
       "      <th>1</th>\n",
       "      <th>2</th>\n",
       "    </tr>\n",
       "  </thead>\n",
       "  <tbody>\n",
       "    <tr>\n",
       "      <th>cool</th>\n",
       "      <td>1</td>\n",
       "      <td>0</td>\n",
       "      <td>1</td>\n",
       "    </tr>\n",
       "    <tr>\n",
       "      <th>is</th>\n",
       "      <td>1</td>\n",
       "      <td>1</td>\n",
       "      <td>1</td>\n",
       "    </tr>\n",
       "    <tr>\n",
       "      <th>language</th>\n",
       "      <td>0</td>\n",
       "      <td>1</td>\n",
       "      <td>0</td>\n",
       "    </tr>\n",
       "    <tr>\n",
       "      <th>nice</th>\n",
       "      <td>0</td>\n",
       "      <td>2</td>\n",
       "      <td>0</td>\n",
       "    </tr>\n",
       "    <tr>\n",
       "      <th>pretty</th>\n",
       "      <td>1</td>\n",
       "      <td>0</td>\n",
       "      <td>0</td>\n",
       "    </tr>\n",
       "    <tr>\n",
       "      <th>programming</th>\n",
       "      <td>0</td>\n",
       "      <td>1</td>\n",
       "      <td>0</td>\n",
       "    </tr>\n",
       "    <tr>\n",
       "      <th>python</th>\n",
       "      <td>1</td>\n",
       "      <td>1</td>\n",
       "      <td>0</td>\n",
       "    </tr>\n",
       "    <tr>\n",
       "      <th>sql</th>\n",
       "      <td>0</td>\n",
       "      <td>0</td>\n",
       "      <td>1</td>\n",
       "    </tr>\n",
       "    <tr>\n",
       "      <th>syntax</th>\n",
       "      <td>0</td>\n",
       "      <td>1</td>\n",
       "      <td>0</td>\n",
       "    </tr>\n",
       "    <tr>\n",
       "      <th>think</th>\n",
       "      <td>0</td>\n",
       "      <td>0</td>\n",
       "      <td>1</td>\n",
       "    </tr>\n",
       "    <tr>\n",
       "      <th>too</th>\n",
       "      <td>0</td>\n",
       "      <td>0</td>\n",
       "      <td>1</td>\n",
       "    </tr>\n",
       "    <tr>\n",
       "      <th>with</th>\n",
       "      <td>0</td>\n",
       "      <td>1</td>\n",
       "      <td>0</td>\n",
       "    </tr>\n",
       "  </tbody>\n",
       "</table>\n",
       "</div>"
      ],
      "text/plain": [
       "             0  1  2\n",
       "cool         1  0  1\n",
       "is           1  1  1\n",
       "language     0  1  0\n",
       "nice         0  2  0\n",
       "pretty       1  0  0\n",
       "programming  0  1  0\n",
       "python       1  1  0\n",
       "sql          0  0  1\n",
       "syntax       0  1  0\n",
       "think        0  0  1\n",
       "too          0  0  1\n",
       "with         0  1  0"
      ]
     },
     "execution_count": 22,
     "metadata": {},
     "output_type": "execute_result"
    }
   ],
   "source": [
    "bow.T"
   ]
  },
  {
   "cell_type": "code",
   "execution_count": 23,
   "id": "bd18b2f9-5491-48fb-a9d0-068632bcff9e",
   "metadata": {},
   "outputs": [
    {
     "data": {
      "text/html": [
       "<div>\n",
       "<style scoped>\n",
       "    .dataframe tbody tr th:only-of-type {\n",
       "        vertical-align: middle;\n",
       "    }\n",
       "\n",
       "    .dataframe tbody tr th {\n",
       "        vertical-align: top;\n",
       "    }\n",
       "\n",
       "    .dataframe thead th {\n",
       "        text-align: right;\n",
       "    }\n",
       "</style>\n",
       "<table border=\"1\" class=\"dataframe\">\n",
       "  <thead>\n",
       "    <tr style=\"text-align: right;\">\n",
       "      <th></th>\n",
       "      <th>cool</th>\n",
       "      <th>is</th>\n",
       "      <th>language</th>\n",
       "      <th>nice</th>\n",
       "      <th>pretty</th>\n",
       "      <th>programming</th>\n",
       "      <th>python</th>\n",
       "      <th>sql</th>\n",
       "      <th>syntax</th>\n",
       "      <th>think</th>\n",
       "      <th>too</th>\n",
       "      <th>with</th>\n",
       "    </tr>\n",
       "  </thead>\n",
       "  <tbody>\n",
       "    <tr>\n",
       "      <th>0</th>\n",
       "      <td>1</td>\n",
       "      <td>1</td>\n",
       "      <td>0</td>\n",
       "      <td>0</td>\n",
       "      <td>1</td>\n",
       "      <td>0</td>\n",
       "      <td>1</td>\n",
       "      <td>0</td>\n",
       "      <td>0</td>\n",
       "      <td>0</td>\n",
       "      <td>0</td>\n",
       "      <td>0</td>\n",
       "    </tr>\n",
       "    <tr>\n",
       "      <th>1</th>\n",
       "      <td>0</td>\n",
       "      <td>1</td>\n",
       "      <td>1</td>\n",
       "      <td>2</td>\n",
       "      <td>0</td>\n",
       "      <td>1</td>\n",
       "      <td>1</td>\n",
       "      <td>0</td>\n",
       "      <td>1</td>\n",
       "      <td>0</td>\n",
       "      <td>0</td>\n",
       "      <td>1</td>\n",
       "    </tr>\n",
       "    <tr>\n",
       "      <th>2</th>\n",
       "      <td>1</td>\n",
       "      <td>1</td>\n",
       "      <td>0</td>\n",
       "      <td>0</td>\n",
       "      <td>0</td>\n",
       "      <td>0</td>\n",
       "      <td>0</td>\n",
       "      <td>1</td>\n",
       "      <td>0</td>\n",
       "      <td>1</td>\n",
       "      <td>1</td>\n",
       "      <td>0</td>\n",
       "    </tr>\n",
       "  </tbody>\n",
       "</table>\n",
       "</div>"
      ],
      "text/plain": [
       "   cool  is  language  nice  pretty  programming  python  sql  syntax  think  \\\n",
       "0     1   1         0     0       1            0       1    0       0      0   \n",
       "1     0   1         1     2       0            1       1    0       1      0   \n",
       "2     1   1         0     0       0            0       0    1       0      1   \n",
       "\n",
       "   too  with  \n",
       "0    0     0  \n",
       "1    0     1  \n",
       "2    1     0  "
      ]
     },
     "execution_count": 23,
     "metadata": {},
     "output_type": "execute_result"
    }
   ],
   "source": [
    "bow"
   ]
  },
  {
   "cell_type": "code",
   "execution_count": 24,
   "id": "c0bdea7b-ebe1-4e55-8478-7e1ba4959bf3",
   "metadata": {},
   "outputs": [
    {
     "data": {
      "text/html": [
       "<div>\n",
       "<style scoped>\n",
       "    .dataframe tbody tr th:only-of-type {\n",
       "        vertical-align: middle;\n",
       "    }\n",
       "\n",
       "    .dataframe tbody tr th {\n",
       "        vertical-align: top;\n",
       "    }\n",
       "\n",
       "    .dataframe thead th {\n",
       "        text-align: right;\n",
       "    }\n",
       "</style>\n",
       "<table border=\"1\" class=\"dataframe\">\n",
       "  <thead>\n",
       "    <tr style=\"text-align: right;\">\n",
       "      <th></th>\n",
       "      <th>cool</th>\n",
       "      <th>is</th>\n",
       "      <th>language</th>\n",
       "      <th>nice</th>\n",
       "      <th>pretty</th>\n",
       "      <th>programming</th>\n",
       "      <th>python</th>\n",
       "      <th>sql</th>\n",
       "      <th>syntax</th>\n",
       "      <th>think</th>\n",
       "      <th>too</th>\n",
       "      <th>with</th>\n",
       "    </tr>\n",
       "  </thead>\n",
       "  <tbody>\n",
       "    <tr>\n",
       "      <th>0</th>\n",
       "      <td>0.25</td>\n",
       "      <td>0.250</td>\n",
       "      <td>0.000</td>\n",
       "      <td>0.00</td>\n",
       "      <td>0.25</td>\n",
       "      <td>0.000</td>\n",
       "      <td>0.250</td>\n",
       "      <td>0.0</td>\n",
       "      <td>0.000</td>\n",
       "      <td>0.0</td>\n",
       "      <td>0.0</td>\n",
       "      <td>0.000</td>\n",
       "    </tr>\n",
       "    <tr>\n",
       "      <th>1</th>\n",
       "      <td>0.00</td>\n",
       "      <td>0.125</td>\n",
       "      <td>0.125</td>\n",
       "      <td>0.25</td>\n",
       "      <td>0.00</td>\n",
       "      <td>0.125</td>\n",
       "      <td>0.125</td>\n",
       "      <td>0.0</td>\n",
       "      <td>0.125</td>\n",
       "      <td>0.0</td>\n",
       "      <td>0.0</td>\n",
       "      <td>0.125</td>\n",
       "    </tr>\n",
       "    <tr>\n",
       "      <th>2</th>\n",
       "      <td>0.20</td>\n",
       "      <td>0.200</td>\n",
       "      <td>0.000</td>\n",
       "      <td>0.00</td>\n",
       "      <td>0.00</td>\n",
       "      <td>0.000</td>\n",
       "      <td>0.000</td>\n",
       "      <td>0.2</td>\n",
       "      <td>0.000</td>\n",
       "      <td>0.2</td>\n",
       "      <td>0.2</td>\n",
       "      <td>0.000</td>\n",
       "    </tr>\n",
       "  </tbody>\n",
       "</table>\n",
       "</div>"
      ],
      "text/plain": [
       "   cool     is  language  nice  pretty  programming  python  sql  syntax  \\\n",
       "0  0.25  0.250     0.000  0.00    0.25        0.000   0.250  0.0   0.000   \n",
       "1  0.00  0.125     0.125  0.25    0.00        0.125   0.125  0.0   0.125   \n",
       "2  0.20  0.200     0.000  0.00    0.00        0.000   0.000  0.2   0.000   \n",
       "\n",
       "   think  too   with  \n",
       "0    0.0  0.0  0.000  \n",
       "1    0.0  0.0  0.125  \n",
       "2    0.2  0.2  0.000  "
      ]
     },
     "execution_count": 24,
     "metadata": {},
     "output_type": "execute_result"
    }
   ],
   "source": [
    "bow.apply(lambda row: row / row.sum(), axis=1)"
   ]
  },
  {
   "cell_type": "markdown",
   "id": "e929f4ac",
   "metadata": {},
   "source": [
    "### TF-IDF\n",
    "\n",
    "- term frequency - inverse document frequency\n",
    "- $\\text{tf} \\times \\text{idf} = \\frac{\\text{tf}}{\\text{df}}$\n",
    "- a measure that helps identify how important a word is in a document\n",
    "- combination of how often a word appears in a document (**tf**) and how unqiue the word\n",
    "  is among documents (**idf**)\n",
    "- used by search engines\n",
    "- naturally helps filter out stopwords\n",
    "- tf is for a single document, idf is for a corpus"
   ]
  },
  {
   "cell_type": "code",
   "execution_count": 25,
   "id": "3c634645",
   "metadata": {},
   "outputs": [
    {
     "name": "stdout",
     "output_type": "stream",
     "text": [
      "['Python is pretty cool',\n",
      " 'Python is a nice programming language with nice syntax',\n",
      " 'I think SQL is cool too']\n"
     ]
    },
    {
     "data": {
      "text/html": [
       "<div>\n",
       "<style scoped>\n",
       "    .dataframe tbody tr th:only-of-type {\n",
       "        vertical-align: middle;\n",
       "    }\n",
       "\n",
       "    .dataframe tbody tr th {\n",
       "        vertical-align: top;\n",
       "    }\n",
       "\n",
       "    .dataframe thead th {\n",
       "        text-align: right;\n",
       "    }\n",
       "</style>\n",
       "<table border=\"1\" class=\"dataframe\">\n",
       "  <thead>\n",
       "    <tr style=\"text-align: right;\">\n",
       "      <th></th>\n",
       "      <th>cool</th>\n",
       "      <th>is</th>\n",
       "      <th>language</th>\n",
       "      <th>nice</th>\n",
       "      <th>pretty</th>\n",
       "      <th>programming</th>\n",
       "      <th>python</th>\n",
       "      <th>sql</th>\n",
       "      <th>syntax</th>\n",
       "      <th>think</th>\n",
       "      <th>too</th>\n",
       "      <th>with</th>\n",
       "    </tr>\n",
       "  </thead>\n",
       "  <tbody>\n",
       "    <tr>\n",
       "      <th>0</th>\n",
       "      <td>0.480458</td>\n",
       "      <td>0.373119</td>\n",
       "      <td>0.000000</td>\n",
       "      <td>0.000000</td>\n",
       "      <td>0.631745</td>\n",
       "      <td>0.000000</td>\n",
       "      <td>0.480458</td>\n",
       "      <td>0.000000</td>\n",
       "      <td>0.000000</td>\n",
       "      <td>0.000000</td>\n",
       "      <td>0.000000</td>\n",
       "      <td>0.000000</td>\n",
       "    </tr>\n",
       "    <tr>\n",
       "      <th>1</th>\n",
       "      <td>0.000000</td>\n",
       "      <td>0.197673</td>\n",
       "      <td>0.334689</td>\n",
       "      <td>0.669378</td>\n",
       "      <td>0.000000</td>\n",
       "      <td>0.334689</td>\n",
       "      <td>0.254540</td>\n",
       "      <td>0.000000</td>\n",
       "      <td>0.334689</td>\n",
       "      <td>0.000000</td>\n",
       "      <td>0.000000</td>\n",
       "      <td>0.334689</td>\n",
       "    </tr>\n",
       "    <tr>\n",
       "      <th>2</th>\n",
       "      <td>0.383770</td>\n",
       "      <td>0.298032</td>\n",
       "      <td>0.000000</td>\n",
       "      <td>0.000000</td>\n",
       "      <td>0.000000</td>\n",
       "      <td>0.000000</td>\n",
       "      <td>0.000000</td>\n",
       "      <td>0.504611</td>\n",
       "      <td>0.000000</td>\n",
       "      <td>0.504611</td>\n",
       "      <td>0.504611</td>\n",
       "      <td>0.000000</td>\n",
       "    </tr>\n",
       "  </tbody>\n",
       "</table>\n",
       "</div>"
      ],
      "text/plain": [
       "       cool        is  language      nice    pretty  programming    python  \\\n",
       "0  0.480458  0.373119  0.000000  0.000000  0.631745     0.000000  0.480458   \n",
       "1  0.000000  0.197673  0.334689  0.669378  0.000000     0.334689  0.254540   \n",
       "2  0.383770  0.298032  0.000000  0.000000  0.000000     0.000000  0.000000   \n",
       "\n",
       "        sql    syntax     think       too      with  \n",
       "0  0.000000  0.000000  0.000000  0.000000  0.000000  \n",
       "1  0.000000  0.334689  0.000000  0.000000  0.334689  \n",
       "2  0.504611  0.000000  0.504611  0.504611  0.000000  "
      ]
     },
     "execution_count": 25,
     "metadata": {},
     "output_type": "execute_result"
    }
   ],
   "source": [
    "from sklearn.feature_extraction.text import TfidfVectorizer\n",
    "\n",
    "tfidf = TfidfVectorizer()\n",
    "bag_of_words = tfidf.fit_transform(data)\n",
    "pprint(data)\n",
    "pd.DataFrame(bag_of_words.todense(),\n",
    "             columns= tfidf.get_feature_names_out())"
   ]
  },
  {
   "cell_type": "markdown",
   "id": "f879a6e4",
   "metadata": {},
   "source": [
    "To get the idf score for each word (these aren't terribly usefule themselves):"
   ]
  },
  {
   "cell_type": "code",
   "execution_count": 27,
   "id": "e73321fc",
   "metadata": {},
   "outputs": [
    {
     "data": {
      "text/plain": [
       "cool           1.287682\n",
       "is             1.000000\n",
       "language       1.693147\n",
       "nice           1.693147\n",
       "pretty         1.693147\n",
       "programming    1.693147\n",
       "python         1.287682\n",
       "sql            1.693147\n",
       "syntax         1.693147\n",
       "think          1.693147\n",
       "too            1.693147\n",
       "with           1.693147\n",
       "dtype: float64"
      ]
     },
     "execution_count": 27,
     "metadata": {},
     "output_type": "execute_result"
    }
   ],
   "source": [
    "pd.Series(dict(zip(tfidf.get_feature_names_out(), tfidf.idf_)))"
   ]
  },
  {
   "cell_type": "markdown",
   "id": "a26ba50b",
   "metadata": {},
   "source": [
    "### Bag Of Ngrams\n",
    "\n",
    "For either `CountVectorizer` or `TfidfVectorizer`, you can set the `ngram_range`\n",
    "parameter."
   ]
  },
  {
   "cell_type": "code",
   "execution_count": 28,
   "id": "f90e430d-9eb0-4293-9e85-f523c127e768",
   "metadata": {},
   "outputs": [],
   "source": [
    "cv = CountVectorizer(ngram_range=(2,4))\n",
    "grams_bag = cv.fit_transform(data)"
   ]
  },
  {
   "cell_type": "code",
   "execution_count": 31,
   "id": "64793d9b-280e-4ab2-b764-4447ebebef88",
   "metadata": {},
   "outputs": [
    {
     "data": {
      "text/html": [
       "<div>\n",
       "<style scoped>\n",
       "    .dataframe tbody tr th:only-of-type {\n",
       "        vertical-align: middle;\n",
       "    }\n",
       "\n",
       "    .dataframe tbody tr th {\n",
       "        vertical-align: top;\n",
       "    }\n",
       "\n",
       "    .dataframe thead th {\n",
       "        text-align: right;\n",
       "    }\n",
       "</style>\n",
       "<table border=\"1\" class=\"dataframe\">\n",
       "  <thead>\n",
       "    <tr style=\"text-align: right;\">\n",
       "      <th></th>\n",
       "      <th>cool too</th>\n",
       "      <th>is cool</th>\n",
       "      <th>is cool too</th>\n",
       "      <th>is nice</th>\n",
       "      <th>is nice programming</th>\n",
       "      <th>is nice programming language</th>\n",
       "      <th>is pretty</th>\n",
       "      <th>is pretty cool</th>\n",
       "      <th>language with</th>\n",
       "      <th>language with nice</th>\n",
       "      <th>...</th>\n",
       "      <th>python is pretty</th>\n",
       "      <th>python is pretty cool</th>\n",
       "      <th>sql is</th>\n",
       "      <th>sql is cool</th>\n",
       "      <th>sql is cool too</th>\n",
       "      <th>think sql</th>\n",
       "      <th>think sql is</th>\n",
       "      <th>think sql is cool</th>\n",
       "      <th>with nice</th>\n",
       "      <th>with nice syntax</th>\n",
       "    </tr>\n",
       "  </thead>\n",
       "  <tbody>\n",
       "    <tr>\n",
       "      <th>0</th>\n",
       "      <td>0</td>\n",
       "      <td>0</td>\n",
       "      <td>0</td>\n",
       "      <td>0</td>\n",
       "      <td>0</td>\n",
       "      <td>0</td>\n",
       "      <td>1</td>\n",
       "      <td>1</td>\n",
       "      <td>0</td>\n",
       "      <td>0</td>\n",
       "      <td>...</td>\n",
       "      <td>1</td>\n",
       "      <td>1</td>\n",
       "      <td>0</td>\n",
       "      <td>0</td>\n",
       "      <td>0</td>\n",
       "      <td>0</td>\n",
       "      <td>0</td>\n",
       "      <td>0</td>\n",
       "      <td>0</td>\n",
       "      <td>0</td>\n",
       "    </tr>\n",
       "    <tr>\n",
       "      <th>1</th>\n",
       "      <td>0</td>\n",
       "      <td>0</td>\n",
       "      <td>0</td>\n",
       "      <td>1</td>\n",
       "      <td>1</td>\n",
       "      <td>1</td>\n",
       "      <td>0</td>\n",
       "      <td>0</td>\n",
       "      <td>1</td>\n",
       "      <td>1</td>\n",
       "      <td>...</td>\n",
       "      <td>0</td>\n",
       "      <td>0</td>\n",
       "      <td>0</td>\n",
       "      <td>0</td>\n",
       "      <td>0</td>\n",
       "      <td>0</td>\n",
       "      <td>0</td>\n",
       "      <td>0</td>\n",
       "      <td>1</td>\n",
       "      <td>1</td>\n",
       "    </tr>\n",
       "    <tr>\n",
       "      <th>2</th>\n",
       "      <td>1</td>\n",
       "      <td>1</td>\n",
       "      <td>1</td>\n",
       "      <td>0</td>\n",
       "      <td>0</td>\n",
       "      <td>0</td>\n",
       "      <td>0</td>\n",
       "      <td>0</td>\n",
       "      <td>0</td>\n",
       "      <td>0</td>\n",
       "      <td>...</td>\n",
       "      <td>0</td>\n",
       "      <td>0</td>\n",
       "      <td>1</td>\n",
       "      <td>1</td>\n",
       "      <td>1</td>\n",
       "      <td>1</td>\n",
       "      <td>1</td>\n",
       "      <td>1</td>\n",
       "      <td>0</td>\n",
       "      <td>0</td>\n",
       "    </tr>\n",
       "  </tbody>\n",
       "</table>\n",
       "<p>3 rows × 32 columns</p>\n",
       "</div>"
      ],
      "text/plain": [
       "   cool too  is cool  is cool too  is nice  is nice programming  \\\n",
       "0         0        0            0        0                    0   \n",
       "1         0        0            0        1                    1   \n",
       "2         1        1            1        0                    0   \n",
       "\n",
       "   is nice programming language  is pretty  is pretty cool  language with  \\\n",
       "0                             0          1               1              0   \n",
       "1                             1          0               0              1   \n",
       "2                             0          0               0              0   \n",
       "\n",
       "   language with nice  ...  python is pretty  python is pretty cool  sql is  \\\n",
       "0                   0  ...                 1                      1       0   \n",
       "1                   1  ...                 0                      0       0   \n",
       "2                   0  ...                 0                      0       1   \n",
       "\n",
       "   sql is cool  sql is cool too  think sql  think sql is  think sql is cool  \\\n",
       "0            0                0          0             0                  0   \n",
       "1            0                0          0             0                  0   \n",
       "2            1                1          1             1                  1   \n",
       "\n",
       "   with nice  with nice syntax  \n",
       "0          0                 0  \n",
       "1          1                 1  \n",
       "2          0                 0  \n",
       "\n",
       "[3 rows x 32 columns]"
      ]
     },
     "execution_count": 31,
     "metadata": {},
     "output_type": "execute_result"
    }
   ],
   "source": [
    "model_df = pd.DataFrame(grams_bag.todense(), columns= cv.get_feature_names_out())\n",
    "model_df"
   ]
  },
  {
   "cell_type": "markdown",
   "id": "12896c9b",
   "metadata": {},
   "source": [
    "## Modeling"
   ]
  },
  {
   "cell_type": "code",
   "execution_count": 32,
   "id": "9d5172aa-73a8-459a-a3bd-68309de6a148",
   "metadata": {},
   "outputs": [
    {
     "data": {
      "text/html": [
       "<div>\n",
       "<style scoped>\n",
       "    .dataframe tbody tr th:only-of-type {\n",
       "        vertical-align: middle;\n",
       "    }\n",
       "\n",
       "    .dataframe tbody tr th {\n",
       "        vertical-align: top;\n",
       "    }\n",
       "\n",
       "    .dataframe thead th {\n",
       "        text-align: right;\n",
       "    }\n",
       "</style>\n",
       "<table border=\"1\" class=\"dataframe\">\n",
       "  <thead>\n",
       "    <tr style=\"text-align: right;\">\n",
       "      <th></th>\n",
       "      <th>id</th>\n",
       "      <th>label</th>\n",
       "      <th>text</th>\n",
       "      <th>text_clean</th>\n",
       "      <th>message_length</th>\n",
       "      <th>word_count</th>\n",
       "      <th>sentiment</th>\n",
       "    </tr>\n",
       "  </thead>\n",
       "  <tbody>\n",
       "    <tr>\n",
       "      <th>0</th>\n",
       "      <td>0</td>\n",
       "      <td>ham</td>\n",
       "      <td>Go until jurong point, crazy.. Available only ...</td>\n",
       "      <td>['go', 'jurong', 'point', 'crazy', 'available'...</td>\n",
       "      <td>111</td>\n",
       "      <td>16</td>\n",
       "      <td>0.6249</td>\n",
       "    </tr>\n",
       "    <tr>\n",
       "      <th>1</th>\n",
       "      <td>1</td>\n",
       "      <td>ham</td>\n",
       "      <td>Ok lar... Joking wif u oni...</td>\n",
       "      <td>['ok', 'lar', 'joking', 'wif', 'oni']</td>\n",
       "      <td>29</td>\n",
       "      <td>5</td>\n",
       "      <td>0.4767</td>\n",
       "    </tr>\n",
       "    <tr>\n",
       "      <th>2</th>\n",
       "      <td>2</td>\n",
       "      <td>spam</td>\n",
       "      <td>Free entry in 2 a wkly comp to win FA Cup fina...</td>\n",
       "      <td>['free', 'entry', 'wkly', 'comp', 'win', 'fa',...</td>\n",
       "      <td>155</td>\n",
       "      <td>22</td>\n",
       "      <td>0.7964</td>\n",
       "    </tr>\n",
       "    <tr>\n",
       "      <th>3</th>\n",
       "      <td>3</td>\n",
       "      <td>ham</td>\n",
       "      <td>U dun say so early hor... U c already then say...</td>\n",
       "      <td>['dun', 'say', 'early', 'hor', 'c', 'already',...</td>\n",
       "      <td>49</td>\n",
       "      <td>7</td>\n",
       "      <td>0.0000</td>\n",
       "    </tr>\n",
       "    <tr>\n",
       "      <th>4</th>\n",
       "      <td>4</td>\n",
       "      <td>ham</td>\n",
       "      <td>Nah I don't think he goes to usf, he lives aro...</td>\n",
       "      <td>['nah', 'dont', 'think', 'go', 'usf', 'life', ...</td>\n",
       "      <td>61</td>\n",
       "      <td>8</td>\n",
       "      <td>-0.1027</td>\n",
       "    </tr>\n",
       "    <tr>\n",
       "      <th>...</th>\n",
       "      <td>...</td>\n",
       "      <td>...</td>\n",
       "      <td>...</td>\n",
       "      <td>...</td>\n",
       "      <td>...</td>\n",
       "      <td>...</td>\n",
       "      <td>...</td>\n",
       "    </tr>\n",
       "    <tr>\n",
       "      <th>5567</th>\n",
       "      <td>5567</td>\n",
       "      <td>spam</td>\n",
       "      <td>This is the 2nd time we have tried 2 contact u...</td>\n",
       "      <td>['2nd', 'time', 'tried', 'contact', 'a750', 'p...</td>\n",
       "      <td>161</td>\n",
       "      <td>16</td>\n",
       "      <td>0.8805</td>\n",
       "    </tr>\n",
       "    <tr>\n",
       "      <th>5568</th>\n",
       "      <td>5568</td>\n",
       "      <td>ham</td>\n",
       "      <td>Will Ì_ b going to esplanade fr home?</td>\n",
       "      <td>['i_', 'b', 'going', 'esplanade', 'fr', 'home']</td>\n",
       "      <td>37</td>\n",
       "      <td>6</td>\n",
       "      <td>0.0000</td>\n",
       "    </tr>\n",
       "    <tr>\n",
       "      <th>5569</th>\n",
       "      <td>5569</td>\n",
       "      <td>ham</td>\n",
       "      <td>Pity, * was in mood for that. So...any other s...</td>\n",
       "      <td>['pity', 'mood', 'soany', 'suggestion']</td>\n",
       "      <td>57</td>\n",
       "      <td>4</td>\n",
       "      <td>-0.2960</td>\n",
       "    </tr>\n",
       "    <tr>\n",
       "      <th>5570</th>\n",
       "      <td>5570</td>\n",
       "      <td>ham</td>\n",
       "      <td>The guy did some bitching but I acted like i'd...</td>\n",
       "      <td>['guy', 'bitching', 'acted', 'like', 'id', 'in...</td>\n",
       "      <td>125</td>\n",
       "      <td>14</td>\n",
       "      <td>0.8934</td>\n",
       "    </tr>\n",
       "    <tr>\n",
       "      <th>5571</th>\n",
       "      <td>5571</td>\n",
       "      <td>ham</td>\n",
       "      <td>Rofl. Its true to its name</td>\n",
       "      <td>['rofl', 'true', 'name']</td>\n",
       "      <td>26</td>\n",
       "      <td>3</td>\n",
       "      <td>0.7579</td>\n",
       "    </tr>\n",
       "  </tbody>\n",
       "</table>\n",
       "<p>5572 rows × 7 columns</p>\n",
       "</div>"
      ],
      "text/plain": [
       "        id label                                               text  \\\n",
       "0        0   ham  Go until jurong point, crazy.. Available only ...   \n",
       "1        1   ham                      Ok lar... Joking wif u oni...   \n",
       "2        2  spam  Free entry in 2 a wkly comp to win FA Cup fina...   \n",
       "3        3   ham  U dun say so early hor... U c already then say...   \n",
       "4        4   ham  Nah I don't think he goes to usf, he lives aro...   \n",
       "...    ...   ...                                                ...   \n",
       "5567  5567  spam  This is the 2nd time we have tried 2 contact u...   \n",
       "5568  5568   ham              Will Ì_ b going to esplanade fr home?   \n",
       "5569  5569   ham  Pity, * was in mood for that. So...any other s...   \n",
       "5570  5570   ham  The guy did some bitching but I acted like i'd...   \n",
       "5571  5571   ham                         Rofl. Its true to its name   \n",
       "\n",
       "                                             text_clean  message_length  \\\n",
       "0     ['go', 'jurong', 'point', 'crazy', 'available'...             111   \n",
       "1                 ['ok', 'lar', 'joking', 'wif', 'oni']              29   \n",
       "2     ['free', 'entry', 'wkly', 'comp', 'win', 'fa',...             155   \n",
       "3     ['dun', 'say', 'early', 'hor', 'c', 'already',...              49   \n",
       "4     ['nah', 'dont', 'think', 'go', 'usf', 'life', ...              61   \n",
       "...                                                 ...             ...   \n",
       "5567  ['2nd', 'time', 'tried', 'contact', 'a750', 'p...             161   \n",
       "5568    ['i_', 'b', 'going', 'esplanade', 'fr', 'home']              37   \n",
       "5569            ['pity', 'mood', 'soany', 'suggestion']              57   \n",
       "5570  ['guy', 'bitching', 'acted', 'like', 'id', 'in...             125   \n",
       "5571                           ['rofl', 'true', 'name']              26   \n",
       "\n",
       "      word_count  sentiment  \n",
       "0             16     0.6249  \n",
       "1              5     0.4767  \n",
       "2             22     0.7964  \n",
       "3              7     0.0000  \n",
       "4              8    -0.1027  \n",
       "...          ...        ...  \n",
       "5567          16     0.8805  \n",
       "5568           6     0.0000  \n",
       "5569           4    -0.2960  \n",
       "5570          14     0.8934  \n",
       "5571           3     0.7579  \n",
       "\n",
       "[5572 rows x 7 columns]"
      ]
     },
     "execution_count": 32,
     "metadata": {},
     "output_type": "execute_result"
    }
   ],
   "source": [
    "from sklearn.model_selection import train_test_split\n",
    "from sklearn.tree import DecisionTreeClassifier\n",
    "\n",
    "df"
   ]
  },
  {
   "cell_type": "code",
   "execution_count": 35,
   "id": "f823ff13-cdda-4faa-a516-6e9d9fcf1a25",
   "metadata": {
    "scrolled": true
   },
   "outputs": [],
   "source": [
    "df['text_cleaned'] = df.text.apply(clean).apply(' '.join)"
   ]
  },
  {
   "cell_type": "code",
   "execution_count": 36,
   "id": "d67213d4-839f-454f-acb4-83fc6f1ca2b4",
   "metadata": {},
   "outputs": [
    {
     "data": {
      "text/html": [
       "<div>\n",
       "<style scoped>\n",
       "    .dataframe tbody tr th:only-of-type {\n",
       "        vertical-align: middle;\n",
       "    }\n",
       "\n",
       "    .dataframe tbody tr th {\n",
       "        vertical-align: top;\n",
       "    }\n",
       "\n",
       "    .dataframe thead th {\n",
       "        text-align: right;\n",
       "    }\n",
       "</style>\n",
       "<table border=\"1\" class=\"dataframe\">\n",
       "  <thead>\n",
       "    <tr style=\"text-align: right;\">\n",
       "      <th></th>\n",
       "      <th>id</th>\n",
       "      <th>label</th>\n",
       "      <th>text</th>\n",
       "      <th>text_clean</th>\n",
       "      <th>message_length</th>\n",
       "      <th>word_count</th>\n",
       "      <th>sentiment</th>\n",
       "      <th>text_cleaned</th>\n",
       "    </tr>\n",
       "  </thead>\n",
       "  <tbody>\n",
       "    <tr>\n",
       "      <th>0</th>\n",
       "      <td>0</td>\n",
       "      <td>ham</td>\n",
       "      <td>Go until jurong point, crazy.. Available only ...</td>\n",
       "      <td>['go', 'jurong', 'point', 'crazy', 'available'...</td>\n",
       "      <td>111</td>\n",
       "      <td>16</td>\n",
       "      <td>0.6249</td>\n",
       "      <td>go jurong point crazy available bugis n great ...</td>\n",
       "    </tr>\n",
       "    <tr>\n",
       "      <th>1</th>\n",
       "      <td>1</td>\n",
       "      <td>ham</td>\n",
       "      <td>Ok lar... Joking wif u oni...</td>\n",
       "      <td>['ok', 'lar', 'joking', 'wif', 'oni']</td>\n",
       "      <td>29</td>\n",
       "      <td>5</td>\n",
       "      <td>0.4767</td>\n",
       "      <td>ok lar joking wif u oni</td>\n",
       "    </tr>\n",
       "    <tr>\n",
       "      <th>2</th>\n",
       "      <td>2</td>\n",
       "      <td>spam</td>\n",
       "      <td>Free entry in 2 a wkly comp to win FA Cup fina...</td>\n",
       "      <td>['free', 'entry', 'wkly', 'comp', 'win', 'fa',...</td>\n",
       "      <td>155</td>\n",
       "      <td>22</td>\n",
       "      <td>0.7964</td>\n",
       "      <td>free entry 2 wkly comp win fa cup final tkts 2...</td>\n",
       "    </tr>\n",
       "    <tr>\n",
       "      <th>3</th>\n",
       "      <td>3</td>\n",
       "      <td>ham</td>\n",
       "      <td>U dun say so early hor... U c already then say...</td>\n",
       "      <td>['dun', 'say', 'early', 'hor', 'c', 'already',...</td>\n",
       "      <td>49</td>\n",
       "      <td>7</td>\n",
       "      <td>0.0000</td>\n",
       "      <td>u dun say early hor u c already say</td>\n",
       "    </tr>\n",
       "    <tr>\n",
       "      <th>4</th>\n",
       "      <td>4</td>\n",
       "      <td>ham</td>\n",
       "      <td>Nah I don't think he goes to usf, he lives aro...</td>\n",
       "      <td>['nah', 'dont', 'think', 'go', 'usf', 'life', ...</td>\n",
       "      <td>61</td>\n",
       "      <td>8</td>\n",
       "      <td>-0.1027</td>\n",
       "      <td>nah dont think go usf life around though</td>\n",
       "    </tr>\n",
       "    <tr>\n",
       "      <th>...</th>\n",
       "      <td>...</td>\n",
       "      <td>...</td>\n",
       "      <td>...</td>\n",
       "      <td>...</td>\n",
       "      <td>...</td>\n",
       "      <td>...</td>\n",
       "      <td>...</td>\n",
       "      <td>...</td>\n",
       "    </tr>\n",
       "    <tr>\n",
       "      <th>5567</th>\n",
       "      <td>5567</td>\n",
       "      <td>spam</td>\n",
       "      <td>This is the 2nd time we have tried 2 contact u...</td>\n",
       "      <td>['2nd', 'time', 'tried', 'contact', 'a750', 'p...</td>\n",
       "      <td>161</td>\n",
       "      <td>16</td>\n",
       "      <td>0.8805</td>\n",
       "      <td>2nd time tried 2 contact u u 750 pound prize 2...</td>\n",
       "    </tr>\n",
       "    <tr>\n",
       "      <th>5568</th>\n",
       "      <td>5568</td>\n",
       "      <td>ham</td>\n",
       "      <td>Will Ì_ b going to esplanade fr home?</td>\n",
       "      <td>['i_', 'b', 'going', 'esplanade', 'fr', 'home']</td>\n",
       "      <td>37</td>\n",
       "      <td>6</td>\n",
       "      <td>0.0000</td>\n",
       "      <td>_ b going esplanade fr home</td>\n",
       "    </tr>\n",
       "    <tr>\n",
       "      <th>5569</th>\n",
       "      <td>5569</td>\n",
       "      <td>ham</td>\n",
       "      <td>Pity, * was in mood for that. So...any other s...</td>\n",
       "      <td>['pity', 'mood', 'soany', 'suggestion']</td>\n",
       "      <td>57</td>\n",
       "      <td>4</td>\n",
       "      <td>-0.2960</td>\n",
       "      <td>pity mood soany suggestion</td>\n",
       "    </tr>\n",
       "    <tr>\n",
       "      <th>5570</th>\n",
       "      <td>5570</td>\n",
       "      <td>ham</td>\n",
       "      <td>The guy did some bitching but I acted like i'd...</td>\n",
       "      <td>['guy', 'bitching', 'acted', 'like', 'id', 'in...</td>\n",
       "      <td>125</td>\n",
       "      <td>14</td>\n",
       "      <td>0.8934</td>\n",
       "      <td>guy bitching acted like id interested buying s...</td>\n",
       "    </tr>\n",
       "    <tr>\n",
       "      <th>5571</th>\n",
       "      <td>5571</td>\n",
       "      <td>ham</td>\n",
       "      <td>Rofl. Its true to its name</td>\n",
       "      <td>['rofl', 'true', 'name']</td>\n",
       "      <td>26</td>\n",
       "      <td>3</td>\n",
       "      <td>0.7579</td>\n",
       "      <td>rofl true name</td>\n",
       "    </tr>\n",
       "  </tbody>\n",
       "</table>\n",
       "<p>5572 rows × 8 columns</p>\n",
       "</div>"
      ],
      "text/plain": [
       "        id label                                               text  \\\n",
       "0        0   ham  Go until jurong point, crazy.. Available only ...   \n",
       "1        1   ham                      Ok lar... Joking wif u oni...   \n",
       "2        2  spam  Free entry in 2 a wkly comp to win FA Cup fina...   \n",
       "3        3   ham  U dun say so early hor... U c already then say...   \n",
       "4        4   ham  Nah I don't think he goes to usf, he lives aro...   \n",
       "...    ...   ...                                                ...   \n",
       "5567  5567  spam  This is the 2nd time we have tried 2 contact u...   \n",
       "5568  5568   ham              Will Ì_ b going to esplanade fr home?   \n",
       "5569  5569   ham  Pity, * was in mood for that. So...any other s...   \n",
       "5570  5570   ham  The guy did some bitching but I acted like i'd...   \n",
       "5571  5571   ham                         Rofl. Its true to its name   \n",
       "\n",
       "                                             text_clean  message_length  \\\n",
       "0     ['go', 'jurong', 'point', 'crazy', 'available'...             111   \n",
       "1                 ['ok', 'lar', 'joking', 'wif', 'oni']              29   \n",
       "2     ['free', 'entry', 'wkly', 'comp', 'win', 'fa',...             155   \n",
       "3     ['dun', 'say', 'early', 'hor', 'c', 'already',...              49   \n",
       "4     ['nah', 'dont', 'think', 'go', 'usf', 'life', ...              61   \n",
       "...                                                 ...             ...   \n",
       "5567  ['2nd', 'time', 'tried', 'contact', 'a750', 'p...             161   \n",
       "5568    ['i_', 'b', 'going', 'esplanade', 'fr', 'home']              37   \n",
       "5569            ['pity', 'mood', 'soany', 'suggestion']              57   \n",
       "5570  ['guy', 'bitching', 'acted', 'like', 'id', 'in...             125   \n",
       "5571                           ['rofl', 'true', 'name']              26   \n",
       "\n",
       "      word_count  sentiment                                       text_cleaned  \n",
       "0             16     0.6249  go jurong point crazy available bugis n great ...  \n",
       "1              5     0.4767                            ok lar joking wif u oni  \n",
       "2             22     0.7964  free entry 2 wkly comp win fa cup final tkts 2...  \n",
       "3              7     0.0000                u dun say early hor u c already say  \n",
       "4              8    -0.1027           nah dont think go usf life around though  \n",
       "...          ...        ...                                                ...  \n",
       "5567          16     0.8805  2nd time tried 2 contact u u 750 pound prize 2...  \n",
       "5568           6     0.0000                        _ b going esplanade fr home  \n",
       "5569           4    -0.2960                         pity mood soany suggestion  \n",
       "5570          14     0.8934  guy bitching acted like id interested buying s...  \n",
       "5571           3     0.7579                                     rofl true name  \n",
       "\n",
       "[5572 rows x 8 columns]"
      ]
     },
     "execution_count": 36,
     "metadata": {},
     "output_type": "execute_result"
    }
   ],
   "source": [
    "df"
   ]
  },
  {
   "cell_type": "code",
   "execution_count": 37,
   "id": "c7243917-b1a4-49c2-a87b-889e2e704a08",
   "metadata": {},
   "outputs": [],
   "source": [
    "X = df.text_cleaned\n",
    "y = df.label\n",
    "X_train, X_test, y_train, y_test = \\\n",
    "train_test_split(X, y, test_size=0.2, random_state=1349)"
   ]
  },
  {
   "cell_type": "code",
   "execution_count": 38,
   "id": "32deec1e-9786-4349-b0d5-f87f6e066133",
   "metadata": {},
   "outputs": [
    {
     "data": {
      "text/plain": [
       "2302                                     make baby yo tho\n",
       "4304                                  yo come carlos soon\n",
       "4925                 oh yes like torture watching england\n",
       "1753                  jus came back fr lunch wif si u leh\n",
       "3211                                 got divorce lol shes\n",
       "                              ...                        \n",
       "1435                                       dad went oredi\n",
       "227                         hey company elama po mudyadhu\n",
       "2724                                             nope c _\n",
       "4990    made eta taunton 1230 planned hope thats still...\n",
       "2834    ya well fine bbdpooja full pimpleseven become ...\n",
       "Name: text_cleaned, Length: 4457, dtype: object"
      ]
     },
     "execution_count": 38,
     "metadata": {},
     "output_type": "execute_result"
    }
   ],
   "source": [
    "X_train"
   ]
  },
  {
   "cell_type": "markdown",
   "id": "f5725ba1-404a-4e83-a419-6ca83f929092",
   "metadata": {},
   "source": [
    "Iterate:\n",
    "\n",
    "- try out the bag of ngrams\n",
    "- try out different ways of text prep (stem vs lemmatize)\n",
    "- etc..."
   ]
  },
  {
   "cell_type": "code",
   "execution_count": 39,
   "id": "d68c63cf",
   "metadata": {},
   "outputs": [
    {
     "data": {
      "text/plain": [
       "0.9351581781467355"
      ]
     },
     "execution_count": 39,
     "metadata": {},
     "output_type": "execute_result"
    }
   ],
   "source": [
    "# Whatever transformations we apply to X_train need to be applied to X_test\n",
    "cv = CountVectorizer()\n",
    "X_bow = cv.fit_transform(X_train)\n",
    "\n",
    "tree= DecisionTreeClassifier(max_depth=5)\n",
    "tree.fit(X_bow, y_train)\n",
    "tree.score(X_bow, y_train)"
   ]
  },
  {
   "cell_type": "code",
   "execution_count": 40,
   "id": "7e8bcd2f",
   "metadata": {},
   "outputs": [],
   "source": [
    "X_test_bow = cv.transform(X_test)"
   ]
  },
  {
   "cell_type": "code",
   "execution_count": 41,
   "id": "12fcbd58-3eb4-4e1b-80b4-8eefcec99789",
   "metadata": {},
   "outputs": [
    {
     "data": {
      "text/plain": [
       "0.9219730941704036"
      ]
     },
     "execution_count": 41,
     "metadata": {},
     "output_type": "execute_result"
    }
   ],
   "source": [
    "tree.score(X_test_bow, y_test)"
   ]
  },
  {
   "cell_type": "code",
   "execution_count": null,
   "id": "ba55ac8c-2aaf-489f-9e74-d00fefda4f8b",
   "metadata": {},
   "outputs": [],
   "source": []
  },
  {
   "cell_type": "markdown",
   "id": "780da33c",
   "metadata": {},
   "source": [
    "### Modeling Results\n",
    "\n",
    "A super-useful feature of decision trees and linear models is that they do some\n",
    "built-in feature selection through the coefficeints or feature importances:"
   ]
  },
  {
   "cell_type": "code",
   "execution_count": 42,
   "id": "7da113a2",
   "metadata": {},
   "outputs": [
    {
     "data": {
      "text/plain": [
       "array([0., 0., 0., ..., 0., 0., 0.])"
      ]
     },
     "execution_count": 42,
     "metadata": {},
     "output_type": "execute_result"
    }
   ],
   "source": [
    "tree.feature_importances_"
   ]
  },
  {
   "cell_type": "code",
   "execution_count": 45,
   "id": "1929d5ef-2e9e-4a3b-880d-2a846a36504c",
   "metadata": {},
   "outputs": [
    {
     "data": {
      "text/plain": [
       "eg23f       0.000000\n",
       "effect      0.000000\n",
       "let         0.003451\n",
       "finish      0.006010\n",
       "bak         0.006246\n",
       "probably    0.006495\n",
       "stop        0.025823\n",
       "mobile      0.035174\n",
       "im          0.036523\n",
       "reply       0.055870\n",
       "claim       0.056853\n",
       "later       0.062218\n",
       "text        0.086997\n",
       "txt         0.266384\n",
       "call        0.351957\n",
       "dtype: float64"
      ]
     },
     "execution_count": 45,
     "metadata": {},
     "output_type": "execute_result"
    }
   ],
   "source": [
    "pd.Series(dict(zip(cv.get_feature_names_out(), tree.feature_importances_))).sort_values().tail(15)"
   ]
  },
  {
   "cell_type": "code",
   "execution_count": null,
   "id": "08ec51e6-bfe5-48c6-a775-fec1fc74e16d",
   "metadata": {},
   "outputs": [],
   "source": []
  },
  {
   "cell_type": "markdown",
   "id": "a3e11613",
   "metadata": {},
   "source": [
    "## Next Steps\n",
    "\n",
    "- Try other model types\n",
    "\n",
    "    [Naive Bayes](https://en.wikipedia.org/wiki/Naive_Bayes_classifier)\n",
    "    ([`sklearn`\n",
    "    docs](https://scikit-learn.org/stable/modules/generated/sklearn.naive_bayes.MultinomialNB.html))\n",
    "    is a very popular classifier for NLP tasks.\n",
    "\n",
    "- Look at other metrics, is accuracy the best choice here?\n",
    "\n",
    "- Try ngrams instead of single words\n",
    "\n",
    "- Try a combination of ngrams and words (`ngram_range=(1, 2)` for words and\n",
    "  bigrams)\n",
    "\n",
    "- Try using tf-idf instead of bag of words\n",
    "\n",
    "- Combine the top `n` performing words with the other features that you have\n",
    "  engineered (the `CountVectorizer` and `TfidfVectorizer` have a `vocabulary`\n",
    "  argument you can use to restrict the words used)"
   ]
  }
 ],
 "metadata": {
  "jupytext": {
   "cell_metadata_filter": "-all",
   "main_language": "python",
   "notebook_metadata_filter": "-all"
  },
  "kernelspec": {
   "display_name": "Python 3 (ipykernel)",
   "language": "python",
   "name": "python3"
  },
  "language_info": {
   "codemirror_mode": {
    "name": "ipython",
    "version": 3
   },
   "file_extension": ".py",
   "mimetype": "text/x-python",
   "name": "python",
   "nbconvert_exporter": "python",
   "pygments_lexer": "ipython3",
   "version": "3.9.12"
  }
 },
 "nbformat": 4,
 "nbformat_minor": 5
}
