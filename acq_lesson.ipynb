{
 "cells": [
  {
   "cell_type": "markdown",
   "id": "092afe0d",
   "metadata": {},
   "source": [
    "# Intro to Web Scraping\n",
    "- Use `requests` to download the HTML\n",
    "- Use `BeautifulSoup` to parse that HTML to get the thing(s) you need"
   ]
  },
  {
   "cell_type": "markdown",
   "id": "d94ab8d2",
   "metadata": {},
   "source": [
    "## Process\n",
    "- Step 1: use the `request` library to make an HTTP request across the web\n",
    "- Step 2: use the `reponse.text` property on the `response` object to get the text of the HTML"
   ]
  },
  {
   "cell_type": "code",
   "execution_count": 2,
   "id": "32ffeca4",
   "metadata": {},
   "outputs": [],
   "source": [
    "import numpy as np\n",
    "import pandas as pd\n",
    "from requests import get\n"
   ]
  },
  {
   "cell_type": "code",
   "execution_count": 3,
   "id": "38b133db",
   "metadata": {},
   "outputs": [],
   "source": [
    "url = 'https://site-to-scrape.glitch.me'"
   ]
  },
  {
   "cell_type": "code",
   "execution_count": 5,
   "id": "d7ff9a9d-4de4-4870-b913-190fa939aafb",
   "metadata": {},
   "outputs": [
    {
     "ename": "JSONDecodeError",
     "evalue": "[Errno Expecting value] <!DOCTYPE html>\n<html lang=\"en\">\n  <head>\n    <title>Site to Scrape!</title>\n    <meta charset=\"utf-8\">\n    <meta http-equiv=\"X-UA-Compatible\" content=\"IE=edge\">\n    <meta name=\"viewport\" content=\"width=device-width, initial-scale=1\">\n    \n    <!-- import the webpage's stylesheet -->\n    <link rel=\"stylesheet\" href=\"/style.css\">\n    \n    <!-- import the webpage's javascript file -->\n    <script src=\"/script.js\" defer></script>\n  </head>  \n  <body>\n    <header>\n      <h1>This is the header!</h1>\n      <hr>\n    </header>\n    \n    <main>\n      <div>\n        <h1 class=\"first\">\n        This is the main\n        </h1>\n        <h2>\n          This is an h2 of main\n        </h2>\n        <h3>\n          H3 inside of first div inside of main\n        </h3>\n      </div>\n      <div>\n        <h3 class=\"first\">\n          H3 inside of second div inside of main.\n        </h3>\n        <p>\n          Here's some text content for us to scrape! 👽\n        </p>\n        <p>\n          Here's another paragraph of content! ☠️\n        </p>\n        <a href=\"https://github.com/ryanorsinger\">Click here to visit my portfolio</a>       \n      </div>\n    </main>\n\n    <footer>\n      <h1>This is the footer</h1>\n      <img src=\"https://traffic-analytics.glitch.me/counter.png?fallback=MY_WEBSITE&color=black\" alt=\"\" style=\"vertical-align: bottom;\" aria-hidden=\"true\">\n    </footer>\n\n  </body>\n</html>\n: 0",
     "output_type": "error",
     "traceback": [
      "\u001b[0;31m---------------------------------------------------------------------------\u001b[0m",
      "\u001b[0;31mJSONDecodeError\u001b[0m                           Traceback (most recent call last)",
      "File \u001b[0;32m/opt/homebrew/anaconda3/lib/python3.9/site-packages/requests/models.py:910\u001b[0m, in \u001b[0;36mResponse.json\u001b[0;34m(self, **kwargs)\u001b[0m\n\u001b[1;32m    909\u001b[0m \u001b[38;5;28;01mtry\u001b[39;00m:\n\u001b[0;32m--> 910\u001b[0m     \u001b[38;5;28;01mreturn\u001b[39;00m \u001b[43mcomplexjson\u001b[49m\u001b[38;5;241;43m.\u001b[39;49m\u001b[43mloads\u001b[49m\u001b[43m(\u001b[49m\u001b[38;5;28;43mself\u001b[39;49m\u001b[38;5;241;43m.\u001b[39;49m\u001b[43mtext\u001b[49m\u001b[43m,\u001b[49m\u001b[43m \u001b[49m\u001b[38;5;241;43m*\u001b[39;49m\u001b[38;5;241;43m*\u001b[39;49m\u001b[43mkwargs\u001b[49m\u001b[43m)\u001b[49m\n\u001b[1;32m    911\u001b[0m \u001b[38;5;28;01mexcept\u001b[39;00m JSONDecodeError \u001b[38;5;28;01mas\u001b[39;00m e:\n\u001b[1;32m    912\u001b[0m     \u001b[38;5;66;03m# Catch JSON-related errors and raise as requests.JSONDecodeError\u001b[39;00m\n\u001b[1;32m    913\u001b[0m     \u001b[38;5;66;03m# This aliases json.JSONDecodeError and simplejson.JSONDecodeError\u001b[39;00m\n",
      "File \u001b[0;32m/opt/homebrew/anaconda3/lib/python3.9/json/__init__.py:346\u001b[0m, in \u001b[0;36mloads\u001b[0;34m(s, cls, object_hook, parse_float, parse_int, parse_constant, object_pairs_hook, **kw)\u001b[0m\n\u001b[1;32m    343\u001b[0m \u001b[38;5;28;01mif\u001b[39;00m (\u001b[38;5;28mcls\u001b[39m \u001b[38;5;129;01mis\u001b[39;00m \u001b[38;5;28;01mNone\u001b[39;00m \u001b[38;5;129;01mand\u001b[39;00m object_hook \u001b[38;5;129;01mis\u001b[39;00m \u001b[38;5;28;01mNone\u001b[39;00m \u001b[38;5;129;01mand\u001b[39;00m\n\u001b[1;32m    344\u001b[0m         parse_int \u001b[38;5;129;01mis\u001b[39;00m \u001b[38;5;28;01mNone\u001b[39;00m \u001b[38;5;129;01mand\u001b[39;00m parse_float \u001b[38;5;129;01mis\u001b[39;00m \u001b[38;5;28;01mNone\u001b[39;00m \u001b[38;5;129;01mand\u001b[39;00m\n\u001b[1;32m    345\u001b[0m         parse_constant \u001b[38;5;129;01mis\u001b[39;00m \u001b[38;5;28;01mNone\u001b[39;00m \u001b[38;5;129;01mand\u001b[39;00m object_pairs_hook \u001b[38;5;129;01mis\u001b[39;00m \u001b[38;5;28;01mNone\u001b[39;00m \u001b[38;5;129;01mand\u001b[39;00m \u001b[38;5;129;01mnot\u001b[39;00m kw):\n\u001b[0;32m--> 346\u001b[0m     \u001b[38;5;28;01mreturn\u001b[39;00m \u001b[43m_default_decoder\u001b[49m\u001b[38;5;241;43m.\u001b[39;49m\u001b[43mdecode\u001b[49m\u001b[43m(\u001b[49m\u001b[43ms\u001b[49m\u001b[43m)\u001b[49m\n\u001b[1;32m    347\u001b[0m \u001b[38;5;28;01mif\u001b[39;00m \u001b[38;5;28mcls\u001b[39m \u001b[38;5;129;01mis\u001b[39;00m \u001b[38;5;28;01mNone\u001b[39;00m:\n",
      "File \u001b[0;32m/opt/homebrew/anaconda3/lib/python3.9/json/decoder.py:337\u001b[0m, in \u001b[0;36mJSONDecoder.decode\u001b[0;34m(self, s, _w)\u001b[0m\n\u001b[1;32m    333\u001b[0m \u001b[38;5;124;03m\"\"\"Return the Python representation of ``s`` (a ``str`` instance\u001b[39;00m\n\u001b[1;32m    334\u001b[0m \u001b[38;5;124;03mcontaining a JSON document).\u001b[39;00m\n\u001b[1;32m    335\u001b[0m \n\u001b[1;32m    336\u001b[0m \u001b[38;5;124;03m\"\"\"\u001b[39;00m\n\u001b[0;32m--> 337\u001b[0m obj, end \u001b[38;5;241m=\u001b[39m \u001b[38;5;28;43mself\u001b[39;49m\u001b[38;5;241;43m.\u001b[39;49m\u001b[43mraw_decode\u001b[49m\u001b[43m(\u001b[49m\u001b[43ms\u001b[49m\u001b[43m,\u001b[49m\u001b[43m \u001b[49m\u001b[43midx\u001b[49m\u001b[38;5;241;43m=\u001b[39;49m\u001b[43m_w\u001b[49m\u001b[43m(\u001b[49m\u001b[43ms\u001b[49m\u001b[43m,\u001b[49m\u001b[43m \u001b[49m\u001b[38;5;241;43m0\u001b[39;49m\u001b[43m)\u001b[49m\u001b[38;5;241;43m.\u001b[39;49m\u001b[43mend\u001b[49m\u001b[43m(\u001b[49m\u001b[43m)\u001b[49m\u001b[43m)\u001b[49m\n\u001b[1;32m    338\u001b[0m end \u001b[38;5;241m=\u001b[39m _w(s, end)\u001b[38;5;241m.\u001b[39mend()\n",
      "File \u001b[0;32m/opt/homebrew/anaconda3/lib/python3.9/json/decoder.py:355\u001b[0m, in \u001b[0;36mJSONDecoder.raw_decode\u001b[0;34m(self, s, idx)\u001b[0m\n\u001b[1;32m    354\u001b[0m \u001b[38;5;28;01mexcept\u001b[39;00m \u001b[38;5;167;01mStopIteration\u001b[39;00m \u001b[38;5;28;01mas\u001b[39;00m err:\n\u001b[0;32m--> 355\u001b[0m     \u001b[38;5;28;01mraise\u001b[39;00m JSONDecodeError(\u001b[38;5;124m\"\u001b[39m\u001b[38;5;124mExpecting value\u001b[39m\u001b[38;5;124m\"\u001b[39m, s, err\u001b[38;5;241m.\u001b[39mvalue) \u001b[38;5;28;01mfrom\u001b[39;00m \u001b[38;5;28mNone\u001b[39m\n\u001b[1;32m    356\u001b[0m \u001b[38;5;28;01mreturn\u001b[39;00m obj, end\n",
      "\u001b[0;31mJSONDecodeError\u001b[0m: Expecting value: line 1 column 1 (char 0)",
      "\nDuring handling of the above exception, another exception occurred:\n",
      "\u001b[0;31mJSONDecodeError\u001b[0m                           Traceback (most recent call last)",
      "Input \u001b[0;32mIn [5]\u001b[0m, in \u001b[0;36m<cell line: 1>\u001b[0;34m()\u001b[0m\n\u001b[0;32m----> 1\u001b[0m \u001b[43mget\u001b[49m\u001b[43m(\u001b[49m\u001b[43murl\u001b[49m\u001b[43m)\u001b[49m\u001b[38;5;241;43m.\u001b[39;49m\u001b[43mjson\u001b[49m\u001b[43m(\u001b[49m\u001b[43m)\u001b[49m\n",
      "File \u001b[0;32m/opt/homebrew/anaconda3/lib/python3.9/site-packages/requests/models.py:917\u001b[0m, in \u001b[0;36mResponse.json\u001b[0;34m(self, **kwargs)\u001b[0m\n\u001b[1;32m    915\u001b[0m     \u001b[38;5;28;01mraise\u001b[39;00m RequestsJSONDecodeError(e\u001b[38;5;241m.\u001b[39mmessage)\n\u001b[1;32m    916\u001b[0m \u001b[38;5;28;01melse\u001b[39;00m:\n\u001b[0;32m--> 917\u001b[0m     \u001b[38;5;28;01mraise\u001b[39;00m RequestsJSONDecodeError(e\u001b[38;5;241m.\u001b[39mmsg, e\u001b[38;5;241m.\u001b[39mdoc, e\u001b[38;5;241m.\u001b[39mpos)\n",
      "\u001b[0;31mJSONDecodeError\u001b[0m: [Errno Expecting value] <!DOCTYPE html>\n<html lang=\"en\">\n  <head>\n    <title>Site to Scrape!</title>\n    <meta charset=\"utf-8\">\n    <meta http-equiv=\"X-UA-Compatible\" content=\"IE=edge\">\n    <meta name=\"viewport\" content=\"width=device-width, initial-scale=1\">\n    \n    <!-- import the webpage's stylesheet -->\n    <link rel=\"stylesheet\" href=\"/style.css\">\n    \n    <!-- import the webpage's javascript file -->\n    <script src=\"/script.js\" defer></script>\n  </head>  \n  <body>\n    <header>\n      <h1>This is the header!</h1>\n      <hr>\n    </header>\n    \n    <main>\n      <div>\n        <h1 class=\"first\">\n        This is the main\n        </h1>\n        <h2>\n          This is an h2 of main\n        </h2>\n        <h3>\n          H3 inside of first div inside of main\n        </h3>\n      </div>\n      <div>\n        <h3 class=\"first\">\n          H3 inside of second div inside of main.\n        </h3>\n        <p>\n          Here's some text content for us to scrape! 👽\n        </p>\n        <p>\n          Here's another paragraph of content! ☠️\n        </p>\n        <a href=\"https://github.com/ryanorsinger\">Click here to visit my portfolio</a>       \n      </div>\n    </main>\n\n    <footer>\n      <h1>This is the footer</h1>\n      <img src=\"https://traffic-analytics.glitch.me/counter.png?fallback=MY_WEBSITE&color=black\" alt=\"\" style=\"vertical-align: bottom;\" aria-hidden=\"true\">\n    </footer>\n\n  </body>\n</html>\n: 0"
     ]
    }
   ],
   "source": [
    "get(url).json()"
   ]
  },
  {
   "cell_type": "code",
   "execution_count": 10,
   "id": "4a856825-d543-4002-a37b-cd1b87f90fc8",
   "metadata": {},
   "outputs": [
    {
     "data": {
      "text/plain": [
       "'<!DOCTYPE html>\\n<html lang=\"en\">\\n  <head>\\n    <title>Site to Scrape!</title>\\n    <meta charset=\"utf-8\">\\n    <meta http-equiv=\"X-UA-Compatible\" content=\"IE=edge\">\\n    <meta name=\"viewport\" content=\"width=device-width, initial-scale=1\">\\n    \\n    <!-- import the webpage\\'s stylesheet -->\\n    <link rel=\"stylesheet\" href=\"/style.css\">\\n    \\n    <!-- import the webpage\\'s javascript file -->\\n    <script src=\"/script.js\" defer></script>\\n  </head>  \\n  <body>\\n    <header>\\n      <h1>This is the header!</h1>\\n      <hr>\\n    </header>\\n    \\n    <main>\\n      <div>\\n        <h1 class=\"first\">\\n        This is the main\\n        </h1>\\n        <h2>\\n          This is an h2 of main\\n        </h2>\\n        <h3>\\n          H3 inside of first div inside of main\\n        </h3>\\n      </div>\\n      <div>\\n        <h3 class=\"first\">\\n          H3 inside of second div inside of main.\\n        </h3>\\n        <p>\\n          Here\\'s some text content for us to scrape! 👽\\n        </p>\\n        <p>\\n          Here\\'s another paragraph of content! ☠️\\n        </p>\\n        <a href=\"https://github.com/ryanorsinger\">Click here to visit my portfolio</a>       \\n      </div>\\n    </main>\\n\\n    <footer>\\n      <h1>This is the footer</h1>\\n      <img src=\"https://traffic-analytics.glitch.me/counter.png?fallback=MY_WEBSITE&color=black\" alt=\"\" style=\"vertical-align: bottom;\" aria-hidden=\"true\">\\n    </footer>\\n\\n  </body>\\n</html>\\n'"
      ]
     },
     "execution_count": 10,
     "metadata": {},
     "output_type": "execute_result"
    }
   ],
   "source": [
    "get(url).text"
   ]
  },
  {
   "cell_type": "code",
   "execution_count": 11,
   "id": "2167156e-5498-4806-abd1-f461c6742e1d",
   "metadata": {},
   "outputs": [],
   "source": [
    "from bs4 import BeautifulSoup"
   ]
  },
  {
   "cell_type": "code",
   "execution_count": 13,
   "id": "89c2f253-2856-4b48-bbd1-1ea4ab83848a",
   "metadata": {},
   "outputs": [],
   "source": [
    "from IPython.display import display, Markdown"
   ]
  },
  {
   "cell_type": "code",
   "execution_count": 21,
   "id": "4d44a8e0-b45d-46eb-a1d1-81fc39453c1f",
   "metadata": {},
   "outputs": [],
   "source": [
    "soup = BeautifulSoup(get(url).content, 'html.parser')"
   ]
  },
  {
   "cell_type": "code",
   "execution_count": 22,
   "id": "0d1dac04-6303-4f1e-aa20-230d08cccaef",
   "metadata": {},
   "outputs": [
    {
     "data": {
      "text/plain": [
       "<!DOCTYPE html>\n",
       "\n",
       "<html lang=\"en\">\n",
       "<head>\n",
       "<title>Site to Scrape!</title>\n",
       "<meta charset=\"utf-8\"/>\n",
       "<meta content=\"IE=edge\" http-equiv=\"X-UA-Compatible\"/>\n",
       "<meta content=\"width=device-width, initial-scale=1\" name=\"viewport\"/>\n",
       "<!-- import the webpage's stylesheet -->\n",
       "<link href=\"/style.css\" rel=\"stylesheet\"/>\n",
       "<!-- import the webpage's javascript file -->\n",
       "<script defer=\"\" src=\"/script.js\"></script>\n",
       "</head>\n",
       "<body>\n",
       "<header>\n",
       "<h1>This is the header!</h1>\n",
       "<hr/>\n",
       "</header>\n",
       "<main>\n",
       "<div>\n",
       "<h1 class=\"first\">\n",
       "        This is the main\n",
       "        </h1>\n",
       "<h2>\n",
       "          This is an h2 of main\n",
       "        </h2>\n",
       "<h3>\n",
       "          H3 inside of first div inside of main\n",
       "        </h3>\n",
       "</div>\n",
       "<div>\n",
       "<h3 class=\"first\">\n",
       "          H3 inside of second div inside of main.\n",
       "        </h3>\n",
       "<p>\n",
       "          Here's some text content for us to scrape! 👽\n",
       "        </p>\n",
       "<p>\n",
       "          Here's another paragraph of content! ☠️\n",
       "        </p>\n",
       "<a href=\"https://github.com/ryanorsinger\">Click here to visit my portfolio</a>\n",
       "</div>\n",
       "</main>\n",
       "<footer>\n",
       "<h1>This is the footer</h1>\n",
       "<img alt=\"\" aria-hidden=\"true\" src=\"https://traffic-analytics.glitch.me/counter.png?fallback=MY_WEBSITE&amp;color=black\" style=\"vertical-align: bottom;\"/>\n",
       "</footer>\n",
       "</body>\n",
       "</html>"
      ]
     },
     "execution_count": 22,
     "metadata": {},
     "output_type": "execute_result"
    }
   ],
   "source": [
    "soup"
   ]
  },
  {
   "cell_type": "code",
   "execution_count": 19,
   "id": "d54165e3",
   "metadata": {},
   "outputs": [],
   "source": [
    "url2 = 'https://web-scraping-demo.zgulde.net/news'"
   ]
  },
  {
   "cell_type": "code",
   "execution_count": 23,
   "id": "95e54cb4",
   "metadata": {},
   "outputs": [
    {
     "data": {
      "text/plain": [
       "bs4.BeautifulSoup"
      ]
     },
     "execution_count": 23,
     "metadata": {},
     "output_type": "execute_result"
    }
   ],
   "source": [
    "type(soup)"
   ]
  },
  {
   "cell_type": "markdown",
   "id": "b1297021-a1c6-4b41-8a92-82036491bed0",
   "metadata": {},
   "source": [
    "<html lang=\"en\">\n",
    "<head>\n",
    "<title>Site to Scrape!</title>\n",
    "<meta charset=\"utf-8\"/>\n",
    "<meta content=\"IE=edge\" http-equiv=\"X-UA-Compatible\"/>\n",
    "<meta content=\"width=device-width, initial-scale=1\" name=\"viewport\"/>\n",
    "<!-- import the webpage's stylesheet -->\n",
    "<link href=\"/style.css\" rel=\"stylesheet\"/>\n",
    "<!-- import the webpage's javascript file -->\n",
    "<script defer=\"\" src=\"/script.js\"></script>\n",
    "</head>\n",
    "<body>\n",
    "<header>\n",
    "<h1>This is the header!</h1>\n",
    "<hr/>\n",
    "</header>\n",
    "<main>\n",
    "<div>\n",
    "<h1 class=\"first\">\n",
    "        This is the main\n",
    "        </h1>\n",
    "<h2>\n",
    "          This is an h2 of main\n",
    "        </h2>\n",
    "<h3>\n",
    "          H3 inside of first div inside of main\n",
    "        </h3>\n",
    "</div>\n",
    "<div>\n",
    "<h3 class=\"first\">\n",
    "          H3 inside of second div inside of main.\n",
    "        </h3>\n",
    "<p>\n",
    "          Here's some text content for us to scrape! 👽\n",
    "        </p>\n",
    "<p>\n",
    "          Here's another paragraph of content! ☠️\n",
    "        </p>\n",
    "<a href=\"https://github.com/ryanorsinger\">Click here to visit my portfolio</a>\n",
    "</div>\n",
    "</main>\n",
    "<footer>\n",
    "<h1>This is the footer</h1>\n",
    "<img alt=\"\" aria-hidden=\"true\" src=\"https://traffic-analytics.glitch.me/counter.png?fallback=MY_WEBSITE&amp;color=black\" style=\"vertical-align: bottom;\"/>\n",
    "</footer>\n",
    "</body>\n",
    "</html>"
   ]
  },
  {
   "cell_type": "code",
   "execution_count": 30,
   "id": "a773ac63",
   "metadata": {},
   "outputs": [
    {
     "data": {
      "text/plain": [
       "<head>\n",
       "<title>Site to Scrape!</title>\n",
       "<meta charset=\"utf-8\"/>\n",
       "<meta content=\"IE=edge\" http-equiv=\"X-UA-Compatible\"/>\n",
       "<meta content=\"width=device-width, initial-scale=1\" name=\"viewport\"/>\n",
       "<!-- import the webpage's stylesheet -->\n",
       "<link href=\"/style.css\" rel=\"stylesheet\"/>\n",
       "<!-- import the webpage's javascript file -->\n",
       "<script defer=\"\" src=\"/script.js\"></script>\n",
       "</head>"
      ]
     },
     "execution_count": 30,
     "metadata": {},
     "output_type": "execute_result"
    }
   ],
   "source": [
    "soup.head"
   ]
  },
  {
   "cell_type": "code",
   "execution_count": 31,
   "id": "a77b65d3-e035-4d1a-a5a4-8fdd12eb345a",
   "metadata": {},
   "outputs": [
    {
     "data": {
      "text/plain": [
       "<title>Site to Scrape!</title>"
      ]
     },
     "execution_count": 31,
     "metadata": {},
     "output_type": "execute_result"
    }
   ],
   "source": [
    "soup.head.title"
   ]
  },
  {
   "cell_type": "code",
   "execution_count": 32,
   "id": "8595f35e-86b6-484d-8c1c-38dc1bfd547a",
   "metadata": {},
   "outputs": [
    {
     "data": {
      "text/plain": [
       "<title>Site to Scrape!</title>"
      ]
     },
     "execution_count": 32,
     "metadata": {},
     "output_type": "execute_result"
    }
   ],
   "source": [
    "soup.title"
   ]
  },
  {
   "cell_type": "code",
   "execution_count": 33,
   "id": "d6023caf-3781-4457-9eb5-2f6300df4850",
   "metadata": {},
   "outputs": [
    {
     "data": {
      "text/plain": [
       "<link href=\"/style.css\" rel=\"stylesheet\"/>"
      ]
     },
     "execution_count": 33,
     "metadata": {},
     "output_type": "execute_result"
    }
   ],
   "source": [
    "soup.link"
   ]
  },
  {
   "cell_type": "code",
   "execution_count": 34,
   "id": "cf8811c3-78c5-4684-8633-9653ee8907e0",
   "metadata": {},
   "outputs": [
    {
     "data": {
      "text/plain": [
       "<p>\n",
       "          Here's some text content for us to scrape! 👽\n",
       "        </p>"
      ]
     },
     "execution_count": 34,
     "metadata": {},
     "output_type": "execute_result"
    }
   ],
   "source": [
    "soup.p"
   ]
  },
  {
   "cell_type": "code",
   "execution_count": 39,
   "id": "253a3d90-8372-4b2b-8feb-5fd83c473a5c",
   "metadata": {},
   "outputs": [
    {
     "data": {
      "text/plain": [
       "<p>\n",
       "          Here's some text content for us to scrape! 👽\n",
       "        </p>"
      ]
     },
     "execution_count": 39,
     "metadata": {},
     "output_type": "execute_result"
    }
   ],
   "source": [
    "# .find is find first\n",
    "soup.find('p')"
   ]
  },
  {
   "cell_type": "code",
   "execution_count": 41,
   "id": "818eafb0-6504-49fc-a549-421243d9f3e2",
   "metadata": {},
   "outputs": [
    {
     "data": {
      "text/plain": [
       "[<p>\n",
       "           Here's some text content for us to scrape! 👽\n",
       "         </p>,\n",
       " <p>\n",
       "           Here's another paragraph of content! ☠️\n",
       "         </p>]"
      ]
     },
     "execution_count": 41,
     "metadata": {},
     "output_type": "execute_result"
    }
   ],
   "source": [
    "soup.find_all('p')"
   ]
  },
  {
   "cell_type": "code",
   "execution_count": 42,
   "id": "9cdeb225-ca5b-4f6b-8259-a6e952887806",
   "metadata": {},
   "outputs": [
    {
     "data": {
      "text/plain": [
       "<p>\n",
       "          Here's another paragraph of content! ☠️\n",
       "        </p>"
      ]
     },
     "execution_count": 42,
     "metadata": {},
     "output_type": "execute_result"
    }
   ],
   "source": [
    "soup.find_all('p')[1]"
   ]
  },
  {
   "cell_type": "code",
   "execution_count": 43,
   "id": "4ea9b6d9-95b5-4011-be95-1e7e3ecb35fc",
   "metadata": {},
   "outputs": [
    {
     "data": {
      "text/plain": [
       "\"Here's another paragraph of content! ☠️\""
      ]
     },
     "execution_count": 43,
     "metadata": {},
     "output_type": "execute_result"
    }
   ],
   "source": [
    "soup.find_all('p')[1].text.strip()"
   ]
  },
  {
   "cell_type": "code",
   "execution_count": 44,
   "id": "f167e791-38b5-4766-b554-5b5db0f07bda",
   "metadata": {},
   "outputs": [
    {
     "data": {
      "text/plain": [
       "[<p>\n",
       "           Here's some text content for us to scrape! 👽\n",
       "         </p>,\n",
       " <p>\n",
       "           Here's another paragraph of content! ☠️\n",
       "         </p>]"
      ]
     },
     "execution_count": 44,
     "metadata": {},
     "output_type": "execute_result"
    }
   ],
   "source": [
    "soup.select('p', limit=2)"
   ]
  },
  {
   "cell_type": "code",
   "execution_count": 45,
   "id": "ad4a796a-efe0-4209-9601-19ceff4f2543",
   "metadata": {},
   "outputs": [
    {
     "data": {
      "text/plain": [
       "[<p>\n",
       "           Here's some text content for us to scrape! 👽\n",
       "         </p>]"
      ]
     },
     "execution_count": 45,
     "metadata": {},
     "output_type": "execute_result"
    }
   ],
   "source": [
    "soup.select('p', limit=1)"
   ]
  },
  {
   "cell_type": "code",
   "execution_count": 46,
   "id": "9d593976-03c4-4509-95ac-215896f719b5",
   "metadata": {},
   "outputs": [],
   "source": [
    "soup2 = BeautifulSoup(get(url2).content)"
   ]
  },
  {
   "cell_type": "code",
   "execution_count": 47,
   "id": "3a467c97-0a90-4d8f-bab6-f35773099d69",
   "metadata": {},
   "outputs": [
    {
     "data": {
      "text/plain": [
       "<head>\n",
       "<meta charset=\"utf-8\"/>\n",
       "<meta content=\"IE=edge\" http-equiv=\"X-UA-Compatible\"/>\n",
       "<meta content=\"width=device-width, initial-scale=1.0\" name=\"viewport\"/>\n",
       "<title>News Example Page</title>\n",
       "<link href=\"https://unpkg.com/tailwindcss@^2/dist/tailwind.min.css\" rel=\"stylesheet\"/>\n",
       "<link href=\"https://cdn.jsdelivr.net/npm/bootstrap-icons@1.4.1/font/bootstrap-icons.css\" rel=\"stylesheet\"/>\n",
       "</head>"
      ]
     },
     "execution_count": 47,
     "metadata": {},
     "output_type": "execute_result"
    }
   ],
   "source": [
    "soup2.head"
   ]
  },
  {
   "cell_type": "code",
   "execution_count": 48,
   "id": "4fb85e13-3400-46d1-a387-2db8bcd69c17",
   "metadata": {},
   "outputs": [
    {
     "data": {
      "text/plain": [
       "['News!']"
      ]
     },
     "execution_count": 48,
     "metadata": {},
     "output_type": "execute_result"
    }
   ],
   "source": [
    "[thing.text.strip() for thing in soup2.select('h1')]"
   ]
  },
  {
   "cell_type": "code",
   "execution_count": 49,
   "id": "4d9c2b5c-6014-42ea-a360-bb453a226a15",
   "metadata": {},
   "outputs": [
    {
     "data": {
      "text/plain": [
       "['News Example Page']"
      ]
     },
     "execution_count": 49,
     "metadata": {},
     "output_type": "execute_result"
    }
   ],
   "source": [
    "[thing.text.strip() for thing in soup2.select('head')]"
   ]
  },
  {
   "cell_type": "code",
   "execution_count": 50,
   "id": "580c926a-ac1a-46c2-9e95-f749b29bf514",
   "metadata": {},
   "outputs": [
    {
     "data": {
      "text/plain": [
       "['All data on this page is strictly for demonstration purposes and fake.',\n",
       " '2021-08-13',\n",
       " 'By Christopher Meyers',\n",
       " 'Organization kind possible two government four vote. Moment event minute board close. Environment room purpose approach green at air.\\nRock student stand.',\n",
       " '1989-08-09',\n",
       " 'By Michelle Schwartz',\n",
       " 'Expect color difficult one production.\\nRecent stay form inside. Part continue find contain information itself summer news. Her cause fish join through yeah.',\n",
       " '2020-08-31',\n",
       " 'By Colton Perez',\n",
       " 'Foreign wide new lay defense. Until young nor toward fire nation yeah. Produce easy point have anything provide conference.\\nMonth fear determine back itself. Ok fire or thing music. Performance Republican later.',\n",
       " '2005-08-12',\n",
       " 'By Carrie Santos',\n",
       " 'Heavy generation somebody ground. Blood tend right mission. Program western dinner on morning.\\nMeasure able say reach level official describe. Through save outside floor. Foreign military research agree.',\n",
       " '1982-03-20',\n",
       " 'By Robert Harrison',\n",
       " 'Before four prepare drop treat play not. Much increase time picture coach sure instead.\\nThese anything political test audience current grow. Me role spend management direction short trouble. President budget fear painting.',\n",
       " '1984-09-14',\n",
       " 'By Cody Giles',\n",
       " 'Hot send religious possible. Light feel build wish someone them.\\nShow keep moment rest medical wife. Some strong despite movement hair three design. How sure design.',\n",
       " '2015-07-15',\n",
       " 'By Breanna Howard',\n",
       " 'Manage talk movie benefit write. Church Congress add rich whatever music read.\\nSince check because personal rich determine environmental. Old budget for make. Believe current rest investment might ability.',\n",
       " '1999-06-22',\n",
       " 'By Kathy Ward',\n",
       " 'Water however several sister chance. After deal name image door market everyone defense. Important involve fire yet direction join exist bring.\\nOver development probably receive investment. Material individual everybody. Great tree themselves campaign.',\n",
       " '1982-11-14',\n",
       " 'By Robert Petty',\n",
       " 'Growth focus certain above evidence maybe. Why address easy from. Hit focus appear other data best get information.\\nThe sing clearly prepare trade set. Marriage close recognize per.',\n",
       " '2015-12-14',\n",
       " 'By Nichole Hull',\n",
       " 'Service score as new rather. Clearly moment factor she. Tax pattern name watch enter investment. Administration student cut court maybe go set.\\nCulture organization life whom. Or his develop still near control. Job hard finish product.',\n",
       " '2018-07-27',\n",
       " 'By Angela Nguyen',\n",
       " 'Mind sign good piece step. School green parent wind remember.\\nDecision treatment sell himself today half. Doctor strategy much I themselves no cultural.',\n",
       " '1981-02-25',\n",
       " 'By Rebekah Greer',\n",
       " 'Growth sure bed process baby. Draw miss argue. Him surface meet research long listen next all.\\nWeek power thousand expert take page. Myself professional you plan memory.']"
      ]
     },
     "execution_count": 50,
     "metadata": {},
     "output_type": "execute_result"
    }
   ],
   "source": [
    "[thing.text.strip() for thing in soup2.select('p')]"
   ]
  },
  {
   "cell_type": "code",
   "execution_count": 51,
   "id": "591ad3ac-13a8-4923-abdf-fc7f0c0ad791",
   "metadata": {},
   "outputs": [
    {
     "data": {
      "text/plain": [
       "['', '', '', '', '', '', '', '', '', '', '', '']"
      ]
     },
     "execution_count": 51,
     "metadata": {},
     "output_type": "execute_result"
    }
   ],
   "source": [
    "[thing.text.strip() for thing in soup2.select('img')]"
   ]
  },
  {
   "cell_type": "code",
   "execution_count": 52,
   "id": "874ce350-87c3-4d61-b639-544f64622129",
   "metadata": {},
   "outputs": [
    {
     "data": {
      "text/plain": [
       "['All data on this page is strictly for demonstration purposes and fake.',\n",
       " 'record trade think\\n\\n 2021-08-13 \\nBy Christopher Meyers \\n\\nOrganization kind possible two government four vote. Moment event minute board close. Environment room purpose approach green at air.\\nRock student stand.\\n\\n\\n\\n\\n\\nbehavior walk through\\n\\n 1989-08-09 \\nBy Michelle Schwartz \\n\\nExpect color difficult one production.\\nRecent stay form inside. Part continue find contain information itself summer news. Her cause fish join through yeah.\\n\\n\\n\\n\\n\\nsociety really name\\n\\n 2020-08-31 \\nBy Colton Perez \\n\\nForeign wide new lay defense. Until young nor toward fire nation yeah. Produce easy point have anything provide conference.\\nMonth fear determine back itself. Ok fire or thing music. Performance Republican later.\\n\\n\\n\\n\\n\\nmethod bank especially\\n\\n 2005-08-12 \\nBy Carrie Santos \\n\\nHeavy generation somebody ground. Blood tend right mission. Program western dinner on morning.\\nMeasure able say reach level official describe. Through save outside floor. Foreign military research agree.\\n\\n\\n\\n\\n\\nchair draw the\\n\\n 1982-03-20 \\nBy Robert Harrison \\n\\nBefore four prepare drop treat play not. Much increase time picture coach sure instead.\\nThese anything political test audience current grow. Me role spend management direction short trouble. President budget fear painting.\\n\\n\\n\\n\\n\\nsing couple establish\\n\\n 1984-09-14 \\nBy Cody Giles \\n\\nHot send religious possible. Light feel build wish someone them.\\nShow keep moment rest medical wife. Some strong despite movement hair three design. How sure design.\\n\\n\\n\\n\\n\\nsort mission agreement\\n\\n 2015-07-15 \\nBy Breanna Howard \\n\\nManage talk movie benefit write. Church Congress add rich whatever music read.\\nSince check because personal rich determine environmental. Old budget for make. Believe current rest investment might ability.\\n\\n\\n\\n\\n\\nfill weight smile\\n\\n 1999-06-22 \\nBy Kathy Ward \\n\\nWater however several sister chance. After deal name image door market everyone defense. Important involve fire yet direction join exist bring.\\nOver development probably receive investment. Material individual everybody. Great tree themselves campaign.\\n\\n\\n\\n\\n\\npage radio talk\\n\\n 1982-11-14 \\nBy Robert Petty \\n\\nGrowth focus certain above evidence maybe. Why address easy from. Hit focus appear other data best get information.\\nThe sing clearly prepare trade set. Marriage close recognize per.\\n\\n\\n\\n\\n\\ncoach someone everybody\\n\\n 2015-12-14 \\nBy Nichole Hull \\n\\nService score as new rather. Clearly moment factor she. Tax pattern name watch enter investment. Administration student cut court maybe go set.\\nCulture organization life whom. Or his develop still near control. Job hard finish product.\\n\\n\\n\\n\\n\\nthird according office\\n\\n 2018-07-27 \\nBy Angela Nguyen \\n\\nMind sign good piece step. School green parent wind remember.\\nDecision treatment sell himself today half. Doctor strategy much I themselves no cultural.\\n\\n\\n\\n\\n\\nroad bed city\\n\\n 1981-02-25 \\nBy Rebekah Greer \\n\\nGrowth sure bed process baby. Draw miss argue. Him surface meet research long listen next all.\\nWeek power thousand expert take page. Myself professional you plan memory.',\n",
       " 'record trade think\\n\\n 2021-08-13 \\nBy Christopher Meyers \\n\\nOrganization kind possible two government four vote. Moment event minute board close. Environment room purpose approach green at air.\\nRock student stand.',\n",
       " 'record trade think\\n\\n 2021-08-13 \\nBy Christopher Meyers \\n\\nOrganization kind possible two government four vote. Moment event minute board close. Environment room purpose approach green at air.\\nRock student stand.',\n",
       " '2021-08-13 \\nBy Christopher Meyers',\n",
       " 'behavior walk through\\n\\n 1989-08-09 \\nBy Michelle Schwartz \\n\\nExpect color difficult one production.\\nRecent stay form inside. Part continue find contain information itself summer news. Her cause fish join through yeah.',\n",
       " 'behavior walk through\\n\\n 1989-08-09 \\nBy Michelle Schwartz \\n\\nExpect color difficult one production.\\nRecent stay form inside. Part continue find contain information itself summer news. Her cause fish join through yeah.',\n",
       " '1989-08-09 \\nBy Michelle Schwartz',\n",
       " 'society really name\\n\\n 2020-08-31 \\nBy Colton Perez \\n\\nForeign wide new lay defense. Until young nor toward fire nation yeah. Produce easy point have anything provide conference.\\nMonth fear determine back itself. Ok fire or thing music. Performance Republican later.',\n",
       " 'society really name\\n\\n 2020-08-31 \\nBy Colton Perez \\n\\nForeign wide new lay defense. Until young nor toward fire nation yeah. Produce easy point have anything provide conference.\\nMonth fear determine back itself. Ok fire or thing music. Performance Republican later.',\n",
       " '2020-08-31 \\nBy Colton Perez',\n",
       " 'method bank especially\\n\\n 2005-08-12 \\nBy Carrie Santos \\n\\nHeavy generation somebody ground. Blood tend right mission. Program western dinner on morning.\\nMeasure able say reach level official describe. Through save outside floor. Foreign military research agree.',\n",
       " 'method bank especially\\n\\n 2005-08-12 \\nBy Carrie Santos \\n\\nHeavy generation somebody ground. Blood tend right mission. Program western dinner on morning.\\nMeasure able say reach level official describe. Through save outside floor. Foreign military research agree.',\n",
       " '2005-08-12 \\nBy Carrie Santos',\n",
       " 'chair draw the\\n\\n 1982-03-20 \\nBy Robert Harrison \\n\\nBefore four prepare drop treat play not. Much increase time picture coach sure instead.\\nThese anything political test audience current grow. Me role spend management direction short trouble. President budget fear painting.',\n",
       " 'chair draw the\\n\\n 1982-03-20 \\nBy Robert Harrison \\n\\nBefore four prepare drop treat play not. Much increase time picture coach sure instead.\\nThese anything political test audience current grow. Me role spend management direction short trouble. President budget fear painting.',\n",
       " '1982-03-20 \\nBy Robert Harrison',\n",
       " 'sing couple establish\\n\\n 1984-09-14 \\nBy Cody Giles \\n\\nHot send religious possible. Light feel build wish someone them.\\nShow keep moment rest medical wife. Some strong despite movement hair three design. How sure design.',\n",
       " 'sing couple establish\\n\\n 1984-09-14 \\nBy Cody Giles \\n\\nHot send religious possible. Light feel build wish someone them.\\nShow keep moment rest medical wife. Some strong despite movement hair three design. How sure design.',\n",
       " '1984-09-14 \\nBy Cody Giles',\n",
       " 'sort mission agreement\\n\\n 2015-07-15 \\nBy Breanna Howard \\n\\nManage talk movie benefit write. Church Congress add rich whatever music read.\\nSince check because personal rich determine environmental. Old budget for make. Believe current rest investment might ability.',\n",
       " 'sort mission agreement\\n\\n 2015-07-15 \\nBy Breanna Howard \\n\\nManage talk movie benefit write. Church Congress add rich whatever music read.\\nSince check because personal rich determine environmental. Old budget for make. Believe current rest investment might ability.',\n",
       " '2015-07-15 \\nBy Breanna Howard',\n",
       " 'fill weight smile\\n\\n 1999-06-22 \\nBy Kathy Ward \\n\\nWater however several sister chance. After deal name image door market everyone defense. Important involve fire yet direction join exist bring.\\nOver development probably receive investment. Material individual everybody. Great tree themselves campaign.',\n",
       " 'fill weight smile\\n\\n 1999-06-22 \\nBy Kathy Ward \\n\\nWater however several sister chance. After deal name image door market everyone defense. Important involve fire yet direction join exist bring.\\nOver development probably receive investment. Material individual everybody. Great tree themselves campaign.',\n",
       " '1999-06-22 \\nBy Kathy Ward',\n",
       " 'page radio talk\\n\\n 1982-11-14 \\nBy Robert Petty \\n\\nGrowth focus certain above evidence maybe. Why address easy from. Hit focus appear other data best get information.\\nThe sing clearly prepare trade set. Marriage close recognize per.',\n",
       " 'page radio talk\\n\\n 1982-11-14 \\nBy Robert Petty \\n\\nGrowth focus certain above evidence maybe. Why address easy from. Hit focus appear other data best get information.\\nThe sing clearly prepare trade set. Marriage close recognize per.',\n",
       " '1982-11-14 \\nBy Robert Petty',\n",
       " 'coach someone everybody\\n\\n 2015-12-14 \\nBy Nichole Hull \\n\\nService score as new rather. Clearly moment factor she. Tax pattern name watch enter investment. Administration student cut court maybe go set.\\nCulture organization life whom. Or his develop still near control. Job hard finish product.',\n",
       " 'coach someone everybody\\n\\n 2015-12-14 \\nBy Nichole Hull \\n\\nService score as new rather. Clearly moment factor she. Tax pattern name watch enter investment. Administration student cut court maybe go set.\\nCulture organization life whom. Or his develop still near control. Job hard finish product.',\n",
       " '2015-12-14 \\nBy Nichole Hull',\n",
       " 'third according office\\n\\n 2018-07-27 \\nBy Angela Nguyen \\n\\nMind sign good piece step. School green parent wind remember.\\nDecision treatment sell himself today half. Doctor strategy much I themselves no cultural.',\n",
       " 'third according office\\n\\n 2018-07-27 \\nBy Angela Nguyen \\n\\nMind sign good piece step. School green parent wind remember.\\nDecision treatment sell himself today half. Doctor strategy much I themselves no cultural.',\n",
       " '2018-07-27 \\nBy Angela Nguyen',\n",
       " 'road bed city\\n\\n 1981-02-25 \\nBy Rebekah Greer \\n\\nGrowth sure bed process baby. Draw miss argue. Him surface meet research long listen next all.\\nWeek power thousand expert take page. Myself professional you plan memory.',\n",
       " 'road bed city\\n\\n 1981-02-25 \\nBy Rebekah Greer \\n\\nGrowth sure bed process baby. Draw miss argue. Him surface meet research long listen next all.\\nWeek power thousand expert take page. Myself professional you plan memory.',\n",
       " '1981-02-25 \\nBy Rebekah Greer']"
      ]
     },
     "execution_count": 52,
     "metadata": {},
     "output_type": "execute_result"
    }
   ],
   "source": [
    "[thing.text.strip() for thing in soup2.select('div')]"
   ]
  },
  {
   "cell_type": "code",
   "execution_count": 58,
   "id": "05eaf386-f96a-46b6-be08-b66fe30dba3d",
   "metadata": {},
   "outputs": [
    {
     "data": {
      "text/plain": [
       "['record trade think\\n\\n 2021-08-13 \\nBy Christopher Meyers \\n\\nOrganization kind possible two government four vote. Moment event minute board close. Environment room purpose approach green at air.\\nRock student stand.',\n",
       " 'behavior walk through\\n\\n 1989-08-09 \\nBy Michelle Schwartz \\n\\nExpect color difficult one production.\\nRecent stay form inside. Part continue find contain information itself summer news. Her cause fish join through yeah.',\n",
       " 'society really name\\n\\n 2020-08-31 \\nBy Colton Perez \\n\\nForeign wide new lay defense. Until young nor toward fire nation yeah. Produce easy point have anything provide conference.\\nMonth fear determine back itself. Ok fire or thing music. Performance Republican later.',\n",
       " 'method bank especially\\n\\n 2005-08-12 \\nBy Carrie Santos \\n\\nHeavy generation somebody ground. Blood tend right mission. Program western dinner on morning.\\nMeasure able say reach level official describe. Through save outside floor. Foreign military research agree.',\n",
       " 'chair draw the\\n\\n 1982-03-20 \\nBy Robert Harrison \\n\\nBefore four prepare drop treat play not. Much increase time picture coach sure instead.\\nThese anything political test audience current grow. Me role spend management direction short trouble. President budget fear painting.',\n",
       " 'sing couple establish\\n\\n 1984-09-14 \\nBy Cody Giles \\n\\nHot send religious possible. Light feel build wish someone them.\\nShow keep moment rest medical wife. Some strong despite movement hair three design. How sure design.',\n",
       " 'sort mission agreement\\n\\n 2015-07-15 \\nBy Breanna Howard \\n\\nManage talk movie benefit write. Church Congress add rich whatever music read.\\nSince check because personal rich determine environmental. Old budget for make. Believe current rest investment might ability.',\n",
       " 'fill weight smile\\n\\n 1999-06-22 \\nBy Kathy Ward \\n\\nWater however several sister chance. After deal name image door market everyone defense. Important involve fire yet direction join exist bring.\\nOver development probably receive investment. Material individual everybody. Great tree themselves campaign.',\n",
       " 'page radio talk\\n\\n 1982-11-14 \\nBy Robert Petty \\n\\nGrowth focus certain above evidence maybe. Why address easy from. Hit focus appear other data best get information.\\nThe sing clearly prepare trade set. Marriage close recognize per.',\n",
       " 'coach someone everybody\\n\\n 2015-12-14 \\nBy Nichole Hull \\n\\nService score as new rather. Clearly moment factor she. Tax pattern name watch enter investment. Administration student cut court maybe go set.\\nCulture organization life whom. Or his develop still near control. Job hard finish product.',\n",
       " 'third according office\\n\\n 2018-07-27 \\nBy Angela Nguyen \\n\\nMind sign good piece step. School green parent wind remember.\\nDecision treatment sell himself today half. Doctor strategy much I themselves no cultural.',\n",
       " 'road bed city\\n\\n 1981-02-25 \\nBy Rebekah Greer \\n\\nGrowth sure bed process baby. Draw miss argue. Him surface meet research long listen next all.\\nWeek power thousand expert take page. Myself professional you plan memory.']"
      ]
     },
     "execution_count": 58,
     "metadata": {},
     "output_type": "execute_result"
    }
   ],
   "source": [
    "[thing.text.strip() for thing in soup2.select('div.grid.grid-cols-4')]"
   ]
  },
  {
   "cell_type": "code",
   "execution_count": 59,
   "id": "2ef59920-43bd-4b19-856b-e1dd52fa57e1",
   "metadata": {},
   "outputs": [],
   "source": [
    "articles = [thing.text.strip() for thing in soup2.select('div.grid.grid-cols-4')]"
   ]
  },
  {
   "cell_type": "code",
   "execution_count": 60,
   "id": "2dde5296-daf9-45fa-9702-8b1fde0f638c",
   "metadata": {},
   "outputs": [
    {
     "data": {
      "text/plain": [
       "'record trade think\\n\\n 2021-08-13 \\nBy Christopher Meyers \\n\\nOrganization kind possible two government four vote. Moment event minute board close. Environment room purpose approach green at air.\\nRock student stand.'"
      ]
     },
     "execution_count": 60,
     "metadata": {},
     "output_type": "execute_result"
    }
   ],
   "source": [
    "articles[0]"
   ]
  },
  {
   "cell_type": "code",
   "execution_count": 63,
   "id": "5ccb43b5-a87a-49af-8f74-113f04c0526a",
   "metadata": {},
   "outputs": [],
   "source": [
    "new_articles = soup2.select('div.grid.grid-cols-4')"
   ]
  },
  {
   "cell_type": "code",
   "execution_count": 64,
   "id": "8617d8d7-804b-4129-a7b1-acc50c4c6fb9",
   "metadata": {},
   "outputs": [
    {
     "data": {
      "text/plain": [
       "[<div class=\"grid grid-cols-4 gap-x-4 border rounded pr-3 bg-green-50 hover:shadow-lg transition duration-500\">\n",
       " <img src=\"/static/placeholder.png\"/>\n",
       " <div class=\"col-span-3 space-y-3 py-3\">\n",
       " <h2 class=\"text-2xl text-green-900\">record trade think</h2>\n",
       " <div class=\"grid grid-cols-2 italic\">\n",
       " <p> 2021-08-13 </p>\n",
       " <p class=\"text-right\">By Christopher Meyers </p>\n",
       " </div>\n",
       " <p>Organization kind possible two government four vote. Moment event minute board close. Environment room purpose approach green at air.\n",
       " Rock student stand.</p>\n",
       " </div>\n",
       " </div>,\n",
       " <div class=\"grid grid-cols-4 gap-x-4 border rounded pr-3 bg-green-50 hover:shadow-lg transition duration-500\">\n",
       " <img src=\"/static/placeholder.png\"/>\n",
       " <div class=\"col-span-3 space-y-3 py-3\">\n",
       " <h2 class=\"text-2xl text-green-900\">behavior walk through</h2>\n",
       " <div class=\"grid grid-cols-2 italic\">\n",
       " <p> 1989-08-09 </p>\n",
       " <p class=\"text-right\">By Michelle Schwartz </p>\n",
       " </div>\n",
       " <p>Expect color difficult one production.\n",
       " Recent stay form inside. Part continue find contain information itself summer news. Her cause fish join through yeah.</p>\n",
       " </div>\n",
       " </div>,\n",
       " <div class=\"grid grid-cols-4 gap-x-4 border rounded pr-3 bg-green-50 hover:shadow-lg transition duration-500\">\n",
       " <img src=\"/static/placeholder.png\"/>\n",
       " <div class=\"col-span-3 space-y-3 py-3\">\n",
       " <h2 class=\"text-2xl text-green-900\">society really name</h2>\n",
       " <div class=\"grid grid-cols-2 italic\">\n",
       " <p> 2020-08-31 </p>\n",
       " <p class=\"text-right\">By Colton Perez </p>\n",
       " </div>\n",
       " <p>Foreign wide new lay defense. Until young nor toward fire nation yeah. Produce easy point have anything provide conference.\n",
       " Month fear determine back itself. Ok fire or thing music. Performance Republican later.</p>\n",
       " </div>\n",
       " </div>,\n",
       " <div class=\"grid grid-cols-4 gap-x-4 border rounded pr-3 bg-green-50 hover:shadow-lg transition duration-500\">\n",
       " <img src=\"/static/placeholder.png\"/>\n",
       " <div class=\"col-span-3 space-y-3 py-3\">\n",
       " <h2 class=\"text-2xl text-green-900\">method bank especially</h2>\n",
       " <div class=\"grid grid-cols-2 italic\">\n",
       " <p> 2005-08-12 </p>\n",
       " <p class=\"text-right\">By Carrie Santos </p>\n",
       " </div>\n",
       " <p>Heavy generation somebody ground. Blood tend right mission. Program western dinner on morning.\n",
       " Measure able say reach level official describe. Through save outside floor. Foreign military research agree.</p>\n",
       " </div>\n",
       " </div>,\n",
       " <div class=\"grid grid-cols-4 gap-x-4 border rounded pr-3 bg-green-50 hover:shadow-lg transition duration-500\">\n",
       " <img src=\"/static/placeholder.png\"/>\n",
       " <div class=\"col-span-3 space-y-3 py-3\">\n",
       " <h2 class=\"text-2xl text-green-900\">chair draw the</h2>\n",
       " <div class=\"grid grid-cols-2 italic\">\n",
       " <p> 1982-03-20 </p>\n",
       " <p class=\"text-right\">By Robert Harrison </p>\n",
       " </div>\n",
       " <p>Before four prepare drop treat play not. Much increase time picture coach sure instead.\n",
       " These anything political test audience current grow. Me role spend management direction short trouble. President budget fear painting.</p>\n",
       " </div>\n",
       " </div>,\n",
       " <div class=\"grid grid-cols-4 gap-x-4 border rounded pr-3 bg-green-50 hover:shadow-lg transition duration-500\">\n",
       " <img src=\"/static/placeholder.png\"/>\n",
       " <div class=\"col-span-3 space-y-3 py-3\">\n",
       " <h2 class=\"text-2xl text-green-900\">sing couple establish</h2>\n",
       " <div class=\"grid grid-cols-2 italic\">\n",
       " <p> 1984-09-14 </p>\n",
       " <p class=\"text-right\">By Cody Giles </p>\n",
       " </div>\n",
       " <p>Hot send religious possible. Light feel build wish someone them.\n",
       " Show keep moment rest medical wife. Some strong despite movement hair three design. How sure design.</p>\n",
       " </div>\n",
       " </div>,\n",
       " <div class=\"grid grid-cols-4 gap-x-4 border rounded pr-3 bg-green-50 hover:shadow-lg transition duration-500\">\n",
       " <img src=\"/static/placeholder.png\"/>\n",
       " <div class=\"col-span-3 space-y-3 py-3\">\n",
       " <h2 class=\"text-2xl text-green-900\">sort mission agreement</h2>\n",
       " <div class=\"grid grid-cols-2 italic\">\n",
       " <p> 2015-07-15 </p>\n",
       " <p class=\"text-right\">By Breanna Howard </p>\n",
       " </div>\n",
       " <p>Manage talk movie benefit write. Church Congress add rich whatever music read.\n",
       " Since check because personal rich determine environmental. Old budget for make. Believe current rest investment might ability.</p>\n",
       " </div>\n",
       " </div>,\n",
       " <div class=\"grid grid-cols-4 gap-x-4 border rounded pr-3 bg-green-50 hover:shadow-lg transition duration-500\">\n",
       " <img src=\"/static/placeholder.png\"/>\n",
       " <div class=\"col-span-3 space-y-3 py-3\">\n",
       " <h2 class=\"text-2xl text-green-900\">fill weight smile</h2>\n",
       " <div class=\"grid grid-cols-2 italic\">\n",
       " <p> 1999-06-22 </p>\n",
       " <p class=\"text-right\">By Kathy Ward </p>\n",
       " </div>\n",
       " <p>Water however several sister chance. After deal name image door market everyone defense. Important involve fire yet direction join exist bring.\n",
       " Over development probably receive investment. Material individual everybody. Great tree themselves campaign.</p>\n",
       " </div>\n",
       " </div>,\n",
       " <div class=\"grid grid-cols-4 gap-x-4 border rounded pr-3 bg-green-50 hover:shadow-lg transition duration-500\">\n",
       " <img src=\"/static/placeholder.png\"/>\n",
       " <div class=\"col-span-3 space-y-3 py-3\">\n",
       " <h2 class=\"text-2xl text-green-900\">page radio talk</h2>\n",
       " <div class=\"grid grid-cols-2 italic\">\n",
       " <p> 1982-11-14 </p>\n",
       " <p class=\"text-right\">By Robert Petty </p>\n",
       " </div>\n",
       " <p>Growth focus certain above evidence maybe. Why address easy from. Hit focus appear other data best get information.\n",
       " The sing clearly prepare trade set. Marriage close recognize per.</p>\n",
       " </div>\n",
       " </div>,\n",
       " <div class=\"grid grid-cols-4 gap-x-4 border rounded pr-3 bg-green-50 hover:shadow-lg transition duration-500\">\n",
       " <img src=\"/static/placeholder.png\"/>\n",
       " <div class=\"col-span-3 space-y-3 py-3\">\n",
       " <h2 class=\"text-2xl text-green-900\">coach someone everybody</h2>\n",
       " <div class=\"grid grid-cols-2 italic\">\n",
       " <p> 2015-12-14 </p>\n",
       " <p class=\"text-right\">By Nichole Hull </p>\n",
       " </div>\n",
       " <p>Service score as new rather. Clearly moment factor she. Tax pattern name watch enter investment. Administration student cut court maybe go set.\n",
       " Culture organization life whom. Or his develop still near control. Job hard finish product.</p>\n",
       " </div>\n",
       " </div>,\n",
       " <div class=\"grid grid-cols-4 gap-x-4 border rounded pr-3 bg-green-50 hover:shadow-lg transition duration-500\">\n",
       " <img src=\"/static/placeholder.png\"/>\n",
       " <div class=\"col-span-3 space-y-3 py-3\">\n",
       " <h2 class=\"text-2xl text-green-900\">third according office</h2>\n",
       " <div class=\"grid grid-cols-2 italic\">\n",
       " <p> 2018-07-27 </p>\n",
       " <p class=\"text-right\">By Angela Nguyen </p>\n",
       " </div>\n",
       " <p>Mind sign good piece step. School green parent wind remember.\n",
       " Decision treatment sell himself today half. Doctor strategy much I themselves no cultural.</p>\n",
       " </div>\n",
       " </div>,\n",
       " <div class=\"grid grid-cols-4 gap-x-4 border rounded pr-3 bg-green-50 hover:shadow-lg transition duration-500\">\n",
       " <img src=\"/static/placeholder.png\"/>\n",
       " <div class=\"col-span-3 space-y-3 py-3\">\n",
       " <h2 class=\"text-2xl text-green-900\">road bed city</h2>\n",
       " <div class=\"grid grid-cols-2 italic\">\n",
       " <p> 1981-02-25 </p>\n",
       " <p class=\"text-right\">By Rebekah Greer </p>\n",
       " </div>\n",
       " <p>Growth sure bed process baby. Draw miss argue. Him surface meet research long listen next all.\n",
       " Week power thousand expert take page. Myself professional you plan memory.</p>\n",
       " </div>\n",
       " </div>]"
      ]
     },
     "execution_count": 64,
     "metadata": {},
     "output_type": "execute_result"
    }
   ],
   "source": [
    "new_articles"
   ]
  },
  {
   "cell_type": "code",
   "execution_count": 67,
   "id": "8745501d-361b-4a88-a2b5-54b22051ff5b",
   "metadata": {},
   "outputs": [],
   "source": [
    "def get_article_content(some_article):\n",
    "    '''\n",
    "    '''\n",
    "    output = {}\n",
    "    output['headline'] = some_article.find_all('h2').text.strip()\n",
    "    output['date'], output['author'], output['content'] =\\\n",
    "    some_article.find_all('p').text.strip()"
   ]
  },
  {
   "cell_type": "code",
   "execution_count": 68,
   "id": "aab33855-6c9e-49e8-af4e-28d33e1b0557",
   "metadata": {},
   "outputs": [
    {
     "ename": "AttributeError",
     "evalue": "ResultSet object has no attribute 'find_all'. You're probably treating a list of elements like a single element. Did you call find_all() when you meant to call find()?",
     "output_type": "error",
     "traceback": [
      "\u001b[0;31m---------------------------------------------------------------------------\u001b[0m",
      "\u001b[0;31mAttributeError\u001b[0m                            Traceback (most recent call last)",
      "Input \u001b[0;32mIn [68]\u001b[0m, in \u001b[0;36m<cell line: 1>\u001b[0;34m()\u001b[0m\n\u001b[0;32m----> 1\u001b[0m \u001b[43mget_article_content\u001b[49m\u001b[43m(\u001b[49m\u001b[43mnew_articles\u001b[49m\u001b[43m)\u001b[49m\n",
      "Input \u001b[0;32mIn [67]\u001b[0m, in \u001b[0;36mget_article_content\u001b[0;34m(some_article)\u001b[0m\n\u001b[1;32m      2\u001b[0m \u001b[38;5;124;03m'''\u001b[39;00m\n\u001b[1;32m      3\u001b[0m \u001b[38;5;124;03m'''\u001b[39;00m\n\u001b[1;32m      4\u001b[0m output \u001b[38;5;241m=\u001b[39m {}\n\u001b[0;32m----> 5\u001b[0m output[\u001b[38;5;124m'\u001b[39m\u001b[38;5;124mheadline\u001b[39m\u001b[38;5;124m'\u001b[39m] \u001b[38;5;241m=\u001b[39m \u001b[43msome_article\u001b[49m\u001b[38;5;241;43m.\u001b[39;49m\u001b[43mfind_all\u001b[49m(\u001b[38;5;124m'\u001b[39m\u001b[38;5;124mh2\u001b[39m\u001b[38;5;124m'\u001b[39m)\u001b[38;5;241m.\u001b[39mtext\u001b[38;5;241m.\u001b[39mstrip()\n\u001b[1;32m      6\u001b[0m output[\u001b[38;5;124m'\u001b[39m\u001b[38;5;124mdate\u001b[39m\u001b[38;5;124m'\u001b[39m], output[\u001b[38;5;124m'\u001b[39m\u001b[38;5;124mauthor\u001b[39m\u001b[38;5;124m'\u001b[39m], output[\u001b[38;5;124m'\u001b[39m\u001b[38;5;124mcontent\u001b[39m\u001b[38;5;124m'\u001b[39m] \u001b[38;5;241m=\u001b[39m\\\n\u001b[1;32m      7\u001b[0m some_article\u001b[38;5;241m.\u001b[39mfind_all(\u001b[38;5;124m'\u001b[39m\u001b[38;5;124mp\u001b[39m\u001b[38;5;124m'\u001b[39m)\u001b[38;5;241m.\u001b[39mtext\u001b[38;5;241m.\u001b[39mstrip()\n",
      "File \u001b[0;32m/opt/homebrew/anaconda3/lib/python3.9/site-packages/bs4/element.py:2289\u001b[0m, in \u001b[0;36mResultSet.__getattr__\u001b[0;34m(self, key)\u001b[0m\n\u001b[1;32m   2287\u001b[0m \u001b[38;5;28;01mdef\u001b[39;00m \u001b[38;5;21m__getattr__\u001b[39m(\u001b[38;5;28mself\u001b[39m, key):\n\u001b[1;32m   2288\u001b[0m     \u001b[38;5;124;03m\"\"\"Raise a helpful exception to explain a common code fix.\"\"\"\u001b[39;00m\n\u001b[0;32m-> 2289\u001b[0m     \u001b[38;5;28;01mraise\u001b[39;00m \u001b[38;5;167;01mAttributeError\u001b[39;00m(\n\u001b[1;32m   2290\u001b[0m         \u001b[38;5;124m\"\u001b[39m\u001b[38;5;124mResultSet object has no attribute \u001b[39m\u001b[38;5;124m'\u001b[39m\u001b[38;5;132;01m%s\u001b[39;00m\u001b[38;5;124m'\u001b[39m\u001b[38;5;124m. You\u001b[39m\u001b[38;5;124m'\u001b[39m\u001b[38;5;124mre probably treating a list of elements like a single element. Did you call find_all() when you meant to call find()?\u001b[39m\u001b[38;5;124m\"\u001b[39m \u001b[38;5;241m%\u001b[39m key\n\u001b[1;32m   2291\u001b[0m     )\n",
      "\u001b[0;31mAttributeError\u001b[0m: ResultSet object has no attribute 'find_all'. You're probably treating a list of elements like a single element. Did you call find_all() when you meant to call find()?"
     ]
    }
   ],
   "source": [
    "get_article_content(new_articles)"
   ]
  },
  {
   "cell_type": "code",
   "execution_count": null,
   "id": "1612f3f4-52de-4fc3-a917-e16efb8dde82",
   "metadata": {},
   "outputs": [],
   "source": []
  },
  {
   "cell_type": "code",
   "execution_count": null,
   "id": "0cea9b18-29b8-4285-8e9a-6fcbbd25210d",
   "metadata": {},
   "outputs": [],
   "source": []
  },
  {
   "cell_type": "code",
   "execution_count": null,
   "id": "77a0856d-7085-4513-ba61-7e3d639bf9c0",
   "metadata": {},
   "outputs": [],
   "source": []
  },
  {
   "cell_type": "code",
   "execution_count": null,
   "id": "fe6655a3-c349-496f-9672-5f556ba95166",
   "metadata": {},
   "outputs": [],
   "source": []
  },
  {
   "cell_type": "code",
   "execution_count": null,
   "id": "9b0f8b12-a37c-4412-b2a2-133b5dd2cc70",
   "metadata": {},
   "outputs": [],
   "source": []
  },
  {
   "cell_type": "code",
   "execution_count": null,
   "id": "f88681fc-7ae9-4c54-8e9c-487916903b22",
   "metadata": {},
   "outputs": [],
   "source": [
    "\n"
   ]
  },
  {
   "cell_type": "code",
   "execution_count": null,
   "id": "93cd10ed-0f47-424c-a15f-4beed928ad2a",
   "metadata": {},
   "outputs": [],
   "source": []
  },
  {
   "cell_type": "code",
   "execution_count": null,
   "id": "2e3268cf",
   "metadata": {},
   "outputs": [],
   "source": []
  },
  {
   "cell_type": "code",
   "execution_count": null,
   "id": "b021ef34",
   "metadata": {},
   "outputs": [],
   "source": []
  },
  {
   "cell_type": "code",
   "execution_count": null,
   "id": "d1e97766",
   "metadata": {},
   "outputs": [],
   "source": []
  },
  {
   "cell_type": "code",
   "execution_count": null,
   "id": "361a4268",
   "metadata": {},
   "outputs": [],
   "source": []
  },
  {
   "cell_type": "code",
   "execution_count": null,
   "id": "a9e8bdd8",
   "metadata": {},
   "outputs": [],
   "source": []
  },
  {
   "cell_type": "code",
   "execution_count": null,
   "id": "24782118",
   "metadata": {},
   "outputs": [],
   "source": []
  },
  {
   "cell_type": "code",
   "execution_count": null,
   "id": "3800259e",
   "metadata": {},
   "outputs": [],
   "source": []
  },
  {
   "cell_type": "code",
   "execution_count": null,
   "id": "717508a1",
   "metadata": {},
   "outputs": [],
   "source": []
  },
  {
   "cell_type": "code",
   "execution_count": null,
   "id": "1024062b",
   "metadata": {},
   "outputs": [],
   "source": []
  },
  {
   "cell_type": "code",
   "execution_count": null,
   "id": "86367a18",
   "metadata": {},
   "outputs": [],
   "source": []
  },
  {
   "cell_type": "code",
   "execution_count": null,
   "id": "0e367c18",
   "metadata": {},
   "outputs": [],
   "source": []
  },
  {
   "cell_type": "code",
   "execution_count": null,
   "id": "6177d9b2",
   "metadata": {},
   "outputs": [],
   "source": []
  },
  {
   "cell_type": "code",
   "execution_count": null,
   "id": "8f6fe0bf",
   "metadata": {},
   "outputs": [],
   "source": []
  },
  {
   "cell_type": "code",
   "execution_count": null,
   "id": "bf3886e8",
   "metadata": {},
   "outputs": [],
   "source": []
  },
  {
   "cell_type": "code",
   "execution_count": null,
   "id": "b52e3c22",
   "metadata": {},
   "outputs": [],
   "source": []
  },
  {
   "cell_type": "code",
   "execution_count": null,
   "id": "d60dad2b",
   "metadata": {},
   "outputs": [],
   "source": []
  },
  {
   "cell_type": "code",
   "execution_count": null,
   "id": "726d48a9",
   "metadata": {},
   "outputs": [],
   "source": []
  },
  {
   "cell_type": "code",
   "execution_count": null,
   "id": "44156a2f",
   "metadata": {},
   "outputs": [],
   "source": []
  },
  {
   "cell_type": "code",
   "execution_count": null,
   "id": "ac1823da",
   "metadata": {},
   "outputs": [],
   "source": []
  },
  {
   "cell_type": "code",
   "execution_count": null,
   "id": "434987aa",
   "metadata": {},
   "outputs": [],
   "source": []
  },
  {
   "cell_type": "code",
   "execution_count": null,
   "id": "914ffbbf",
   "metadata": {
    "tags": []
   },
   "outputs": [],
   "source": []
  },
  {
   "cell_type": "code",
   "execution_count": null,
   "id": "362af8f1",
   "metadata": {},
   "outputs": [],
   "source": []
  },
  {
   "cell_type": "code",
   "execution_count": null,
   "id": "d30e5174",
   "metadata": {},
   "outputs": [],
   "source": []
  },
  {
   "cell_type": "code",
   "execution_count": null,
   "id": "22861439",
   "metadata": {},
   "outputs": [],
   "source": []
  },
  {
   "cell_type": "code",
   "execution_count": null,
   "id": "dbad6b65",
   "metadata": {},
   "outputs": [],
   "source": []
  },
  {
   "cell_type": "code",
   "execution_count": null,
   "id": "779b891c",
   "metadata": {},
   "outputs": [],
   "source": []
  },
  {
   "cell_type": "code",
   "execution_count": null,
   "id": "bf1515f5",
   "metadata": {},
   "outputs": [],
   "source": [
    "# Use dictionary syntax to access the attribute values\n"
   ]
  },
  {
   "cell_type": "code",
   "execution_count": null,
   "id": "b46719f1",
   "metadata": {},
   "outputs": [],
   "source": []
  },
  {
   "cell_type": "code",
   "execution_count": null,
   "id": "56a9a004",
   "metadata": {},
   "outputs": [],
   "source": []
  },
  {
   "cell_type": "code",
   "execution_count": null,
   "id": "2984b122",
   "metadata": {},
   "outputs": [],
   "source": []
  },
  {
   "cell_type": "code",
   "execution_count": null,
   "id": "42a7daab",
   "metadata": {},
   "outputs": [],
   "source": []
  },
  {
   "cell_type": "code",
   "execution_count": null,
   "id": "39b74528",
   "metadata": {},
   "outputs": [],
   "source": []
  },
  {
   "cell_type": "code",
   "execution_count": null,
   "id": "39a72376",
   "metadata": {},
   "outputs": [],
   "source": [
    "# How to get all of the URLs from each link\n"
   ]
  },
  {
   "cell_type": "code",
   "execution_count": null,
   "id": "1ae200c9",
   "metadata": {},
   "outputs": [],
   "source": []
  },
  {
   "cell_type": "code",
   "execution_count": null,
   "id": "70a79090",
   "metadata": {},
   "outputs": [],
   "source": [
    "# .select and .select_one take CSS selectors\n",
    "# elements themselves are a string of that element\n"
   ]
  },
  {
   "cell_type": "code",
   "execution_count": null,
   "id": "73ee6f68",
   "metadata": {},
   "outputs": [],
   "source": []
  },
  {
   "cell_type": "code",
   "execution_count": null,
   "id": "0115d09b",
   "metadata": {},
   "outputs": [],
   "source": [
    "# .class_name the . means \"hey, I'm looking for a class\"\n"
   ]
  },
  {
   "cell_type": "code",
   "execution_count": null,
   "id": "c500d36d",
   "metadata": {},
   "outputs": [],
   "source": []
  },
  {
   "cell_type": "code",
   "execution_count": null,
   "id": "64c71af3",
   "metadata": {},
   "outputs": [],
   "source": []
  },
  {
   "cell_type": "code",
   "execution_count": null,
   "id": "5c38f8b5",
   "metadata": {},
   "outputs": [],
   "source": []
  },
  {
   "cell_type": "code",
   "execution_count": null,
   "id": "8a718a9b",
   "metadata": {},
   "outputs": [],
   "source": []
  },
  {
   "cell_type": "code",
   "execution_count": null,
   "id": "83122626",
   "metadata": {},
   "outputs": [],
   "source": []
  },
  {
   "cell_type": "code",
   "execution_count": null,
   "id": "ce4c1df2",
   "metadata": {},
   "outputs": [],
   "source": []
  },
  {
   "cell_type": "code",
   "execution_count": null,
   "id": "73a934ff",
   "metadata": {},
   "outputs": [],
   "source": []
  },
  {
   "cell_type": "code",
   "execution_count": null,
   "id": "47622a07",
   "metadata": {},
   "outputs": [],
   "source": []
  },
  {
   "cell_type": "code",
   "execution_count": null,
   "id": "55845f7b",
   "metadata": {},
   "outputs": [],
   "source": []
  },
  {
   "cell_type": "code",
   "execution_count": null,
   "id": "d6afea79",
   "metadata": {},
   "outputs": [],
   "source": []
  }
 ],
 "metadata": {
  "kernelspec": {
   "display_name": "Python 3 (ipykernel)",
   "language": "python",
   "name": "python3"
  },
  "language_info": {
   "codemirror_mode": {
    "name": "ipython",
    "version": 3
   },
   "file_extension": ".py",
   "mimetype": "text/x-python",
   "name": "python",
   "nbconvert_exporter": "python",
   "pygments_lexer": "ipython3",
   "version": "3.9.12"
  }
 },
 "nbformat": 4,
 "nbformat_minor": 5
}
